{
 "cells": [
  {
   "cell_type": "markdown",
   "metadata": {},
   "source": [
    "# Open-EO Proof Of Concept: Compositing\n",
    "This notebook explains and demonstrates the OpenEO client API, as well as some concepts of the core API."
   ]
  },
  {
   "cell_type": "markdown",
   "metadata": {},
   "source": [
    "The OpenEO API can be accessed with the `openeo` client Python module. The dependencies of this module are limited to a set of well known modules such as numpy and pandas. This should allow it to run in different environments, and as part of larger workflows.\n",
    "\n",
    "Let's get started with importing the module."
   ]
  },
  {
   "cell_type": "code",
   "execution_count": 1,
   "metadata": {
    "pycharm": {
     "is_executing": false
    }
   },
   "outputs": [
    {
     "name": "stdout",
     "output_type": "stream",
     "text": [
      "Looking in indexes: https://artifactory.vgt.vito.be/api/pypi/python-packages/simple\n",
      "Requirement already satisfied: graphviz in /usr/local/lib/python3.6/site-packages (0.13)\n",
      "\u001b[33mWARNING: You are using pip version 19.3.1; however, version 21.3 is available.\n",
      "You should consider upgrading via the 'pip install --upgrade pip' command.\u001b[0m\n"
     ]
    }
   ],
   "source": [
    "!pip install --user graphviz\n",
    "\n",
    "import openeo\n",
    "import logging\n",
    "import pathlib\n",
    "%matplotlib inline"
   ]
  },
  {
   "cell_type": "code",
   "execution_count": 2,
   "metadata": {
    "pycharm": {
     "is_executing": false
    }
   },
   "outputs": [],
   "source": [
    "# logging.basicConfig(level=logging.DEBUG)"
   ]
  },
  {
   "cell_type": "markdown",
   "metadata": {},
   "source": [
    "To connect with an OpenEO backend, we create a session. Each OpenEO backend has a different endpoint, metadata and credentials. A session object contains this information, and is the starting point for subsequent calls. "
   ]
  },
  {
   "cell_type": "code",
   "execution_count": 3,
   "metadata": {
    "pycharm": {
     "is_executing": false
    }
   },
   "outputs": [
    {
     "name": "stdout",
     "output_type": "stream",
     "text": [
      "Authenticated using refresh token.\n"
     ]
    }
   ],
   "source": [
    "session = openeo.connect(\"http://openeo.vgt.vito.be\").authenticate_oidc('egi')"
   ]
  },
  {
   "cell_type": "markdown",
   "metadata": {},
   "source": [
    "## Loading a collection\n",
    "\n",
    "Our first use case is to create a composite image by taking the maximum pixel value over a timeseries of images.\n",
    "To do this, we first need to select input data. Each OpenEO endpoint exposes it's own list of image collections."
   ]
  },
  {
   "cell_type": "code",
   "execution_count": 4,
   "metadata": {
    "pycharm": {
     "is_executing": false
    }
   },
   "outputs": [
    {
     "data": {
      "text/plain": [
       "['S1_GRD_SIGMA0_ASCENDING',\n",
       " 'S1_GRD_SIGMA0_DESCENDING',\n",
       " 'TERRASCOPE_S2_FAPAR_V2',\n",
       " 'TERRASCOPE_S2_NDVI_V2',\n",
       " 'TERRASCOPE_S2_LAI_V2',\n",
       " 'TERRASCOPE_S2_FCOVER_V2',\n",
       " 'TERRASCOPE_S2_TOC_V2',\n",
       " 'TERRASCOPE_S1_SLC_COHERENCE_V1',\n",
       " 'PROBAV_L3_S10_TOC_333M',\n",
       " 'PROBAV_L3_S5_TOC_100M',\n",
       " 'TERRASCOPE_S5P_L3_NO2_TD_V1',\n",
       " 'TERRASCOPE_S5P_L3_NO2_TM_V1',\n",
       " 'TERRASCOPE_S5P_L3_NO2_TY_V1',\n",
       " 'TERRASCOPE_S5P_L3_CO_TD_V1',\n",
       " 'TERRASCOPE_S5P_L3_CO_TM_V1',\n",
       " 'TERRASCOPE_S5P_L3_CO_TY_V1',\n",
       " 'COPERNICUS_30',\n",
       " 'COPERNICUS_90',\n",
       " 'TERRASCOPE_S2_RHOW_V1',\n",
       " 'TERRASCOPE_S2_CHL_V1',\n",
       " 'TERRASCOPE_S2_SPM_V1',\n",
       " 'TERRASCOPE_S2_TUR_V1',\n",
       " 'TEST_LAYER',\n",
       " 'CGLS_FAPAR_V2_GLOBAL',\n",
       " 'CGLS_LAI_V2_GLOBAL',\n",
       " 'CGLS_LAI300_V1_GLOBAL',\n",
       " 'CGLS_NDVI300_V1_GLOBAL',\n",
       " 'CGLS_NDVI_V2_GLOBAL',\n",
       " 'TERRASCOPE_S1_GAMMA0_V1',\n",
       " 'PROBAV_L3_S10_TOC_NDVI_333M',\n",
       " 'SENTINEL1_GAMMA0_SENTINELHUB',\n",
       " 'SENTINEL1_GRD',\n",
       " 'SENTINEL2_L1C_SENTINELHUB',\n",
       " 'SENTINEL2_L2A_SENTINELHUB',\n",
       " 'AGERA5',\n",
       " 'LANDSAT8_L1',\n",
       " 'LANDSAT8_L2',\n",
       " 'LANDSAT4-5_TM_L1',\n",
       " 'LANDSAT4-5_TM_L2',\n",
       " 'MODIS',\n",
       " 'SENTINEL3_SLSTR']"
      ]
     },
     "execution_count": 4,
     "metadata": {},
     "output_type": "execute_result"
    }
   ],
   "source": [
    "session.list_collection_ids()"
   ]
  },
  {
   "cell_type": "markdown",
   "metadata": {},
   "source": [
    "Let's take Sentinel-2 radiometry data."
   ]
  },
  {
   "cell_type": "code",
   "execution_count": 5,
   "metadata": {
    "pycharm": {
     "is_executing": false
    }
   },
   "outputs": [
    {
     "data": {
      "text/html": [
       "\n",
       "    <script>\n",
       "    if (!window.customElements || !window.customElements.get('openeo-collection')) {\n",
       "        var el = document.createElement('script');\n",
       "        el.src = \"https://cdn.jsdelivr.net/npm/@openeo/vue-components@2/assets/openeo.min.js\";\n",
       "        document.head.appendChild(el);\n",
       "\n",
       "        var font = document.createElement('font');\n",
       "        font.as = \"font\";\n",
       "        font.type = \"font/woff2\";\n",
       "        font.crossOrigin = true;\n",
       "        font.href = \"https://use.fontawesome.com/releases/v5.13.0/webfonts/fa-solid-900.woff2\"\n",
       "        document.head.appendChild(font);\n",
       "    }\n",
       "    </script>\n",
       "    <openeo-collection>\n",
       "        <script type=\"application/json\">{\"data\": {\"assets\": {\"metadata_iso_19139\": {\"href\": \"https://services.terrascope.be/collectioncatalogue/srv/api/records/urn:eop:VITO:TERRASCOPE_S2_TOC_V2/formatters/xml?approved=true\", \"roles\": [\"metadata\", \"iso-19139\"], \"title\": \"ISO 19139 metadata\", \"type\": \"application/vnd.iso.19139+xml\"}, \"thumbnail\": {\"href\": \"https://collections.sentinel-hub.com/sentinel-2-l2a/sentinel-2-l2a.png\", \"roles\": [\"thumbnail\"], \"title\": \"Thumbnail\", \"type\": \"image/png\"}}, \"cube:dimensions\": {\"bands\": {\"type\": \"bands\", \"values\": [\"B01\", \"B02\", \"B03\", \"B04\", \"B05\", \"B06\", \"B07\", \"B08\", \"B8A\", \"B11\", \"B12\", \"SCL\", \"RAA_60M\", \"SZA_60M\", \"VZA_60M\"]}, \"t\": {\"extent\": [\"2015-07-06T00:00:00Z\", null], \"type\": \"temporal\"}, \"x\": {\"axis\": \"x\", \"extent\": [-180, 180], \"step\": 10, \"type\": \"spatial\"}, \"y\": {\"axis\": \"y\", \"extent\": [-56, 83], \"step\": 10, \"type\": \"spatial\"}}, \"description\": \"[Sentinel-2 Level 2A](https://docs.terrascope.be/#/DataProducts/Sentinel-2/Level2A/Level2A) product, processed from L1C by Sen2Cor. \\n Use the [Terrascope viewer](https://viewer.terrascope.be/?language=nl&bbox=0.9339867511378304,50.14520994379217,6.207424251137831,51.77292299745045&overlay=false&bgLayer=MapBox&date=2019-02-25T03:17:15.000Z&layer=CGS_S2_RADIOMETRY) to explore the data. \\n\\n \", \"extent\": {\"spatial\": {\"bbox\": [[-180, -56, 180, 83]]}, \"temporal\": {\"interval\": [[\"2015-07-06T00:00:00Z\", null]]}}, \"id\": \"TERRASCOPE_S2_TOC_V2\", \"keywords\": [\"VITO\", \"TERRASCOPE\", \"COPERNICUS\", \"ESA\", \"Orthoimagery\", \"SENTINEL-2\", \"MSI\", \"Level-2A\", \"Radiometry\", \"Plant Resource\", \"TOC\"], \"license\": \"proprietary\", \"links\": [{\"href\": \"https://sentinel.esa.int/documents/247904/690755/Sentinel_Data_Legal_Notice\", \"rel\": \"license\"}, {\"href\": \"https://services.terrascope.be/catalogue/description?collection=urn:eop:VITO:TERRASCOPE_S2_TOC_V2\", \"rel\": \"alternate\"}, {\"href\": \"https://viewer.terrascope.be/?language=nl&bbox=0.9339867511378304,50.14520994379217,6.207424251137831,51.77292299745045&overlay=false&bgLayer=MapBox&date=2019-02-25T03:17:15.000Z&layer=CGS_S2_RADIOMETRY\", \"rel\": \"alternate\"}, {\"href\": \"https://services.terrascope.be/wmts/v2\", \"rel\": \"wmts\", \"wmts:layer\": \"CGS_S2_RADIOMETRY\"}], \"providers\": [{\"name\": \"VITO, on behalf of the Belgian Science Policy Office (BELSPO).\", \"roles\": [\"producer\", \"licensor\"], \"url\": \"https://terrascope.be\"}], \"stac_extensions\": [\"datacube\"], \"stac_version\": \"0.9.0\", \"summaries\": {\"constellation\": [\"Sentinel-2\"], \"eo:bands\": [{\"aliases\": [\"TOC-B01_60M\"], \"common_name\": \"coastal aerosol\", \"gsd\": 60, \"name\": \"B01\", \"offset\": 0, \"scale\": 0.0001, \"type\": \"int16\", \"unit\": \"1\", \"wavelength_nm\": 442.7}, {\"aliases\": [\"TOC-B02_10M\"], \"center_wavelength\": 0.4966, \"common_name\": \"blue\", \"gsd\": 10, \"name\": \"B02\", \"offset\": 0, \"scale\": 0.0001, \"type\": \"int16\", \"unit\": \"1\", \"wavelength_nm\": 496.6}, {\"aliases\": [\"TOC-B03_10M\"], \"center_wavelength\": 0.56, \"common_name\": \"green\", \"gsd\": 10, \"name\": \"B03\", \"offset\": 0, \"scale\": 0.0001, \"type\": \"int16\", \"unit\": \"1\", \"wavelength_nm\": 560}, {\"aliases\": [\"TOC-B04_10M\"], \"center_wavelength\": 0.6645, \"common_name\": \"red\", \"gsd\": 10, \"name\": \"B04\", \"offset\": 0, \"scale\": 0.0001, \"type\": \"int16\", \"unit\": \"1\", \"wavelength_nm\": 664.5}, {\"aliases\": [\"TOC-B05_20M\"], \"common_name\": \"nir\", \"gsd\": 20, \"name\": \"B05\", \"offset\": 0, \"scale\": 0.0001, \"type\": \"int16\", \"unit\": \"1\", \"wavelength_nm\": 704.1}, {\"aliases\": [\"TOC-B06_20M\"], \"gsd\": 20, \"name\": \"B06\", \"offset\": 0, \"scale\": 0.0001, \"type\": \"int16\", \"unit\": \"1\", \"wavelength_nm\": 740.5}, {\"aliases\": [\"TOC-B07_20M\"], \"gsd\": 20, \"name\": \"B07\", \"offset\": 0, \"scale\": 0.0001, \"type\": \"int16\", \"unit\": \"1\", \"wavelength_nm\": 782.8}, {\"aliases\": [\"TOC-B08_10M\"], \"center_wavelength\": 0.8351, \"common_name\": \"nir\", \"gsd\": 10, \"name\": \"B08\", \"offset\": 0, \"scale\": 0.0001, \"type\": \"int16\", \"unit\": \"1\", \"wavelength_nm\": 835.1}, {\"aliases\": [\"TOC-B8A_20M\"], \"gsd\": 20, \"name\": \"B8A\", \"offset\": 0, \"scale\": 0.0001, \"type\": \"int16\", \"unit\": \"1\", \"wavelength_nm\": 864.7}, {\"aliases\": [\"TOC-B11_20M\"], \"common_name\": \"swir\", \"gsd\": 20, \"name\": \"B11\", \"offset\": 0, \"scale\": 0.0001, \"type\": \"int16\", \"unit\": \"1\", \"wavelength_nm\": 1613.7}, {\"aliases\": [\"TOC-B12_20M\"], \"common_name\": \"swir\", \"gsd\": 20, \"name\": \"B12\", \"offset\": 0, \"scale\": 0.0001, \"type\": \"int16\", \"unit\": \"1\", \"wavelength_nm\": 2202.4}, {\"aliases\": [\"SCENECLASSIFICATION_20M\"], \"gsd\": 20, \"name\": \"SCL\"}, {\"gsd\": 60, \"name\": \"RAA_60M\"}, {\"gsd\": 60, \"name\": \"SZA_60M\"}, {\"gsd\": 60, \"name\": \"VZA_60M\"}], \"eo:gsd\": [10, 20, 60], \"instruments\": [\"MSI\"], \"platform\": [\"Sentinel-2A\", \"Sentinel-2B\"]}, \"title\": \"Sentinel-2 top of canopy last 2 years over Europe + selected areas, by Terrascope.\"}}</script>\n",
       "    </openeo-collection>\n",
       "    "
      ],
      "text/plain": [
       "{'assets': {'metadata_iso_19139': {'href': 'https://services.terrascope.be/collectioncatalogue/srv/api/records/urn:eop:VITO:TERRASCOPE_S2_TOC_V2/formatters/xml?approved=true',\n",
       "   'roles': ['metadata', 'iso-19139'],\n",
       "   'title': 'ISO 19139 metadata',\n",
       "   'type': 'application/vnd.iso.19139+xml'},\n",
       "  'thumbnail': {'href': 'https://collections.sentinel-hub.com/sentinel-2-l2a/sentinel-2-l2a.png',\n",
       "   'roles': ['thumbnail'],\n",
       "   'title': 'Thumbnail',\n",
       "   'type': 'image/png'}},\n",
       " 'cube:dimensions': {'bands': {'type': 'bands',\n",
       "   'values': ['B01',\n",
       "    'B02',\n",
       "    'B03',\n",
       "    'B04',\n",
       "    'B05',\n",
       "    'B06',\n",
       "    'B07',\n",
       "    'B08',\n",
       "    'B8A',\n",
       "    'B11',\n",
       "    'B12',\n",
       "    'SCL',\n",
       "    'RAA_60M',\n",
       "    'SZA_60M',\n",
       "    'VZA_60M']},\n",
       "  't': {'extent': ['2015-07-06T00:00:00Z', None], 'type': 'temporal'},\n",
       "  'x': {'axis': 'x', 'extent': [-180, 180], 'step': 10, 'type': 'spatial'},\n",
       "  'y': {'axis': 'y', 'extent': [-56, 83], 'step': 10, 'type': 'spatial'}},\n",
       " 'description': '[Sentinel-2 Level 2A](https://docs.terrascope.be/#/DataProducts/Sentinel-2/Level2A/Level2A) product, processed from L1C by Sen2Cor. \\n Use the [Terrascope viewer](https://viewer.terrascope.be/?language=nl&bbox=0.9339867511378304,50.14520994379217,6.207424251137831,51.77292299745045&overlay=false&bgLayer=MapBox&date=2019-02-25T03:17:15.000Z&layer=CGS_S2_RADIOMETRY) to explore the data. \\n\\n ',\n",
       " 'extent': {'spatial': {'bbox': [[-180, -56, 180, 83]]},\n",
       "  'temporal': {'interval': [['2015-07-06T00:00:00Z', None]]}},\n",
       " 'id': 'TERRASCOPE_S2_TOC_V2',\n",
       " 'keywords': ['VITO',\n",
       "  'TERRASCOPE',\n",
       "  'COPERNICUS',\n",
       "  'ESA',\n",
       "  'Orthoimagery',\n",
       "  'SENTINEL-2',\n",
       "  'MSI',\n",
       "  'Level-2A',\n",
       "  'Radiometry',\n",
       "  'Plant Resource',\n",
       "  'TOC'],\n",
       " 'license': 'proprietary',\n",
       " 'links': [{'href': 'https://sentinel.esa.int/documents/247904/690755/Sentinel_Data_Legal_Notice',\n",
       "   'rel': 'license'},\n",
       "  {'href': 'https://services.terrascope.be/catalogue/description?collection=urn:eop:VITO:TERRASCOPE_S2_TOC_V2',\n",
       "   'rel': 'alternate'},\n",
       "  {'href': 'https://viewer.terrascope.be/?language=nl&bbox=0.9339867511378304,50.14520994379217,6.207424251137831,51.77292299745045&overlay=false&bgLayer=MapBox&date=2019-02-25T03:17:15.000Z&layer=CGS_S2_RADIOMETRY',\n",
       "   'rel': 'alternate'},\n",
       "  {'href': 'https://services.terrascope.be/wmts/v2',\n",
       "   'rel': 'wmts',\n",
       "   'wmts:layer': 'CGS_S2_RADIOMETRY'}],\n",
       " 'providers': [{'name': 'VITO, on behalf of the Belgian Science Policy Office (BELSPO).',\n",
       "   'roles': ['producer', 'licensor'],\n",
       "   'url': 'https://terrascope.be'}],\n",
       " 'stac_extensions': ['datacube'],\n",
       " 'stac_version': '0.9.0',\n",
       " 'summaries': {'constellation': ['Sentinel-2'],\n",
       "  'eo:bands': [{'aliases': ['TOC-B01_60M'],\n",
       "    'common_name': 'coastal aerosol',\n",
       "    'gsd': 60,\n",
       "    'name': 'B01',\n",
       "    'offset': 0,\n",
       "    'scale': 0.0001,\n",
       "    'type': 'int16',\n",
       "    'unit': '1',\n",
       "    'wavelength_nm': 442.7},\n",
       "   {'aliases': ['TOC-B02_10M'],\n",
       "    'center_wavelength': 0.4966,\n",
       "    'common_name': 'blue',\n",
       "    'gsd': 10,\n",
       "    'name': 'B02',\n",
       "    'offset': 0,\n",
       "    'scale': 0.0001,\n",
       "    'type': 'int16',\n",
       "    'unit': '1',\n",
       "    'wavelength_nm': 496.6},\n",
       "   {'aliases': ['TOC-B03_10M'],\n",
       "    'center_wavelength': 0.56,\n",
       "    'common_name': 'green',\n",
       "    'gsd': 10,\n",
       "    'name': 'B03',\n",
       "    'offset': 0,\n",
       "    'scale': 0.0001,\n",
       "    'type': 'int16',\n",
       "    'unit': '1',\n",
       "    'wavelength_nm': 560},\n",
       "   {'aliases': ['TOC-B04_10M'],\n",
       "    'center_wavelength': 0.6645,\n",
       "    'common_name': 'red',\n",
       "    'gsd': 10,\n",
       "    'name': 'B04',\n",
       "    'offset': 0,\n",
       "    'scale': 0.0001,\n",
       "    'type': 'int16',\n",
       "    'unit': '1',\n",
       "    'wavelength_nm': 664.5},\n",
       "   {'aliases': ['TOC-B05_20M'],\n",
       "    'common_name': 'nir',\n",
       "    'gsd': 20,\n",
       "    'name': 'B05',\n",
       "    'offset': 0,\n",
       "    'scale': 0.0001,\n",
       "    'type': 'int16',\n",
       "    'unit': '1',\n",
       "    'wavelength_nm': 704.1},\n",
       "   {'aliases': ['TOC-B06_20M'],\n",
       "    'gsd': 20,\n",
       "    'name': 'B06',\n",
       "    'offset': 0,\n",
       "    'scale': 0.0001,\n",
       "    'type': 'int16',\n",
       "    'unit': '1',\n",
       "    'wavelength_nm': 740.5},\n",
       "   {'aliases': ['TOC-B07_20M'],\n",
       "    'gsd': 20,\n",
       "    'name': 'B07',\n",
       "    'offset': 0,\n",
       "    'scale': 0.0001,\n",
       "    'type': 'int16',\n",
       "    'unit': '1',\n",
       "    'wavelength_nm': 782.8},\n",
       "   {'aliases': ['TOC-B08_10M'],\n",
       "    'center_wavelength': 0.8351,\n",
       "    'common_name': 'nir',\n",
       "    'gsd': 10,\n",
       "    'name': 'B08',\n",
       "    'offset': 0,\n",
       "    'scale': 0.0001,\n",
       "    'type': 'int16',\n",
       "    'unit': '1',\n",
       "    'wavelength_nm': 835.1},\n",
       "   {'aliases': ['TOC-B8A_20M'],\n",
       "    'gsd': 20,\n",
       "    'name': 'B8A',\n",
       "    'offset': 0,\n",
       "    'scale': 0.0001,\n",
       "    'type': 'int16',\n",
       "    'unit': '1',\n",
       "    'wavelength_nm': 864.7},\n",
       "   {'aliases': ['TOC-B11_20M'],\n",
       "    'common_name': 'swir',\n",
       "    'gsd': 20,\n",
       "    'name': 'B11',\n",
       "    'offset': 0,\n",
       "    'scale': 0.0001,\n",
       "    'type': 'int16',\n",
       "    'unit': '1',\n",
       "    'wavelength_nm': 1613.7},\n",
       "   {'aliases': ['TOC-B12_20M'],\n",
       "    'common_name': 'swir',\n",
       "    'gsd': 20,\n",
       "    'name': 'B12',\n",
       "    'offset': 0,\n",
       "    'scale': 0.0001,\n",
       "    'type': 'int16',\n",
       "    'unit': '1',\n",
       "    'wavelength_nm': 2202.4},\n",
       "   {'aliases': ['SCENECLASSIFICATION_20M'], 'gsd': 20, 'name': 'SCL'},\n",
       "   {'gsd': 60, 'name': 'RAA_60M'},\n",
       "   {'gsd': 60, 'name': 'SZA_60M'},\n",
       "   {'gsd': 60, 'name': 'VZA_60M'}],\n",
       "  'eo:gsd': [10, 20, 60],\n",
       "  'instruments': ['MSI'],\n",
       "  'platform': ['Sentinel-2A', 'Sentinel-2B']},\n",
       " 'title': 'Sentinel-2 top of canopy last 2 years over Europe + selected areas, by Terrascope.'}"
      ]
     },
     "execution_count": 5,
     "metadata": {},
     "output_type": "execute_result"
    }
   ],
   "source": [
    "collection_id = \"TERRASCOPE_S2_TOC_V2\"\n",
    "session.describe_collection(collection_id)"
   ]
  },
  {
   "cell_type": "markdown",
   "metadata": {},
   "source": [
    "In the client code we create a so called image collection, which is a thin reference to this data and allows to build on that with further operations."
   ]
  },
  {
   "cell_type": "code",
   "execution_count": 6,
   "metadata": {
    "pycharm": {
     "is_executing": false
    }
   },
   "outputs": [
    {
     "data": {
      "text/plain": [
       "<openeo.rest.datacube.DataCube at 0x7f9d0b5ea080>"
      ]
     },
     "execution_count": 6,
     "metadata": {},
     "output_type": "execute_result"
    }
   ],
   "source": [
    "s2_radiometry = session.load_collection(collection_id)\n",
    "s2_radiometry"
   ]
  },
  {
   "cell_type": "markdown",
   "metadata": {},
   "source": [
    "As the data covered by the image collection can be quite large, a first step is usually to define a spatial and temporal subset on which we want to operate. This can be done by specifying a date range and a bounding box:"
   ]
  },
  {
   "cell_type": "code",
   "execution_count": 7,
   "metadata": {
    "pycharm": {
     "is_executing": false
    }
   },
   "outputs": [
    {
     "data": {
      "text/plain": [
       "<openeo.rest.datacube.DataCube at 0x7f9d08d74588>"
      ]
     },
     "execution_count": 7,
     "metadata": {},
     "output_type": "execute_result"
    }
   ],
   "source": [
    "timeseries = s2_radiometry\\\n",
    ".filter_temporal(\"2017-10-01\",\"2017-10-31\")\\\n",
    ".filter_bbox(west=761104,east=763281,south=6543830,north=6544655,crs=\"EPSG:3857\")\n",
    "timeseries"
   ]
  },
  {
   "cell_type": "markdown",
   "metadata": {},
   "source": [
    "## Calculating NDVI\n",
    "\n",
    "We can calculate the NDVI based on the bands of the data using standard mathematical operators."
   ]
  },
  {
   "cell_type": "code",
   "execution_count": 8,
   "metadata": {
    "pycharm": {
     "is_executing": false
    }
   },
   "outputs": [
    {
     "data": {
      "text/plain": [
       "<openeo.rest.datacube.DataCube at 0x7f9d08b14518>"
      ]
     },
     "execution_count": 8,
     "metadata": {},
     "output_type": "execute_result"
    }
   ],
   "source": [
    "band_red = timeseries.band('B02')\n",
    "band_nir = timeseries.band('B03')\n",
    "ndvi_timeseries = (band_nir - band_red) / (band_nir + band_red)\n",
    "ndvi_timeseries"
   ]
  },
  {
   "cell_type": "markdown",
   "metadata": {},
   "source": [
    "Now we're all set to compute the composite, the `max_time` function allows us to specify the function that needs to be applied, but does not yet compute a result:"
   ]
  },
  {
   "cell_type": "code",
   "execution_count": 9,
   "metadata": {
    "pycharm": {
     "is_executing": false
    }
   },
   "outputs": [
    {
     "data": {
      "text/plain": [
       "<openeo.rest.datacube.DataCube at 0x7f9d8f422dd8>"
      ]
     },
     "execution_count": 9,
     "metadata": {},
     "output_type": "execute_result"
    }
   ],
   "source": [
    "composite = ndvi_timeseries.max_time()\n",
    "composite"
   ]
  },
  {
   "cell_type": "markdown",
   "metadata": {},
   "source": [
    "Up to this point, the OpenEO backend has not yet received a request for an actual computation. At the client side, we have only been building what is called a 'process graph' in OpenEO terms, which just describes the operations we want to execute"
   ]
  },
  {
   "cell_type": "code",
   "execution_count": null,
   "metadata": {
    "pycharm": {
     "is_executing": false
    }
   },
   "outputs": [],
   "source": [
    "composite.to_graphviz()"
   ]
  },
  {
   "cell_type": "markdown",
   "metadata": {},
   "source": [
    "We can do a few things with a process graph, let's start with downloading its result as a GeoTiff:"
   ]
  },
  {
   "cell_type": "code",
   "execution_count": 12,
   "metadata": {
    "pycharm": {
     "is_executing": false
    }
   },
   "outputs": [
    {
     "name": "stdout",
     "output_type": "stream",
     "text": [
      "Downloaded: Compositing.output/ndvi.geotiff (22709 bytes)\n",
      "CPU times: user 5.43 ms, sys: 1.81 ms, total: 7.24 ms\n",
      "Wall time: 18.3 s\n"
     ]
    }
   ],
   "source": [
    "%%time\n",
    "output_dir = pathlib.Path('Compositing.output')\n",
    "if not output_dir.exists():\n",
    "    output_dir.mkdir()\n",
    "output_file = output_dir / \"ndvi.geotiff\"\n",
    "\n",
    "composite.download(str(output_file), format=\"GTiff\")\n",
    "\n",
    "print(\"Downloaded: {f} ({b} bytes)\".format(f=output_file, b=output_file.stat().st_size))"
   ]
  },
  {
   "cell_type": "markdown",
   "metadata": {},
   "source": [
    "This particular composite took tens of seconds to compute over a couple of months worth of input data. This shows one of the key points of OpenEO: the algorithm gets distributed over processing resources close to the data, which can greatly speed up processing.\n",
    "\n",
    "Now it's time to inspect our result. One way is to use gdalinfo:"
   ]
  },
  {
   "cell_type": "code",
   "execution_count": 13,
   "metadata": {
    "pycharm": {
     "is_executing": false
    }
   },
   "outputs": [
    {
     "name": "stdout",
     "output_type": "stream",
     "text": [
      "Driver: GTiff/GeoTIFF\n",
      "Files: Compositing.output/ndvi.geotiff\n",
      "Size is 141, 49\n",
      "Coordinate System is:\n",
      "PROJCS[\"WGS 84 / UTM zone 32N\",\n",
      "    GEOGCS[\"WGS 84\",\n",
      "        DATUM[\"WGS_1984\",\n",
      "            SPHEROID[\"WGS 84\",6378137,298.257223563,\n",
      "                AUTHORITY[\"EPSG\",\"7030\"]],\n",
      "            AUTHORITY[\"EPSG\",\"6326\"]],\n",
      "        PRIMEM[\"Greenwich\",0,\n",
      "            AUTHORITY[\"EPSG\",\"8901\"]],\n",
      "        UNIT[\"degree\",0.0174532925199433,\n",
      "            AUTHORITY[\"EPSG\",\"9122\"]],\n",
      "        AUTHORITY[\"EPSG\",\"4326\"]],\n",
      "    PROJECTION[\"Transverse_Mercator\"],\n",
      "    PARAMETER[\"latitude_of_origin\",0],\n",
      "    PARAMETER[\"central_meridian\",9],\n",
      "    PARAMETER[\"scale_factor\",0.9996],\n",
      "    PARAMETER[\"false_easting\",500000],\n",
      "    PARAMETER[\"false_northing\",0],\n",
      "    UNIT[\"metre\",1,\n",
      "        AUTHORITY[\"EPSG\",\"9001\"]],\n",
      "    AXIS[\"Easting\",EAST],\n",
      "    AXIS[\"Northing\",NORTH],\n",
      "    AUTHORITY[\"EPSG\",\"32632\"]]\n",
      "Origin = (346800.000000000000000,5603620.000000000000000)\n",
      "Pixel Size = (10.000000000000000,-10.000000000000000)\n",
      "Metadata:\n",
      "  AREA_OR_POINT=Area\n",
      "  PROCESSING_SOFTWARE=0.6.1a1\n",
      "Image Structure Metadata:\n",
      "  COMPRESSION=DEFLATE\n",
      "  INTERLEAVE=BAND\n",
      "Corner Coordinates:\n",
      "Upper Left  (  346800.000, 5603620.000) (  6d50'12.52\"E, 50d33'51.83\"N)\n",
      "Lower Left  (  346800.000, 5603130.000) (  6d50'13.24\"E, 50d33'35.97\"N)\n",
      "Upper Right (  348210.000, 5603620.000) (  6d51'24.14\"E, 50d33'53.15\"N)\n",
      "Lower Right (  348210.000, 5603130.000) (  6d51'24.86\"E, 50d33'37.30\"N)\n",
      "Center      (  347505.000, 5603375.000) (  6d50'48.69\"E, 50d33'44.56\"N)\n",
      "Band 1 Block=256x256 Type=Float32, ColorInterp=Gray\n",
      "0...10...20...30...40...50...60...70...80...90...100 - done.\n",
      "  256 buckets from 0.289278 to 0.995616:\n",
      "  1 2 0 0 0 0 0 1 0 0 0 0 0 1 0 1 1 2 2 2 0 3 3 1 4 1 0 4 2 3 4 0 1 1 1 1 1 1 2 5 5 1 5 3 2 7 1 6 5 10 2 4 8 5 5 9 5 8 8 12 4 10 14 10 15 11 13 13 14 20 9 18 20 9 13 18 18 18 16 24 32 27 25 24 23 33 36 41 33 32 42 35 37 44 46 43 38 47 48 44 58 48 63 54 45 76 44 51 65 49 40 59 60 64 58 52 51 43 60 64 55 34 64 61 56 50 47 54 53 50 59 60 50 59 49 49 40 50 41 38 53 43 41 41 50 32 45 42 46 35 46 33 37 29 41 27 37 28 31 27 40 33 38 42 40 35 46 25 29 28 29 24 28 30 28 20 19 27 25 22 18 26 14 24 21 34 23 18 20 25 15 26 20 19 22 21 17 22 26 25 12 14 13 16 13 13 11 15 17 14 11 18 15 13 13 23 15 18 9 11 15 15 13 19 19 15 21 14 18 12 9 11 16 14 12 14 13 18 8 12 18 16 14 20 27 23 43 56 74 133 154 247 227 134 38 3 \n",
      "  NoData Value=nan\n",
      "  Metadata:\n",
      "    STATISTICS_MAXIMUM=0.99423629045486\n",
      "    STATISTICS_MEAN=0.72057676572827\n",
      "    STATISTICS_MINIMUM=0.29065743088722\n",
      "    STATISTICS_STDDEV=0.16396998794088\n"
     ]
    }
   ],
   "source": [
    "!gdalinfo -hist $output_file\n"
   ]
  },
  {
   "cell_type": "markdown",
   "metadata": {},
   "source": [
    "Or we can use rasterio to plot the histogram and the image:\n"
   ]
  },
  {
   "cell_type": "code",
   "execution_count": 14,
   "metadata": {
    "collapsed": false,
    "jupyter": {
     "outputs_hidden": false
    },
    "pycharm": {
     "is_executing": false,
     "name": "#%%\n"
    }
   },
   "outputs": [
    {
     "data": {
      "text/plain": [
       "<matplotlib.axes._subplots.AxesSubplot at 0x7f9d649040f0>"
      ]
     },
     "execution_count": 14,
     "metadata": {},
     "output_type": "execute_result"
    },
    {
     "data": {
      "image/png": "[encoded data removed]",
      "text/plain": [
       "<Figure size 648x288 with 2 Axes>"
      ]
     },
     "metadata": {
      "needs_background": "light"
     },
     "output_type": "display_data"
    },
    {
     "data": {
      "text/plain": [
       "\u001b[0;31mSignature:\u001b[0m\n",
       "\u001b[0mshow_hist\u001b[0m\u001b[0;34m(\u001b[0m\u001b[0;34m\u001b[0m\n",
       "\u001b[0;34m\u001b[0m    \u001b[0msource\u001b[0m\u001b[0;34m,\u001b[0m\u001b[0;34m\u001b[0m\n",
       "\u001b[0;34m\u001b[0m    \u001b[0mbins\u001b[0m\u001b[0;34m=\u001b[0m\u001b[0;36m10\u001b[0m\u001b[0;34m,\u001b[0m\u001b[0;34m\u001b[0m\n",
       "\u001b[0;34m\u001b[0m    \u001b[0mmasked\u001b[0m\u001b[0;34m=\u001b[0m\u001b[0;32mTrue\u001b[0m\u001b[0;34m,\u001b[0m\u001b[0;34m\u001b[0m\n",
       "\u001b[0;34m\u001b[0m    \u001b[0mtitle\u001b[0m\u001b[0;34m=\u001b[0m\u001b[0;34m'Histogram'\u001b[0m\u001b[0;34m,\u001b[0m\u001b[0;34m\u001b[0m\n",
       "\u001b[0;34m\u001b[0m    \u001b[0max\u001b[0m\u001b[0;34m=\u001b[0m\u001b[0;32mNone\u001b[0m\u001b[0;34m,\u001b[0m\u001b[0;34m\u001b[0m\n",
       "\u001b[0;34m\u001b[0m    \u001b[0;34m**\u001b[0m\u001b[0mkwargs\u001b[0m\u001b[0;34m,\u001b[0m\u001b[0;34m\u001b[0m\n",
       "\u001b[0;34m\u001b[0m\u001b[0;34m)\u001b[0m\u001b[0;34m\u001b[0m\u001b[0;34m\u001b[0m\u001b[0m\n",
       "\u001b[0;31mDocstring:\u001b[0m\n",
       "Easily display a histogram with matplotlib.\n",
       "\n",
       "Parameters\n",
       "----------\n",
       "source : array or dataset object opened in 'r' mode or Band or tuple(dataset, bidx)\n",
       "    Input data to display.\n",
       "    The first three arrays in multi-dimensional\n",
       "    arrays are plotted as red, green, and blue.\n",
       "bins : int, optional\n",
       "    Compute histogram across N bins.\n",
       "masked : bool, optional\n",
       "    When working with a `rasterio.Band()` object, specifies if the data\n",
       "    should be masked on read.\n",
       "title : str, optional\n",
       "    Title for the figure.\n",
       "ax : matplotlib axes (opt)\n",
       "    The raster will be added to this axes if passed.\n",
       "**kwargs : optional keyword arguments\n",
       "    These will be passed to the matplotlib hist method. See full list at:\n",
       "    http://matplotlib.org/api/axes_api.html?highlight=imshow#matplotlib.axes.Axes.hist\n",
       "\u001b[0;31mFile:\u001b[0m      /usr/local/lib64/python3.6/site-packages/rasterio/plot.py\n",
       "\u001b[0;31mType:\u001b[0m      function\n"
      ]
     },
     "metadata": {},
     "output_type": "display_data"
    }
   ],
   "source": [
    "\n",
    "import matplotlib.pyplot as plt\n",
    "import rasterio\n",
    "from rasterio.plot import show,show_hist\n",
    "?show_hist\n",
    "ds = rasterio.open(output_file)\n",
    "fig,(axr,axl) = plt.subplots(1,2, figsize=(9, 4))\n",
    "axr.set_xlim(0,1)\n",
    "show_hist(ds,bins=255,ax=axr)\n",
    "\n",
    "show(ds,ax=axl,cmap=plt.cm.RdYlGn,title='NDVI',vmin=0,vmax=1)\n",
    "\n"
   ]
  },
  {
   "cell_type": "markdown",
   "metadata": {},
   "source": [
    "## Retrieving a timeseries for a region\n",
    "\n",
    "Instead of reducing our timeseries of images into a composite, we can also request the average value for a given geographical region. \n",
    "\n",
    "This call can be executed directly on the timeseries that we defined earlier, we start with creating a geographical area of interest:"
   ]
  },
  {
   "cell_type": "code",
   "execution_count": 15,
   "metadata": {
    "collapsed": false,
    "jupyter": {
     "outputs_hidden": false
    },
    "pycharm": {
     "is_executing": false,
     "name": "#%%\n"
    }
   },
   "outputs": [
    {
     "data": {
      "image/svg+xml": [
       "<svg xmlns=\"http://www.w3.org/2000/svg\" xmlns:xlink=\"http://www.w3.org/1999/xlink\" width=\"100.0\" height=\"100.0\" viewBox=\"6.846375999999999 50.563016000000005 0.00010800000000088517 0.00010799999999733245\" preserveAspectRatio=\"xMinYMin meet\"><g transform=\"matrix(1,0,0,-1,0,101.12614)\"><path fill-rule=\"evenodd\" fill=\"#66cc99\" stroke=\"#555555\" stroke-width=\"2.1600000000177035e-06\" opacity=\"0.6\" d=\"M 6.84648,50.56302 L 6.84648,50.563120000000005 L 6.84638,50.563120000000005 L 6.84638,50.56302 L 6.84648,50.56302 z\" /></g></svg>"
      ],
      "text/plain": [
       "<shapely.geometry.polygon.Polygon at 0x7f9d6217e8d0>"
      ]
     },
     "execution_count": 15,
     "metadata": {},
     "output_type": "execute_result"
    }
   ],
   "source": [
    "from shapely.geometry import box\n",
    "x,y=(6.84638, 50.56302)\n",
    "point_area = box(x, y,x+0.0001,y+0.0001)\n",
    "point_area\n"
   ]
  },
  {
   "cell_type": "code",
   "execution_count": 16,
   "metadata": {
    "pycharm": {
     "is_executing": false
    }
   },
   "outputs": [
    {
     "name": "stdout",
     "output_type": "stream",
     "text": [
      "{'2017-10-01T00:00:00Z': [[]], '2017-10-02T00:00:00Z': [[0.0]], '2017-10-03T00:00:00Z': [[]], '2017-10-04T00:00:00Z': [[]], '2017-10-05T00:00:00Z': [[0.0]], '2017-10-06T00:00:00Z': [[]], '2017-10-07T00:00:00Z': [[0.006214689463376999]], '2017-10-08T00:00:00Z': [[]], '2017-10-09T00:00:00Z': [[]], '2017-10-10T00:00:00Z': [[0.0]], '2017-10-11T00:00:00Z': [[]], '2017-10-12T00:00:00Z': [[-0.040217719972133636]], '2017-10-13T00:00:00Z': [[]], '2017-10-14T00:00:00Z': [[]], '2017-10-15T00:00:00Z': [[0.9753086566925049]], '2017-10-16T00:00:00Z': [[]], '2017-10-17T00:00:00Z': [[0.04182509332895279]], '2017-10-18T00:00:00Z': [[]], '2017-10-19T00:00:00Z': [[]], '2017-10-20T00:00:00Z': [[0.8556700944900513]], '2017-10-21T00:00:00Z': [[]], '2017-10-22T00:00:00Z': [[0.0033034449443221092]], '2017-10-23T00:00:00Z': [[]], '2017-10-24T00:00:00Z': [[]], '2017-10-25T00:00:00Z': [[0.22345483303070068]], '2017-10-26T00:00:00Z': [[]], '2017-10-27T00:00:00Z': [[-0.03846153989434242]], '2017-10-28T00:00:00Z': [[]], '2017-10-29T00:00:00Z': [[]], '2017-10-30T00:00:00Z': [[-0.0066006602719426155]], '2017-10-31T00:00:00Z': [[]]}\n",
      "CPU times: user 2.44 ms, sys: 5.12 ms, total: 7.56 ms\n",
      "Wall time: 8.36 s\n"
     ]
    }
   ],
   "source": [
    "%%time\n",
    "point_timeseries = ndvi_timeseries.polygonal_mean_timeseries(point_area).execute()\n",
    "print(point_timeseries)\n"
   ]
  },
  {
   "cell_type": "code",
   "execution_count": 17,
   "metadata": {
    "collapsed": false,
    "jupyter": {
     "outputs_hidden": false
    },
    "pycharm": {
     "is_executing": false,
     "name": "#%%\n"
    }
   },
   "outputs": [],
   "source": [
    "import pandas as pd\n",
    "from openeo.rest.conversions import timeseries_json_to_pandas\n",
    "df = timeseries_json_to_pandas(point_timeseries)\n",
    "df.index = pd.to_datetime(df.index)\n"
   ]
  },
  {
   "cell_type": "code",
   "execution_count": 18,
   "metadata": {
    "pycharm": {
     "is_executing": false,
     "name": "#%%\n"
    }
   },
   "outputs": [
    {
     "data": {
      "text/plain": [
       "<matplotlib.axes._subplots.AxesSubplot at 0x7f9d468acac8>"
      ]
     },
     "execution_count": 18,
     "metadata": {},
     "output_type": "execute_result"
    },
    {
     "data": {
      "image/png": "[encoded data removed]",
      "text/plain": [
       "<Figure size 432x288 with 1 Axes>"
      ]
     },
     "metadata": {
      "needs_background": "light"
     },
     "output_type": "display_data"
    }
   ],
   "source": [
    "%matplotlib inline\n",
    "df.dropna().plot(marker='.', title='NDVI')\n",
    "\n"
   ]
  },
  {
   "cell_type": "code",
   "execution_count": null,
   "metadata": {},
   "outputs": [],
   "source": []
  }
 ],
 "metadata": {
  "kernelspec": {
   "display_name": "Python 3",
   "language": "python",
   "name": "python3"
  },
  "language_info": {
   "codemirror_mode": {
    "name": "ipython",
    "version": 3
   },
   "file_extension": ".py",
   "mimetype": "text/x-python",
   "name": "python",
   "nbconvert_exporter": "python",
   "pygments_lexer": "ipython3",
   "version": "3.6.8"
  },
  "pycharm": {
   "stem_cell": {
    "cell_type": "raw",
    "metadata": {
     "collapsed": false
    },
    "source": []
   }
  }
 },
 "nbformat": 4,
 "nbformat_minor": 4
}
