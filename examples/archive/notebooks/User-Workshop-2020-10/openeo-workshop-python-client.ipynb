{
 "cells": [
  {
   "cell_type": "markdown",
   "metadata": {},
   "source": [
    "# openEO User Workshop - Guided Session: Multi-Source Data Fusion With openEO Python Client\n",
    "\n",
    "_October 19th, 2020 - Virtual Workshop (https://openeo.org/news/2020-09-02-openeo-user-workshop.html)_\n",
    "\n",
    "## Introduction\n",
    "\n",
    "Phenology is an important supporting parameter of vegetation that can be derived from remote sensing data. It allows for instance to evaluate crop conditions in agriculture, or vegetation/crop type mapping and is an indicator for climate change. In this case, phenology is defined by:\n",
    "\n",
    "* Start of season, a date and the corresponding value of the biophysical indicator\n",
    "* End of season, a date and the corresponding value of the biophysical indicator\n",
    "\n",
    "Deriving phenology accurately requires a vegetation index time series for a given pixel or area, \n",
    "that has both a sufficiently *high spatial resolution* (to avoid noise from sampling heterogeneous areas in a pixel or area)\n",
    "and a sufficiently *high temporal accuracy*.\n",
    "Today, no single sensor can really satisfy all these requirements, limiting the accuracy of the predicted phenology parameters.\n",
    "\n",
    "In this openEO use case, we will demonstrate openEO's capability to implement a *multi sensor data fusion approach*\n",
    "that merges the following datasets (with different spatial and temporal resolutions)\n",
    "into a single dense vegetation index time series:\n",
    "\n",
    "* ProbaV 10-daily composites: low spatial resolution (300m), but high temporal resolution\n",
    "* Sentinel-2: high spatial resolution (10m), low temporal resolution\n",
    "* Sentinel-1 Gamma0: high spatial and temporal resolution, but no direct link to phenological parameters\n",
    "\n",
    "The resulting fused time series is then provided as input to a phenology algorithm,\n",
    "implemented as a User-Defined Function (UDF), so that it can be easily replaced with other implementations. \n",
    "\n",
    "## Overview of the algorithm \n",
    "\n",
    "Below we give a step-by-step overview of the workflow, together with the most important openEO processes that were used to implement them.\n",
    "\n",
    "1. Preprocessing Sentinel-2 data\n",
    "  * Load scene classification (`load_collection`)\n",
    "  * Load bands 8 and 4 (`load_collection`)\n",
    "  * Transform scene classification to binary cloud mask (`reduce_dimension`)\n",
    "  * Dilate cloud mask (`apply_kernel`)\n",
    "  * Mask bands 8 and 4 (`mask`)\n",
    "  * Compute NDVI (`ndvi` or band math through `reduce_dimension`)\n",
    "2. Merging Sentinel-1 Gamma0: (`load_collection`/`resample_cube_spatial`/`merge_cubes`)\n",
    "3. Preprocessing and merging PROBA-V 10-daily composites to Sentinel-2 resolution (`load_collection`/`resample_cube_spatial`/`mask_polygon`/`merge_cubes`)\n",
    "4. Apply Deep learning model (GAN) to generate single NDVI (`apply_neighborhood`/`run_udf`)\n",
    "5. Pixel wise smooth the resulting time series using Savitzky–Golay filter\n",
    "6. Pixel wise derivation of phenological parameters (`apply_dimension`/`run_udf`)\n"
   ]
  },
  {
   "cell_type": "markdown",
   "metadata": {},
   "source": [
    "## Setup\n",
    "\n",
    "This exercise is provided as a Jupyter notebook, \n",
    "but it's also possible to copy the necassary snippets into regular Python script.\n",
    "You can run your own Jupyter(Lab) environment \n",
    "or use a managed/hosted Jupyter(Lab) environment like https://notebooks.terrascope.be\n",
    "(note that you typically need a registered account for this).\n",
    "\n",
    "Basically you just need a Python (3.6 or higher) environment and the ability to install packages into that environment.\n",
    "\n",
    "### Dependencies\n",
    "\n",
    "Let's start with importing the most important packages we will be using, to get the dependency headaches out of the way.\n",
    "\n",
    "If any of these imports does not work, make sure to install the related package in the Python environment of the Jupyter kernel you are using.\n",
    "Most importantly for this demonstration: install `openeo`, the [openEO Python Client Package](https://github.com/Open-EO/openeo-python-client).\n",
    "If you have direct (Bash) shell access to the Python environment of your Jupyter kernel, just use pip from the command line, for example to install the latest version of `openeo`:\n",
    "\n",
    "    pip install --upgrade openeo\n",
    "\n",
    "If you are not sure about your Jupyter kernel's Python environment,\n",
    "it is also possible to install packages directly from Jupyter code cells, with a snippet like this:\n",
    "\n",
    "    import sys\n",
    "    !{sys.executable} -m pip install --upgrade openeo\n",
    "\n"
   ]
  },
  {
   "cell_type": "code",
   "execution_count": 1,
   "metadata": {},
   "outputs": [],
   "source": [
    "import numpy\n",
    "import scipy.signal\n",
    "import shapely\n",
    "import openeo\n",
    "import rasterio\n",
    "from matplotlib import pyplot as plt\n",
    "%matplotlib inline"
   ]
  },
  {
   "cell_type": "markdown",
   "metadata": {},
   "source": [
    "Check that the `openeo` package version is recent enough.\n",
    "The latest release at time of this writing is `0.4.6`."
   ]
  },
  {
   "cell_type": "code",
   "execution_count": 2,
   "metadata": {},
   "outputs": [
    {
     "data": {
      "text/plain": [
       "'0.4.7a1'"
      ]
     },
     "execution_count": 2,
     "metadata": {},
     "output_type": "execute_result"
    }
   ],
   "source": [
    "openeo.client_version()"
   ]
  },
  {
   "cell_type": "markdown",
   "metadata": {},
   "source": [
    "For debugging, or to better see what is going on behind the scenes: increase the log level to `DEBUG`. \n",
    "(Note that it might be necessary to restart the kernel for `basicConfig` to have effect.)"
   ]
  },
  {
   "cell_type": "code",
   "execution_count": 3,
   "metadata": {},
   "outputs": [],
   "source": [
    "import logging\n",
    "logging.basicConfig(level=logging.INFO)"
   ]
  },
  {
   "cell_type": "markdown",
   "metadata": {},
   "source": [
    "## openEO Backend Connection and Authentication\n",
    "\n",
    "The entry point for interacting with a certain openEO backend (defined by a backend URL) is a `Connection`.\n",
    "To do anything non-trivial you also need to authenticate with user credentials, which will be provided during the workshop session.\n",
    "Future warning: backends will allow you to log in with your institution (edugain) or social accounts. \n",
    "This will make demo credentials invalid. Always avoid sharing your credentials with others!\n",
    "\n",
    "The full phenology algorithm implemented in this notebook depends on available collections and functionallity\n",
    "provided by the VITO openEO backend at https://openeo.vito.be/.\n",
    "However, some parts and examples can also be tried against other openEO backends,\n",
    "but keep in mind that input data collection names have to be altered then.\n",
    "Other backends can be explored at https://hub.openeo.org/.\n",
    "\n",
    "\n",
    "\n"
   ]
  },
  {
   "cell_type": "code",
   "execution_count": 4,
   "metadata": {},
   "outputs": [],
   "source": [
    "backend_url = \"https://openeo.vito.be\"\n"
   ]
  },
  {
   "cell_type": "code",
   "execution_count": 6,
   "metadata": {},
   "outputs": [],
   "source": [
    "vito_conn = openeo.connect(backend_url)\n",
    "vito_conn.authenticate_basic()"
   ]
  },
  {
   "cell_type": "markdown",
   "metadata": {},
   "source": [
    "This connection object allows to explore the available collections, processes, file formats, secondary services, etc on the backend.\n",
    "\n",
    "Try out various `list_` methods here (see https://open-eo.github.io/openeo-python-client/api.html#module-openeo.rest.connection)."
   ]
  },
  {
   "cell_type": "code",
   "execution_count": null,
   "metadata": {},
   "outputs": [],
   "source": [
    "vito_conn.list_ EXPLORE HERE"
   ]
  },
  {
   "cell_type": "markdown",
   "metadata": {},
   "source": [
    "## Input: Area and Time Range of Interest\n",
    "\n",
    "A small field will be used near the location of VITO Remote Sensing as shown in the figure. This area contains several fields cultivated for different type of crops (varying start and end of seasons), hence it is ideal candidate for showcasing the process chain. "
   ]
  },
  {
   "cell_type": "code",
   "execution_count": 7,
   "metadata": {},
   "outputs": [],
   "source": [
    "bbox = {\n",
    "    'west': 5.017099,\n",
    "    'south': 51.219585,\n",
    "    'east': 5.023468,\n",
    "    'north': 51.223363,\n",
    "    'crs': 'EPSG:4326',\n",
    "}\n",
    "\n",
    "bbox_polygon = shapely.geometry.Polygon.from_bounds(bbox[\"west\"], bbox[\"south\"], bbox[\"east\"], bbox[\"north\"])"
   ]
  },
  {
   "cell_type": "code",
   "execution_count": 8,
   "metadata": {},
   "outputs": [
    {
     "data": {
      "text/html": [
       "<img src=\"https://github.com/Open-EO/openeo-usecases/raw/master/vito_phenology_usecase/notebook/img/single_field.png\"/>"
      ],
      "text/plain": [
       "<IPython.core.display.Image object>"
      ]
     },
     "metadata": {},
     "output_type": "display_data"
    }
   ],
   "source": [
    "from IPython.display import display, Image\n",
    "display(Image(url='https://github.com/Open-EO/openeo-usecases/raw/master/vito_phenology_usecase/notebook/img/single_field.png'))"
   ]
  },
  {
   "cell_type": "markdown",
   "metadata": {},
   "source": [
    "The season of 2019 will be analysed. Because both the fusion works with a large buffer around a given coordinate, the date range starts in the previous year and ends in the next."
   ]
  },
  {
   "cell_type": "code",
   "execution_count": 9,
   "metadata": {},
   "outputs": [
    {
     "data": {
      "text/plain": [
       "('2018-10-01', '2020-07-01')"
      ]
     },
     "execution_count": 9,
     "metadata": {},
     "output_type": "execute_result"
    }
   ],
   "source": [
    "year = 2019\n",
    "startdate = str(year - 1) + '-10-01'\n",
    "enddate = str(year + 1) + '-07-01'\n",
    "startdate, enddate"
   ]
  },
  {
   "cell_type": "markdown",
   "metadata": {},
   "source": [
    "## Step 1. Preprocessing Sentinel-2 data (`load_collection`/`band`/`mask`/`apply_kernel`/`ndvi`/`reduce_dimension`)\n",
    "\n",
    "\n",
    "OpenEO is designed such that:\n",
    "-   first a processing chain is assembled client side. This \"process\" (also called \"process graph\" under the hood) is just a symbolic representation. \n",
    "    Only the collection metadata is obtained from the backend (to learn dimension names and band names), no actual calculation is performed.\n",
    "-   This process is then submitted to the backend, which performs the actual computations. \n",
    "\n",
    "\n",
    "We start with loading a Sentinel-2 data: bands 4 (red) and 8 (NIR) as a collection\n",
    "and a separate \"scene classification\" layer.\n",
    "This creates our initial `DataCube` objects, which will be manipulated in the following steps."
   ]
  },
  {
   "cell_type": "code",
   "execution_count": 10,
   "metadata": {},
   "outputs": [
    {
     "data": {
      "text/plain": [
       "<openeo.rest.datacube.DataCube at 0x7fe85c2dce80>"
      ]
     },
     "execution_count": 10,
     "metadata": {},
     "output_type": "execute_result"
    }
   ],
   "source": [
    "# A cube with 2 bands: red and NIR\n",
    "S2bands = vito_conn.load_collection('TERRASCOPE_S2_TOC_V2', bands=['TOC-B04_10M', 'TOC-B08_10M'])\n",
    "\n",
    "# A separate band with scene classification classes.\n",
    "s2_sceneclassification = vito_conn.load_collection('TERRASCOPE_S2_TOC_V2', bands=['SCENECLASSIFICATION_20M']).band('SCENECLASSIFICATION_20M')\n",
    "\n",
    "S2bands"
   ]
  },
  {
   "cell_type": "markdown",
   "metadata": {},
   "source": [
    "Transform the scene classification to a binary cloud mask. This is done by using a fuzzy mask approach:\n",
    "* selecting the pixels to be masked based on the classification types (we want to keep classes like \"vegetation\" and \"water\" and mask \"cloud\" classes)\n",
    "* clean up the mask a bit by dilating it by a few pixel using a gaussian blur and select by threshold"
   ]
  },
  {
   "cell_type": "code",
   "execution_count": 11,
   "metadata": {},
   "outputs": [],
   "source": [
    "import numpy \n",
    "import scipy.signal\n",
    "\n",
    "def makekernel(size: int) -> numpy.ndarray:\n",
    "    assert size % 2 == 1\n",
    "    kernel_vect = scipy.signal.windows.gaussian(size, std=size / 6.0, sym=True)\n",
    "    kernel = numpy.outer(kernel_vect, kernel_vect)\n",
    "    kernel = kernel / kernel.sum()\n",
    "    return kernel\n",
    "\n",
    "def create_advanced_mask(band):\n",
    "    # in openEO, 1 means mask (remove pixel) 0 means keep pixel\n",
    "    classification = band\n",
    "\n",
    "    # Keep useful pixels (4=vegetation, 5=not vegetated, 6=water, 7=unclassified)\n",
    "    first_mask = ~ ((classification == 4) | (classification == 5) | (classification == 6) | (classification == 7))\n",
    "    # Clean up mask with gaussian blur+threshold.\n",
    "    first_mask = first_mask.apply_kernel(makekernel(9))\n",
    "    first_mask = first_mask.add_dimension(\"bands\", \"mask\", type=\"bands\").band(\"mask\")\n",
    "    first_mask = first_mask > 0.057\n",
    "\n",
    "    # Remove cloud pixels (3=cloud shadows, 8=cloud medium prob, 9=cloud high prob, 10=thin cirrus)\n",
    "    second_mask = (classification == 3) | (classification == 8) | (classification == 9) | (classification == 10)\n",
    "    # Clean up mask with gaussian blur+threshold.\n",
    "    second_mask = second_mask.apply_kernel(makekernel(81))\n",
    "    second_mask = second_mask.add_dimension(\"bands\", \"mask\", type=\"bands\").band(\"mask\")\n",
    "    second_mask = second_mask > 0.1\n",
    "\n",
    "    return first_mask.filter_temporal(startdate, enddate) | second_mask.filter_temporal(startdate, enddate)\n",
    "\n",
    "S2mask = create_advanced_mask(s2_sceneclassification)"
   ]
  },
  {
   "cell_type": "markdown",
   "metadata": {},
   "source": [
    "Apply the mask to the cube with the red and NIR bands:"
   ]
  },
  {
   "cell_type": "code",
   "execution_count": 12,
   "metadata": {},
   "outputs": [],
   "source": [
    "S2bands = S2bands.mask(S2mask)"
   ]
  },
  {
   "cell_type": "markdown",
   "metadata": {},
   "source": [
    "Compute the NDVI. There is a dedicated [\"ndvi\" process](https://openeo.org/documentation/1.0/processes.html#ndvi) for this, directly available on the `DataCube` object:"
   ]
  },
  {
   "cell_type": "code",
   "execution_count": 13,
   "metadata": {},
   "outputs": [],
   "source": [
    "S2ndvi = S2bands.ndvi()"
   ]
  },
  {
   "cell_type": "markdown",
   "metadata": {},
   "source": [
    "It is also possible to calculate the NDVI more explicitly using the \"band math\" feature provided by the `openeo` Python client.\n",
    "It allows to express the band calculations directly as easy to read Python code.\n",
    "See https://open-eo.github.io/openeo-python-client/basics.html#example-simple-band-math for inspiration."
   ]
  },
  {
   "cell_type": "code",
   "execution_count": null,
   "metadata": {},
   "outputs": [],
   "source": [
    "red = S2bands.band('TOC-B04_10M')\n",
    "nir = S2bands.band('TOC-B08_10M')\n",
    "# Calculate NDVI here, using the `red` and `nir` \"variables\":\n",
    "S2ndvi = ENTER CALCULATIONS HERE"
   ]
  },
  {
   "cell_type": "code",
   "execution_count": null,
   "metadata": {},
   "outputs": [],
   "source": []
  },
  {
   "cell_type": "code",
   "execution_count": null,
   "metadata": {},
   "outputs": [],
   "source": []
  },
  {
   "cell_type": "code",
   "execution_count": null,
   "metadata": {},
   "outputs": [],
   "source": []
  },
  {
   "cell_type": "markdown",
   "metadata": {},
   "source": [
    "## Simple download example\n",
    "\n",
    "_Learning goal: learn how to work in an interactive manner, and debug your code._\n",
    "\n",
    "The notebook constructs a complex workflow, but when developing and debugging, you often want to check intermediate results.\n",
    "Please try this.\n",
    "\n",
    "Tip: this notebook works on Terrascope data. You can explore the Sentinel-2 layer here:\n",
    "https://viewer.terrascope.be/?language=en&bbox=2.798217823728918,50.43992723836223,6.313842823728918,51.59490312270836&overlay=true&bgLayer=Satellite&date=2018-05-06&layer=CGS_S2_RADIOMETRY\n",
    "\n",
    "\n",
    "### Download image \n",
    "\n",
    "Download a small area of the NDVI datacube we calculated (`S2ndvi`). \n",
    "Optionally: also download the scene classification layer (`s2_sceneclassification`)\n",
    "\n",
    "Tips: \n",
    "- 2018-05-06 has nice cloud free data!\n",
    "- you can easily reuse the bounding box we defined before with `.filter_bbox(**bbox)`\n",
    "- You will have to choose a format:\n",
    "    - GTiff (GeoTiff) is suitable for single dates, but does not support timeseries very well. (It will return data for some date.)\n",
    "    - NetCDF does support full timeseries, but the format is somewhat more complex.\n",
    "- API docs: https://open-eo.github.io/openeo-python-client/basics.html#example-simple-band-math"
   ]
  },
  {
   "cell_type": "code",
   "execution_count": null,
   "metadata": {},
   "outputs": [],
   "source": [
    "S2ndvi. CALCULATE AND DOWNLOAD HERE"
   ]
  },
  {
   "cell_type": "code",
   "execution_count": null,
   "metadata": {},
   "outputs": [],
   "source": []
  },
  {
   "cell_type": "code",
   "execution_count": null,
   "metadata": {},
   "outputs": [],
   "source": []
  },
  {
   "cell_type": "code",
   "execution_count": null,
   "metadata": {},
   "outputs": [],
   "source": []
  },
  {
   "cell_type": "code",
   "execution_count": 15,
   "metadata": {},
   "outputs": [
    {
     "name": "stdout",
     "output_type": "stream",
     "text": [
      "(1, 44, 44)\n"
     ]
    },
    {
     "data": {
      "image/png": "[encoded data removed]",
      "text/plain": [
       "<Figure size 432x288 with 2 Axes>"
      ]
     },
     "metadata": {
      "needs_background": "light"
     },
     "output_type": "display_data"
    }
   ],
   "source": [
    "# Show the downloaded image\n",
    "with rasterio.open(\"simple_download_ndvi.tif\", \"r\") as ds:\n",
    "    img = ds.read()\n",
    "\n",
    "plt.imshow(img[0], vmin=0, vmax=1)\n",
    "plt.title(\"NDVI\")\n",
    "plt.colorbar()\n",
    "\n",
    "print(img.shape)"
   ]
  },
  {
   "cell_type": "markdown",
   "metadata": {},
   "source": [
    "### Download timeseries\n",
    "\n",
    "Downloading an aggregated timeseries for an area of interest is another great way to explore a dataset. \n",
    "It can give you a sense of how much data is available, and how the signal behaves for your area of interest.\n",
    "See the example at https://open-eo.github.io/openeo-python-client/basics.html#example-retrieving-aggregated-timeseries for inspiration\n",
    "\n",
    "\n",
    "**Warning**\n",
    "- When debugging, it is recommmended to always work on small areas and date ranges. This improves interactivity, and avoids a network timeout when connecting with the backend.\n",
    "-  When you do experience timeouts, and tuning parameters does not work, have a look at using batch jobs:\n",
    "https://open-eo.github.io/openeo-python-client/basics.html#managing-jobs-in-openeo\n",
    "- Note that the performance of requests can depend on the backend!"
   ]
  },
  {
   "cell_type": "code",
   "execution_count": 16,
   "metadata": {},
   "outputs": [],
   "source": [
    "from openeo.rest.conversions import timeseries_json_to_pandas\n",
    "import pandas as pd"
   ]
  },
  {
   "cell_type": "code",
   "execution_count": null,
   "metadata": {},
   "outputs": [],
   "source": [
    "ndvi_timeseries = S2bands.CALCULATE AND EXECUTE HERE"
   ]
  },
  {
   "cell_type": "code",
   "execution_count": null,
   "metadata": {},
   "outputs": [],
   "source": []
  },
  {
   "cell_type": "code",
   "execution_count": null,
   "metadata": {},
   "outputs": [],
   "source": []
  },
  {
   "cell_type": "code",
   "execution_count": null,
   "metadata": {},
   "outputs": [],
   "source": []
  },
  {
   "cell_type": "code",
   "execution_count": 18,
   "metadata": {},
   "outputs": [
    {
     "data": {
      "text/plain": [
       "<matplotlib.axes._subplots.AxesSubplot at 0x7fe80cc74128>"
      ]
     },
     "execution_count": 18,
     "metadata": {},
     "output_type": "execute_result"
    },
    {
     "data": {
      "image/png": "[encoded data removed]",
      "text/plain": [
       "<Figure size 432x288 with 1 Axes>"
      ]
     },
     "metadata": {
      "needs_background": "light"
     },
     "output_type": "display_data"
    }
   ],
   "source": [
    "from openeo.rest.conversions import timeseries_json_to_pandas\n",
    "import pandas as pd\n",
    "s = timeseries_json_to_pandas(ndvi_timeseries)\n",
    "s.index = pd.to_datetime(s.index)\n",
    "s.plot(marker='o', title=\"NDVI\")"
   ]
  },
  {
   "cell_type": "markdown",
   "metadata": {},
   "source": [
    "### Another backend\n",
    "\n",
    "Try to do the same exercises against another openEO backend.\n",
    "\n",
    "\n"
   ]
  },
  {
   "cell_type": "code",
   "execution_count": null,
   "metadata": {},
   "outputs": [],
   "source": []
  },
  {
   "cell_type": "code",
   "execution_count": null,
   "metadata": {},
   "outputs": [],
   "source": []
  },
  {
   "cell_type": "code",
   "execution_count": null,
   "metadata": {},
   "outputs": [],
   "source": []
  },
  {
   "cell_type": "code",
   "execution_count": null,
   "metadata": {},
   "outputs": [],
   "source": []
  },
  {
   "cell_type": "markdown",
   "metadata": {},
   "source": [
    "## Step 2. Merging Sentinel-1 Gamma0 (`load_collection`/`resample_cube_spatial`/`merge_cubes`)\n",
    "\n",
    "Now we merge the Sentinel-2 based NDVI data with Sentinel-1 data using the `merge_cubes` process and `resample_cube_spatial` to properly align both cubes."
   ]
  },
  {
   "cell_type": "code",
   "execution_count": 19,
   "metadata": {},
   "outputs": [],
   "source": [
    "S1bands = vito_conn.load_collection('TERRASCOPE_S1_GAMMA0_V1', bands=['VH', 'VV'])\n",
    "S1bands = S1bands.resample_cube_spatial(S2ndvi)\n",
    "\n",
    "# To merge properly both cubes need same set of dimensions, so we add a \"band\" dimension again to the NDVI cube.\n",
    "merged_cube = S2ndvi.add_dimension(\"bands\", \"S2ndvi\", type=\"bands\").merge_cubes(S1bands)"
   ]
  },
  {
   "cell_type": "markdown",
   "metadata": {},
   "source": [
    "## Step 3. Preprocessing and merging PROBA-V 10-daily composites to Sentinel-2 resolution(`load_collection`/`resample_cube_spatial`/`merge_cubes`/`mask_polygon`)\n",
    "\n",
    "The Sentinel-2 data has 10m resolution, while the PROBA-V images are at 300m. Therefore a resampling has to be performed before the two data sources can be merged into a single dataset. \n",
    "\n",
    "The masking to the bounding box (`mask_polygon(bbox_polygon)`) helps to optimize the process and restrict resampling to the area of interest."
   ]
  },
  {
   "cell_type": "code",
   "execution_count": 20,
   "metadata": {},
   "outputs": [],
   "source": [
    "PVndvi = vito_conn.load_collection('PROBAV_L3_S10_TOC_NDVI_333M', bands=['ndvi'])\n",
    "PVndvi = PVndvi.resample_cube_spatial(S2ndvi)\n",
    "PVndvi = PVndvi.mask_polygon(bbox_polygon)\n",
    "merged_cube = merged_cube.merge_cubes(PVndvi)"
   ]
  },
  {
   "cell_type": "markdown",
   "metadata": {},
   "source": [
    "## Spatio-temporal constraints\n",
    "\n",
    "Finally, by specifying the date range and bounding box, the merged cube will be ready for the data fusion step."
   ]
  },
  {
   "cell_type": "code",
   "execution_count": 21,
   "metadata": {},
   "outputs": [],
   "source": [
    "merged_field_cube = merged_cube.filter_temporal(startdate, enddate).filter_bbox(**bbox)"
   ]
  },
  {
   "cell_type": "markdown",
   "metadata": {},
   "source": [
    "## Using User Defined Functions (UDF) in openEO\n",
    "\n",
    "\n",
    "At this point, you know how to use so called 'predefined' functions, and are able to download and inspect intermediate results.\n",
    "The next level of usage is mastering user defined functions: https://open-eo.github.io/openeo-python-client/udf.html\n",
    "\n",
    "This example uses two UDF's: one that users Tensorflow, the other one applies Szavitky Golay smoothing.\n",
    "Try to understand how this works, or adjust them if you feel like a challenge!\n",
    "\n"
   ]
  },
  {
   "cell_type": "markdown",
   "metadata": {},
   "source": [
    "### Step 4. Apply deep learning model (GAN) to generate single NDVI (`apply_neighborhood`/`run_udf`)\n",
    "\n",
    "The idea is that gaps in the Sentinel-2 NDVI are filled with information from the other sources. This is achieved by using a previously trained a GAN model (generative adversarial network). This is a technique that is able to reconstruct realistic looking photographs, but has also proven its use in scientific applications. \n",
    "\n",
    "The current model is designed such that it takes a spatio-temporal datacubes of 128x128 pixel area for all inputs with an overlap of 16 pixels. Hence, it can combine information provided by a time series of a pixel, as well as the local spatial neighbourhood of a pixel. In openEO this chunked processing can be done with the `apply_neighborhood` process.\n",
    "\n",
    "The model itself is not included in the use case code, we simply load a pre-designed architecture with the weights. This demonstrates the ability of openEO to integrate with modern machine learning libraries like Tensorflow.\n",
    "\n",
    "Runtime parametrization of a UDF is under development at the moment, therefore simple string substitution approach was used (the UDFString class)."
   ]
  },
  {
   "cell_type": "code",
   "execution_count": 22,
   "metadata": {},
   "outputs": [],
   "source": [
    "from pathlib import Path\n",
    "import re\n",
    "import requests\n",
    "\n",
    "class UDFString():\n",
    "    def __init__(self, filename):\n",
    "        if filename.startswith(\"https://\"):\n",
    "            self.value = requests.get(filename).text\n",
    "        else:\n",
    "            with open(filename, 'r+') as f:\n",
    "                self.value = f.read()\n",
    "    def replace_option(self,option,new_value):\n",
    "        self.value=re.sub('(\\n\\s*'+option+'\\s*=).*\\n','\\\\1 '+new_value+'\\n',self.value,count=1)\n",
    "        return self\n",
    "\n",
    "# Model weights (path to file on computing cluster)\n",
    "openeo_model= '/data/users/Public/banyait/usecase_multisource_data_fusion/gan_model.h5'\n",
    "udf_url = \"https://raw.githubusercontent.com/Open-EO/openeo-usecases/master/vito_phenology_usecase/notebook/udf/udf_gan.py\"\n",
    "gan_udf_code = UDFString(udf_url).replace_option('prediction_model', '\"'+openeo_model+'\"').value\n",
    "\n",
    "ndvi_cube = merged_field_cube.apply_neighborhood(lambda data: data.run_udf(udf=gan_udf_code, runtime='Python'), size=[\n",
    "    {'dimension': 'x', 'value': 112, 'unit': 'px'},\n",
    "    {'dimension': 'y', 'value': 112, 'unit': 'px'}\n",
    "], overlap=[\n",
    "    {'dimension': 'x', 'value': 8, 'unit': 'px'},\n",
    "    {'dimension': 'y', 'value': 8, 'unit': 'px'}\n",
    "])\n",
    "ndvi_cube=ndvi_cube.add_dimension(\"bands\", \"ndvi\", type=\"bands\").band(\"ndvi\")"
   ]
  },
  {
   "cell_type": "markdown",
   "metadata": {},
   "source": [
    "### Step 5. Pixel-wise smoothing of the time series using Savitzky–Golay filter (`apply_dimension`/`run_udf`)\n",
    "\n",
    "In this step we want to smooth the data along the temporal dimension, independently on every pixel.\n",
    "We will use the standard [Savitzky–Golay filter](https://en.wikipedia.org/wiki/Savitzky%E2%80%93Golay_filter) from the SciPy package.\n",
    "The illustration below shows the effect on some example points from the field."
   ]
  },
  {
   "cell_type": "code",
   "execution_count": 23,
   "metadata": {},
   "outputs": [
    {
     "data": {
      "text/html": [
       "<img src=\"https://github.com/Open-EO/openeo-usecases/raw/master/vito_phenology_usecase/notebook/img/gan.png\"/>"
      ],
      "text/plain": [
       "<IPython.core.display.Image object>"
      ]
     },
     "metadata": {},
     "output_type": "display_data"
    }
   ],
   "source": [
    "display(Image(url=\"https://github.com/Open-EO/openeo-usecases/raw/master/vito_phenology_usecase/notebook/img/gan.png\"))"
   ]
  },
  {
   "cell_type": "markdown",
   "metadata": {},
   "source": [
    "### Step 6. Pixel wise derivation of phenological parameters (`apply_dimension`/`run_udf`)\n",
    "\n",
    "Derives phenological parameters at pixel level from the dense NDVI time series. Over the season the NDVI value grows as the plants grew and at the end of the season it drops at harvest time. For this demonstration, we choose a very simple implementation which in essence just searches for the local minimums. More advanced implementations are available, for instance by using the Timesat library. "
   ]
  },
  {
   "cell_type": "code",
   "execution_count": 24,
   "metadata": {},
   "outputs": [
    {
     "data": {
      "text/html": [
       "<img src=\"https://github.com/Open-EO/openeo-usecases/raw/master/vito_phenology_usecase/notebook/img/pheno.png\"/>"
      ],
      "text/plain": [
       "<IPython.core.display.Image object>"
      ]
     },
     "metadata": {},
     "output_type": "display_data"
    }
   ],
   "source": [
    "display(Image(url=\"https://github.com/Open-EO/openeo-usecases/raw/master/vito_phenology_usecase/notebook/img/pheno.png\"))"
   ]
  },
  {
   "cell_type": "markdown",
   "metadata": {},
   "source": [
    "### Combined execution of smoothing and phenology\n",
    "\n",
    "While it is technically possible in openEO to implement the Savitzky-Golay filtering and phenology parameter estimation\n",
    "in dedicated UDF, we will combine the calculation in a single UDF for performance reasons."
   ]
  },
  {
   "cell_type": "code",
   "execution_count": 25,
   "metadata": {},
   "outputs": [],
   "source": [
    "udf_url = \"https://raw.githubusercontent.com/Open-EO/openeo-usecases/master/vito_phenology_usecase/notebook/udf/udf_savitzkygolaysmooth_phenology.py\"\n",
    "udf = openeo.UDF(UDFString(udf_url).value)\n",
    "\n",
    "phenology_cube = ndvi_cube.apply_dimension(process=udf, dimension='t')"
   ]
  },
  {
   "cell_type": "markdown",
   "metadata": {},
   "source": [
    "## Final \"cube\"\n",
    "\n",
    "\n",
    "With this `phenology_cube`, we completed building the openEO \"process\". \n",
    "\n",
    "We can inspect the \"process graph\" we will send to the backend for execution.\n",
    "For example, let's dump it in a JSON file:"
   ]
  },
  {
   "cell_type": "code",
   "execution_count": 26,
   "metadata": {},
   "outputs": [],
   "source": [
    "import json\n",
    "with open('phenology_graph.json','w') as f:\n",
    "    json.dump(phenology_cube.flatten(), f, indent=2)"
   ]
  },
  {
   "cell_type": "markdown",
   "metadata": {},
   "source": [
    "## Executing the process\n",
    "\n",
    "A process can either be excuted via synchronous or batch mode. \n",
    "* **synchronous mode** keeps the HTTP connection open and is intended for small/quick calculations (if the calculation takes to long or the result is too large, the connection and related data might be lost)\n",
    "* **batch mode** allows to run long lasting, large jobs while detaching and reconnecting for the results later\n",
    "\n",
    "Let's choose GeoTIFF for the format of the results."
   ]
  },
  {
   "cell_type": "code",
   "execution_count": 27,
   "metadata": {},
   "outputs": [
    {
     "name": "stdout",
     "output_type": "stream",
     "text": [
      "0:00:00.000003 Job '724af522-bf40-45ed-82a3-d121542232a3': created (progress N/A)\n",
      "0:00:05.162425 Job '724af522-bf40-45ed-82a3-d121542232a3': created (progress N/A)\n",
      "0:00:11.537323 Job '724af522-bf40-45ed-82a3-d121542232a3': created (progress N/A)\n",
      "0:00:19.469895 Job '724af522-bf40-45ed-82a3-d121542232a3': created (progress N/A)\n",
      "0:00:29.581864 Job '724af522-bf40-45ed-82a3-d121542232a3': queued (progress N/A)\n",
      "0:00:41.917892 Job '724af522-bf40-45ed-82a3-d121542232a3': queued (progress N/A)\n",
      "0:00:57.433825 Job '724af522-bf40-45ed-82a3-d121542232a3': queued (progress N/A)\n",
      "0:01:16.745062 Job '724af522-bf40-45ed-82a3-d121542232a3': queued (progress N/A)\n",
      "0:01:40.997841 Job '724af522-bf40-45ed-82a3-d121542232a3': running (progress N/A)\n",
      "0:02:11.682771 Job '724af522-bf40-45ed-82a3-d121542232a3': running (progress N/A)\n",
      "0:02:49.169831 Job '724af522-bf40-45ed-82a3-d121542232a3': running (progress N/A)\n",
      "0:03:36.525825 Job '724af522-bf40-45ed-82a3-d121542232a3': running (progress N/A)\n",
      "0:04:35.470000 Job '724af522-bf40-45ed-82a3-d121542232a3': running (progress N/A)\n",
      "0:05:36.094011 Job '724af522-bf40-45ed-82a3-d121542232a3': running (progress N/A)\n",
      "0:06:36.597829 Job '724af522-bf40-45ed-82a3-d121542232a3': running (progress N/A)\n",
      "0:07:37.145864 Job '724af522-bf40-45ed-82a3-d121542232a3': running (progress N/A)\n",
      "0:08:37.357771 Job '724af522-bf40-45ed-82a3-d121542232a3': finished (progress N/A)\n",
      "CPU times: user 533 ms, sys: 126 ms, total: 660 ms\n",
      "Wall time: 8min 59s\n"
     ]
    },
    {
     "data": {
      "text/plain": [
       "<RESTJob job_id='724af522-bf40-45ed-82a3-d121542232a3'>"
      ]
     },
     "execution_count": 27,
     "metadata": {},
     "output_type": "execute_result"
    }
   ],
   "source": [
    "%%time\n",
    "# Synchronous mode\n",
    "# phenology_cube.download(\"eos_sos.tif\", format='GTiff')\n",
    "\n",
    "\n",
    "# Batch job mode\n",
    "job_options = {'driver-memory': '4G', 'executor-memory': '4G'}\n",
    "phenology_cube.execute_batch(\"eos_sos.tif\", out_format='GTiff', job_options=job_options, parameters={\"tiled\":True})"
   ]
  },
  {
   "cell_type": "markdown",
   "metadata": {},
   "source": [
    "## Results\n",
    "After a successful run the resulting image will contain two bands: start and end of season values as day of years."
   ]
  },
  {
   "cell_type": "code",
   "execution_count": 28,
   "metadata": {},
   "outputs": [
    {
     "name": "stderr",
     "output_type": "stream",
     "text": [
      "WARNING:rasterio._env:CPLE_AppDefined in TIFFReadDirectory:Sum of Photometric type-related color channels and ExtraSamples doesn't match SamplesPerPixel. Defining non-color channels as ExtraSamples.\n"
     ]
    },
    {
     "data": {
      "text/plain": [
       "<matplotlib.colorbar.Colorbar at 0x7fe80cb1df98>"
      ]
     },
     "execution_count": 28,
     "metadata": {},
     "output_type": "execute_result"
    },
    {
     "data": {
      "image/png": "[encoded data removed]",
      "text/plain": [
       "<Figure size 864x720 with 5 Axes>"
      ]
     },
     "metadata": {
      "needs_background": "light"
     },
     "output_type": "display_data"
    }
   ],
   "source": [
    "with rasterio.open('eos_sos.tif', 'r') as ds:\n",
    "    img = ds.read()  \n",
    "\n",
    "fig, axes = plt.subplots(figsize=(12,10), nrows=2, ncols=2)\n",
    "\n",
    "axes[0, 0].set_title(\"Start of season\")\n",
    "axes[0, 0].hist(img[0].flat, bins=3*12, range=(0,365))\n",
    "axes[0, 0].set_xlabel(\"day of year\")\n",
    "im0 = axes[1, 0].imshow(img[0], vmin=0, vmax=365)\n",
    "\n",
    "axes[0, 1].set_title(\"End of season\")\n",
    "axes[0, 1].hist(img[1].flat, bins=3*12, range=(0,365))\n",
    "axes[0, 1].set_xlabel(\"day of year\")\n",
    "im1 = axes[1, 1].imshow(img[1], vmin=0, vmax=365)\n",
    "\n",
    "fig.colorbar(im0, ax=axes, orientation='horizontal', fraction=.1)"
   ]
  },
  {
   "cell_type": "markdown",
   "metadata": {},
   "source": [
    "## Play around\n",
    "\n",
    "If you've gotten here, you've already mastered the most important openEO concepts, so play around, read the docs, and see where it gets you."
   ]
  },
  {
   "cell_type": "code",
   "execution_count": null,
   "metadata": {},
   "outputs": [],
   "source": []
  },
  {
   "cell_type": "code",
   "execution_count": null,
   "metadata": {},
   "outputs": [],
   "source": []
  },
  {
   "cell_type": "code",
   "execution_count": null,
   "metadata": {},
   "outputs": [],
   "source": []
  },
  {
   "cell_type": "code",
   "execution_count": null,
   "metadata": {},
   "outputs": [],
   "source": []
  }
 ],
 "metadata": {
  "kernelspec": {
   "display_name": "openeo-py36",
   "language": "python",
   "name": "openeo-py36"
  },
  "language_info": {
   "codemirror_mode": {
    "name": "ipython",
    "version": 3
   },
   "file_extension": ".py",
   "mimetype": "text/x-python",
   "name": "python",
   "nbconvert_exporter": "python",
   "pygments_lexer": "ipython3",
   "version": "3.6.9"
  }
 },
 "nbformat": 4,
 "nbformat_minor": 4
}
