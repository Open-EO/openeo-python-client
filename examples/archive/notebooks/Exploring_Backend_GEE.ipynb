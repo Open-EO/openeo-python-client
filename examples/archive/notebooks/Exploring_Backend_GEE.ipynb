{
 "cells": [
  {
   "cell_type": "code",
   "execution_count": null,
   "metadata": {},
   "outputs": [],
   "source": [
    "import openeo\n",
    "from openeo.internal.graph_building import PGNode\n",
    "import json"
   ]
  },
  {
   "cell_type": "code",
   "execution_count": null,
   "metadata": {},
   "outputs": [],
   "source": [
    "# Define constants\n",
    "\n",
    "# Connection\n",
    "GEE_DRIVER_URL = \"https://earthengine.openeo.org/v1.0\"\n",
    "OUTPUT_FILE = \"/tmp/openeo_gee_output.png\"\n",
    "OUTFORMAT = \"png\"\n",
    "\n",
    "# Data\n",
    "PRODUCT_ID = \"COPERNICUS/S1_GRD\"\n",
    "\n",
    "DATE_START = \"2017-03-01\"\n",
    "DATE_END = \"2017-04-01\"\n",
    "\n",
    "IMAGE_WEST = 16.06\n",
    "IMAGE_EAST = 16.65\n",
    "IMAGE_NORTH = 48.31\n",
    "IMAGE_SOUTH = 48.1\n",
    "IMAGE_SRS = \"EPSG:4326\"\n",
    "\n",
    "BANDS = [\"VV\", \"VH\"]"
   ]
  },
  {
   "cell_type": "code",
   "execution_count": null,
   "metadata": {},
   "outputs": [],
   "source": [
    "# Connect with GEE backend and authenticate with basic authentication\n",
    "con = openeo.connect(GEE_DRIVER_URL)\n",
    "con.authenticate_basic()\n",
    "con"
   ]
  },
  {
   "cell_type": "code",
   "execution_count": null,
   "metadata": {},
   "outputs": [],
   "source": [
    "# Get available processes from the back end.\n",
    "processes = con.list_processes()\n",
    "processes[0]"
   ]
  },
  {
   "cell_type": "code",
   "execution_count": null,
   "metadata": {},
   "outputs": [],
   "source": [
    "# Retrieve the list of available collections\n",
    "collections = con.list_collections()\n",
    "\n",
    "list(collections)[:2]"
   ]
  },
  {
   "cell_type": "code",
   "execution_count": null,
   "metadata": {},
   "outputs": [],
   "source": [
    "# Get detailed information about a collection\n",
    "process = con.describe_collection('COPERNICUS/S2')\n",
    "process"
   ]
  }
 ],
 "metadata": {
  "kernelspec": {
   "display_name": "Python 3",
   "language": "python",
   "name": "python3"
  },
  "language_info": {
   "codemirror_mode": {
    "name": "ipython",
    "version": 3
   },
   "file_extension": ".py",
   "mimetype": "text/x-python",
   "name": "python",
   "nbconvert_exporter": "python",
   "pygments_lexer": "ipython3",
   "version": "3.5.6"
  }
 },
 "nbformat": 4,
 "nbformat_minor": 4
}
