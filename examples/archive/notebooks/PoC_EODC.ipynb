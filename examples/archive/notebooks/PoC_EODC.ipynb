{
 "cells": [
  {
   "cell_type": "markdown",
   "metadata": {},
   "source": [
    "# OpenEO Connection to EODC Backend"
   ]
  },
  {
   "cell_type": "code",
   "execution_count": 1,
   "metadata": {},
   "outputs": [],
   "source": [
    "import logging\n",
    "import openeo\n",
    "from openeo.auth.auth_bearer import BearerAuth\n",
    "logging.basicConfig(level=logging.INFO)"
   ]
  },
  {
   "cell_type": "code",
   "execution_count": 2,
   "metadata": {},
   "outputs": [],
   "source": [
    "# Define constants\n",
    "\n",
    "# Connection\n",
    "EODC_DRIVER_URL = \"http://openeo.eodc.eu\"\n",
    "OUTPUT_FILE = \"/tmp/openeo_eodc_output.tiff\"\n",
    "\n",
    "EODC_USER = \"user1\"\n",
    "EODC_PWD = \"Test123#\"\n",
    "\n",
    "# Data\n",
    "PRODUCT_ID = \"s2a_prd_msil1c\"\n",
    "\n",
    "DATE_START = \"2017-01-01\"\n",
    "DATE_END = \"2017-01-08\"\n",
    "\n",
    "IMAGE_LEFT = 652000\n",
    "IMAGE_RIGHT = 672000\n",
    "IMAGE_TOP = 5161000\n",
    "IMAGE_BOTTOM = 5181000\n",
    "IMAGE_SRS = \"EPSG:32632\"\n",
    "\n",
    "# Processes\n",
    "NDVI_RED = \"B04\"\n",
    "NDVI_NIR = \"B08\""
   ]
  },
  {
   "cell_type": "code",
   "execution_count": 3,
   "metadata": {},
   "outputs": [
    {
     "ename": "TypeError",
     "evalue": "get_base() missing 1 required positional argument: 'self'",
     "traceback": [
      "\u001b[0;31m---------------------------------------------------------------------------\u001b[0m",
      "\u001b[0;31mTypeError\u001b[0m                                 Traceback (most recent call last)",
      "\u001b[0;32m<ipython-input-3-460cf2d91abc>\u001b[0m in \u001b[0;36m<module>\u001b[0;34m()\u001b[0m\n\u001b[1;32m      2\u001b[0m \u001b[0msession\u001b[0m \u001b[0;34m=\u001b[0m \u001b[0mopeneo\u001b[0m\u001b[0;34m.\u001b[0m\u001b[0msession\u001b[0m\u001b[0;34m(\u001b[0m\u001b[0mEODC_USER\u001b[0m\u001b[0;34m,\u001b[0m \u001b[0mendpoint\u001b[0m\u001b[0;34m=\u001b[0m\u001b[0mEODC_DRIVER_URL\u001b[0m\u001b[0;34m)\u001b[0m\u001b[0;34m\u001b[0m\u001b[0m\n\u001b[1;32m      3\u001b[0m \u001b[0;31m# Login\u001b[0m\u001b[0;34m\u001b[0m\u001b[0;34m\u001b[0m\u001b[0m\n\u001b[0;32m----> 4\u001b[0;31m \u001b[0mtoken\u001b[0m \u001b[0;34m=\u001b[0m \u001b[0msession\u001b[0m\u001b[0;34m.\u001b[0m\u001b[0mauth\u001b[0m\u001b[0;34m(\u001b[0m\u001b[0mEODC_USER\u001b[0m\u001b[0;34m,\u001b[0m \u001b[0mEODC_PWD\u001b[0m\u001b[0;34m,\u001b[0m \u001b[0mBearerAuth\u001b[0m\u001b[0;34m)\u001b[0m\u001b[0;34m\u001b[0m\u001b[0m\n\u001b[0m\u001b[1;32m      5\u001b[0m \u001b[0;34m\u001b[0m\u001b[0m\n\u001b[1;32m      6\u001b[0m \u001b[0msession\u001b[0m\u001b[0;34m\u001b[0m\u001b[0m\n",
      "\u001b[0;32m/data/REPO/openeo-python-client/openeo/rest/rest_session.py\u001b[0m in \u001b[0;36mauth\u001b[0;34m(self, username, password, auth_class)\u001b[0m\n\u001b[1;32m     39\u001b[0m         \"\"\"\n\u001b[1;32m     40\u001b[0m \u001b[0;34m\u001b[0m\u001b[0m\n\u001b[0;32m---> 41\u001b[0;31m         \u001b[0;32mif\u001b[0m \u001b[0mauth_class\u001b[0m\u001b[0;34m.\u001b[0m\u001b[0mget_base\u001b[0m\u001b[0;34m(\u001b[0m\u001b[0;34m)\u001b[0m \u001b[0;34m!=\u001b[0m \u001b[0;34m\"Auth\"\u001b[0m\u001b[0;34m:\u001b[0m\u001b[0;34m\u001b[0m\u001b[0m\n\u001b[0m\u001b[1;32m     42\u001b[0m             \u001b[0;32mreturn\u001b[0m \u001b[0;32mFalse\u001b[0m\u001b[0;34m\u001b[0m\u001b[0m\n\u001b[1;32m     43\u001b[0m \u001b[0;34m\u001b[0m\u001b[0m\n",
      "\u001b[0;31mTypeError\u001b[0m: get_base() missing 1 required positional argument: 'self'"
     ],
     "output_type": "error"
    }
   ],
   "source": [
    "# Connect with EODC backend\n",
    "session = openeo.session(EODC_USER, endpoint=EODC_DRIVER_URL)\n",
    "# Login \n",
    "token = session.auth(EODC_USER, EODC_PWD, BearerAuth)\n",
    "\n",
    "session"
   ]
  },
  {
   "cell_type": "code",
   "execution_count": 4,
   "metadata": {},
   "outputs": [
    {
     "data": {
      "text/plain": [
       "[{'description': 'Sentinel-2 is a multispectral, high-resolution, optical imaging mission, developed by the European Space Agency (ESA) in the frame of the Copernicus program of the European Commission.',\n",
       "  'product_id': 's2a_prd_msil1c',\n",
       "  'source': 'ESA'}]"
      ]
     },
     "execution_count": 4,
     "metadata": {},
     "output_type": "execute_result"
    }
   ],
   "source": [
    "# Retrieve the list of available collections\n",
    "collections = session.imagecollections()\n",
    "\n",
    "list(collections)[:5]"
   ]
  },
  {
   "cell_type": "code",
   "execution_count": 5,
   "metadata": {},
   "outputs": [
    {
     "data": {
      "text/plain": [
       "{'dc:creator': 'ESA',\n",
       " 'dc:date': '2017-12-05',\n",
       " 'dc:identifier': 's2a_prd_msil1c',\n",
       " 'dc:language': 'eng',\n",
       " 'dc:relation': None,\n",
       " 'dc:rights': 'otherRestrictions',\n",
       " 'dc:subject': ['Sentinel-2',\n",
       "  'Orthoimagery',\n",
       "  'Land cover',\n",
       "  'Geographical names',\n",
       "  'ISO19115',\n",
       "  'dataset',\n",
       "  'imageryBaseMapsEarthCover',\n",
       "  'no conditions apply',\n",
       "  'Remote Sensing',\n",
       "  'http://www.opengis.net/def/crs/EPSG/0/4936',\n",
       "  'otherRestrictions',\n",
       "  'EODC Earth Observation Data Centre GmbH',\n",
       "  'no limitation',\n",
       "  'Satellite',\n",
       "  'S2MSIL1C',\n",
       "  'Level-1C',\n",
       "  'Copernicus',\n",
       "  'Sentinel-2 MSI Level-1C',\n",
       "  {'#text': 'imageryBaseMapsEarthCover',\n",
       "   '@scheme': 'http://www.isotc211.org/2005/resources/Codelist/gmxCodelists.xml#MD_TopicCategoryCode'}],\n",
       " 'dc:title': 'Sentinel-2A MSI Level-1C',\n",
       " 'dc:type': 'series',\n",
       " 'dct:abstract': 'Sentinel-2 is a multispectral, high-resolution, optical imaging mission, developed by the European Space Agency (ESA) in the frame of the Copernicus program of the European Commission.',\n",
       " 'dct:alternative': 's2a_prd_msil1c',\n",
       " 'dct:modified': '2017-12-05',\n",
       " 'dct:spatial': {'#text': 'urn:ogc:def:crs:EPSG:6.11:http://www.opengis.net/def/crs/EPSG/0/4326',\n",
       "  '@scheme': 'http://www.opengis.net/def/crs'},\n",
       " 'ows:BoundingBox': {'@crs': 'urn:x-ogc:def:crs:EPSG:6.11:4326',\n",
       "  '@dimensions': '2',\n",
       "  'ows:LowerCorner': '-90.0 -180.0',\n",
       "  'ows:UpperCorner': '90.0 180.0'}}"
      ]
     },
     "execution_count": 5,
     "metadata": {},
     "output_type": "execute_result"
    }
   ],
   "source": [
    "# Get detailed information about a collection\n",
    "collection = session.get_collection(PRODUCT_ID)\n",
    "\n",
    "collection"
   ]
  },
  {
   "cell_type": "code",
   "execution_count": 6,
   "metadata": {},
   "outputs": [
    {
     "data": {
      "text/plain": [
       "<openeo.rest.imagery.RestImagery at 0x7fc552f9ea20>"
      ]
     },
     "execution_count": 6,
     "metadata": {},
     "output_type": "execute_result"
    }
   ],
   "source": [
    "# Select collection product\n",
    "s2a_prd_msil1c = session.image(PRODUCT_ID)\n",
    "\n",
    "s2a_prd_msil1c"
   ]
  },
  {
   "cell_type": "code",
   "execution_count": 7,
   "metadata": {},
   "outputs": [
    {
     "data": {
      "text/plain": [
       "[{'description': 'Converts and outputs the data to output destination.',\n",
       "  'process_id': 'convert'},\n",
       " {'description': 'Allows to extract one or multiple bands of multi-band raster image collection. Bands can be chosen either by band id, band name or by wavelength.',\n",
       "  'process_id': 'filter_bands'},\n",
       " {'description': 'Drops observations from a collection that are located outside of a given bounding box.',\n",
       "  'process_id': 'filter_bbox'},\n",
       " {'description': 'Drops observations from a collection that have been captured before a start or after a given end date.',\n",
       "  'process_id': 'filter_daterange'},\n",
       " {'description': 'Extracts and filters Sentinel-2 data from EODC storage to a mounted volume.',\n",
       "  'process_id': 'filter-s2'},\n",
       " {'description': 'Finds the minimum value of time series for all bands of the input dataset.',\n",
       "  'process_id': 'min_time'},\n",
       " {'description': 'Finds the minimum value of time series for all bands of the input dataset.',\n",
       "  'process_id': 'NDVI'}]"
      ]
     },
     "execution_count": 7,
     "metadata": {},
     "output_type": "execute_result"
    }
   ],
   "source": [
    "# Get list of available processes\n",
    "processes = session.get_all_processes()\n",
    "\n",
    "processes"
   ]
  },
  {
   "cell_type": "code",
   "execution_count": 8,
   "metadata": {},
   "outputs": [
    {
     "data": {
      "text/plain": [
       "<openeo.rest.imagery.RestImagery at 0x7fc565dfeb38>"
      ]
     },
     "execution_count": 8,
     "metadata": {},
     "output_type": "execute_result"
    }
   ],
   "source": [
    "# Specifying the date range and the bounding box\n",
    "timeseries = s2a_prd_msil1c.filter_bbox(west=IMAGE_LEFT, east=IMAGE_RIGHT, north=IMAGE_TOP,\n",
    "                                             south=IMAGE_BOTTOM, crs=IMAGE_SRS)\n",
    "timeseries = timeseries.filter_temporal(DATE_START, DATE_END)\n",
    "\n",
    "timeseries"
   ]
  },
  {
   "cell_type": "code",
   "execution_count": 9,
   "metadata": {},
   "outputs": [
    {
     "data": {
      "text/plain": [
       "<openeo.rest.imagery.RestImagery at 0x7fc565dfe898>"
      ]
     },
     "execution_count": 9,
     "metadata": {},
     "output_type": "execute_result"
    }
   ],
   "source": [
    "# Applying some operations on the data\n",
    "timeseries = timeseries.ndvi(NDVI_RED, NDVI_NIR)\n",
    "timeseries = timeseries.min_time()\n",
    "\n",
    "timeseries"
   ]
  },
  {
   "cell_type": "code",
   "execution_count": 10,
   "metadata": {},
   "outputs": [
    {
     "data": {
      "text/plain": [
       "<openeo.rest.job.ClientJob at 0x7fc565dfecf8>"
      ]
     },
     "execution_count": 10,
     "metadata": {},
     "output_type": "execute_result"
    }
   ],
   "source": [
    "# Sending the job to the backend\n",
    "job = timeseries.create_job()\n",
    "\n",
    "job"
   ]
  },
  {
   "cell_type": "code",
   "execution_count": 11,
   "metadata": {},
   "outputs": [],
   "source": [
    "# Queue job to start the processing\n",
    "status = job.queue()"
   ]
  },
  {
   "cell_type": "code",
   "execution_count": 11,
   "metadata": {},
   "outputs": [
    {
     "data": {
      "text/plain": [
       "{'consumed_credits': 0.0,\n",
       " 'job_id': 109,\n",
       " 'status': 'submitted',\n",
       " 'submitted': 'Tue, 13 Mar 2018 17:57:43 GMT',\n",
       " 'task': {'process_graph': {'args': {'imagery': {'args': {'imagery': {'args': {'from': '2017-01-01',\n",
       "        'imagery': {'args': {'bottom': 5181000,\n",
       "          'imagery': {'product_id': 's2a_prd_msil1c'},\n",
       "          'left': 652000,\n",
       "          'right': 672000,\n",
       "          'srs': 'EPSG:32632',\n",
       "          'top': 5161000},\n",
       "         'process_id': 'filter_bbox'},\n",
       "        'to': '2017-01-08'},\n",
       "       'process_id': 'filter_daterange'},\n",
       "      'nir': 'B08',\n",
       "      'red': 'B04'},\n",
       "     'process_id': 'NDVI'}},\n",
       "   'process_id': 'min_time'}},\n",
       " 'updated': 'Tue, 13 Mar 2018 17:57:43 GMT',\n",
       " 'user_id': 2}"
      ]
     },
     "execution_count": 11,
     "metadata": {},
     "output_type": "execute_result"
    }
   ],
   "source": [
    "# Get Status of Job\n",
    "status = job.status()\n",
    "\n",
    "status"
   ]
  },
  {
   "cell_type": "code",
   "execution_count": 12,
   "metadata": {},
   "outputs": [
    {
     "name": "stdout",
     "output_type": "stream",
     "text": [
      "Files are not (yet) available for job with id 107.\n"
     ]
    },
    {
     "data": {
      "text/plain": [
       "<openeo.rest.job.ClientJob at 0x7fc565dfe860>"
      ]
     },
     "execution_count": 12,
     "metadata": {},
     "output_type": "execute_result"
    }
   ],
   "source": [
    "# Download job result\n",
    "from openeo.rest.job import ClientJob\n",
    "job = ClientJob(107, session)\n",
    "job.download(OUTPUT_FILE)\n",
    "\n",
    "job"
   ]
  },
  {
   "cell_type": "code",
   "execution_count": 2,
   "metadata": {},
   "outputs": [
    {
     "name": "stdout",
     "output_type": "stream",
     "text": [
      "Driver: GTiff/GeoTIFF\r\n",
      "Files: /tmp/openeo_eodc_output.tiff\r\n",
      "       /tmp/openeo_eodc_output.tiff.aux.xml\r\n",
      "Size is 953, 622\r\n",
      "Coordinate System is:\r\n",
      "GEOGCS[\"WGS 84\",\r\n",
      "    DATUM[\"WGS_1984\",\r\n",
      "        SPHEROID[\"WGS 84\",6378137,298.257223563,\r\n",
      "            AUTHORITY[\"EPSG\",\"7030\"]],\r\n",
      "        AUTHORITY[\"EPSG\",\"6326\"]],\r\n",
      "    PRIMEM[\"Greenwich\",0],\r\n",
      "    UNIT[\"degree\",0.0174532925199433],\r\n",
      "    AUTHORITY[\"EPSG\",\"4326\"]]\r\n",
      "Origin = (10.984051868786896,46.760379340476071)\r\n",
      "Pixel Size = (0.000281691226781,-0.000281691226781)\r\n",
      "Metadata:\r\n",
      "  AREA_OR_POINT=Area\r\n",
      "Image Structure Metadata:\r\n",
      "  INTERLEAVE=BAND\r\n",
      "Corner Coordinates:\r\n",
      "Upper Left  (  10.9840519,  46.7603793) ( 10d59' 2.59\"E, 46d45'37.37\"N)\r\n",
      "Lower Left  (  10.9840519,  46.5851674) ( 10d59' 2.59\"E, 46d35' 6.60\"N)\r\n",
      "Upper Right (  11.2525036,  46.7603793) ( 11d15' 9.01\"E, 46d45'37.37\"N)\r\n",
      "Lower Right (  11.2525036,  46.5851674) ( 11d15' 9.01\"E, 46d35' 6.60\"N)\r\n",
      "Center      (  11.1182777,  46.6727734) ( 11d 7' 5.80\"E, 46d40'21.98\"N)\r\n",
      "Band 1 Block=953x2 Type=Float32, ColorInterp=Gray\r\n",
      "  1000 buckets from inf to -8.98847e+304:\r\n",
      "  0 0 0 0 0 0 0 0 0 0 0 0 0 0 0 0 0 0 0 0 0 0 0 0 0 0 0 0 0 0 0 0 0 0 0 0 0 0 0 0 0 0 0 0 0 0 0 0 0 0 0 0 0 0 0 0 0 0 0 0 0 0 0 0 0 0 0 0 0 0 0 0 0 0 0 0 0 0 0 0 0 0 0 0 0 0 0 0 0 0 0 0 0 0 0 0 0 0 0 0 0 0 0 0 0 0 0 0 0 0 0 0 0 0 0 0 0 0 0 0 0 0 0 0 0 0 0 0 0 0 0 0 0 0 0 0 0 0 0 0 0 0 0 0 0 0 0 0 0 0 0 0 0 0 0 0 0 0 0 0 0 0 0 0 0 0 0 0 0 0 0 0 0 0 0 0 0 0 0 0 0 0 0 0 0 0 0 0 0 0 0 0 0 0 0 0 0 0 0 0 0 0 0 0 0 0 0 0 0 0 0 0 0 0 0 0 0 0 0 0 0 0 0 0 0 0 0 0 0 0 0 0 0 0 0 0 0 0 0 0 0 0 0 0 0 0 0 0 0 0 0 0 0 0 0 0 0 0 0 0 0 0 0 0 0 0 0 0 0 0 0 0 0 0 0 0 0 0 0 0 0 0 0 0 0 0 0 0 0 0 0 0 0 0 0 0 0 0 0 0 0 0 0 0 0 0 0 0 0 0 0 0 0 0 0 0 0 0 0 0 0 0 0 0 0 0 0 0 0 0 0 0 0 0 0 0 0 0 0 0 0 0 0 0 0 0 0 0 0 0 0 0 0 0 0 0 0 0 0 0 0 0 0 0 0 0 0 0 0 0 0 0 0 0 0 0 0 0 0 0 0 0 0 0 0 0 0 0 0 0 0 0 0 0 0 0 0 0 0 0 0 0 0 0 0 0 0 0 0 0 0 0 0 0 0 0 0 0 0 0 0 0 0 0 0 0 0 0 0 0 0 0 0 0 0 0 0 0 0 0 0 0 0 0 0 0 0 0 0 0 0 0 0 0 0 0 0 0 0 0 0 0 0 0 0 0 0 0 0 0 0 0 0 0 0 0 0 0 0 0 0 0 0 0 0 0 0 0 0 0 0 0 0 0 0 0 0 0 0 0 0 0 0 0 0 0 0 0 0 0 0 0 0 0 0 0 0 0 0 0 0 0 0 0 0 0 0 0 0 0 0 0 0 0 0 0 0 0 0 0 0 0 0 0 0 0 0 0 0 0 0 0 0 0 0 0 0 0 0 0 0 0 0 0 0 0 0 0 0 0 0 0 0 0 0 0 0 0 0 0 0 0 0 0 0 0 0 0 0 0 0 0 0 0 0 0 0 0 0 0 0 0 0 0 0 0 0 0 0 0 0 0 0 0 0 0 0 0 0 0 0 0 0 0 0 0 0 0 0 0 0 0 0 0 0 0 0 0 0 0 0 0 0 0 0 0 0 0 0 0 0 0 0 0 0 0 0 0 0 0 0 0 0 0 0 0 0 0 0 0 0 0 0 0 0 0 0 0 0 0 0 0 0 0 0 0 0 0 0 0 0 0 0 0 0 0 0 0 0 0 0 0 0 0 0 0 0 0 0 0 0 0 0 0 0 0 0 0 0 0 0 0 0 0 0 0 0 0 0 0 0 0 0 0 0 0 0 0 0 0 0 0 0 0 0 0 0 0 0 0 0 0 0 0 0 0 0 0 0 0 0 0 0 0 0 0 0 0 0 0 0 0 0 0 0 0 0 0 0 0 0 0 0 0 0 0 0 0 0 0 0 0 0 0 0 0 0 0 0 0 0 0 0 0 0 0 0 0 0 0 0 0 0 0 0 0 0 0 0 0 0 0 0 0 0 0 0 0 0 0 0 0 0 0 0 0 0 0 0 0 0 0 0 0 0 0 0 0 0 0 0 0 0 0 0 0 0 0 0 0 0 0 0 0 0 0 0 0 0 0 0 0 0 0 0 0 0 0 0 0 0 0 0 0 0 0 0 0 0 0 0 0 0 0 0 0 0 0 0 0 0 0 0 0 0 0 0 0 0 0 0 0 0 0 0 0 0 0 0 0 0 0 0 0 0 0 0 0 0 0 0 0 0 0 0 0 0 0 0 0 0 0 0 0 0 0 0 0 0 0 0 0 0 0 0 0 0 0 0 0 0 0 0 0 0 0 0 0 0 0 0 0 0 0 0 0 0 0 0 0 0 0 0 0 0 0 0 0 0 0 0 0 0 0 0 0 0 0 0 0 \r\n",
      "  NoData Value=2\r\n"
     ]
    }
   ],
   "source": [
    "# Showing the result\n",
    "!gdalinfo -hist \"/tmp/openeo_eodc_output.tiff\""
   ]
  },
  {
   "cell_type": "code",
   "execution_count": null,
   "metadata": {},
   "outputs": [],
   "source": [
    ""
   ]
  }
 ],
 "metadata": {
  "kernelspec": {
   "display_name": "Python 3",
   "language": "python",
   "name": "python3"
  },
  "language_info": {
   "codemirror_mode": {
    "name": "ipython",
    "version": 3
   },
   "file_extension": ".py",
   "mimetype": "text/x-python",
   "name": "python",
   "nbconvert_exporter": "python",
   "pygments_lexer": "ipython3",
   "version": "3.6.4"
  }
 },
 "nbformat": 4,
 "nbformat_minor": 2
}
