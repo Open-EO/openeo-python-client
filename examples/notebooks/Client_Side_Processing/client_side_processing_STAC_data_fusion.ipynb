{
 "cells": [
  {
   "cell_type": "markdown",
   "id": "3cfbd63f-f9fe-4521-af0a-5679216871df",
   "metadata": {
    "tags": []
   },
   "source": [
    "<img src=\"https://avatars.githubusercontent.com/u/74911464?s=200&v=4\"\n",
    "     alt=\"OpenEO Platform logo\"\n",
    "     style=\"float: left; margin-right: 10px;\" />\n",
    "# OpenEO Platform - Client Side Processing\n",
    "\n",
    "## STAC Data Fusion\n"
   ]
  },
  {
   "cell_type": "markdown",
   "id": "739a4107-cc33-4948-ae72-74e41efc5128",
   "metadata": {},
   "source": [
    "In this interactive notebook we will show some usage examples of the Client Side Processing functionality of the openEO Python client."
   ]
  },
  {
   "cell_type": "markdown",
   "id": "827ec0c9-c38f-4d2f-a293-00d110ec70f6",
   "metadata": {
    "tags": []
   },
   "source": [
    "## Requirements"
   ]
  },
  {
   "cell_type": "markdown",
   "id": "51a9e53a-481c-4ea5-a175-652d6398828d",
   "metadata": {},
   "source": [
    "To use this functionality, you need `Python>=3.9`.\n",
    "\n",
    "You can install it using:\n",
    "    `pip install openeo[localprocessing]`\n",
    "\n",
    "<div class=\"alert alert-block alert-warning\">\n",
    "This functionality is still under development and the installation procedure might change.\n",
    "Please refer to official documentation page for the most up to date instructions:\n",
    "    \n",
    "<a href=\"url\">https://open-eo.github.io/openeo-python-client/cookbook/localprocessing.html</a>"
   ]
  },
  {
   "cell_type": "markdown",
   "id": "df8ae408-29f8-4262-90a6-b2935abda290",
   "metadata": {
    "tags": []
   },
   "source": [
    "## Sentinel-2 and Landsat-8 data"
   ]
  },
  {
   "cell_type": "markdown",
   "id": "2f1ee39b-4e69-48c1-8866-8f891a2f4e28",
   "metadata": {},
   "source": [
    "We are going to work with the Sentinel-2 and Landsat-8 data provided from the Microsoft Planetary Computer STAC Catalog."
   ]
  },
  {
   "cell_type": "code",
   "execution_count": 1,
   "id": "1335b8e1-5c81-42cc-93c8-5c217487ee47",
   "metadata": {},
   "outputs": [
    {
     "name": "stderr",
     "output_type": "stream",
     "text": [
      "Did not load machine learning processes due to missing dependencies: Install them like this: `pip install openeo-processes-dask[implementations, ml]`\n",
      "Did not load experimental processes due to missing dependencies. Install them like this: `pip install openeo-processes-dask[implementations, experimental]`\n",
      "C:\\Users\\mclaus\\Documents\\GitHub\\openeo-python-client\\openeo\\metadata.py:255: UserWarning: No cube:dimensions metadata\n",
      "  complain(\"No cube:dimensions metadata\")\n",
      "C:\\Users\\mclaus\\Documents\\GitHub\\stackstac\\stackstac\\prepare.py:369: UserWarning: The argument 'infer_datetime_format' is deprecated and will be removed in a future version. A strict version of it is now the default, see https://pandas.pydata.org/pdeps/0004-consistent-to-datetime-parsing.html. You can safely remove this argument.\n",
      "  times = pd.to_datetime(\n"
     ]
    }
   ],
   "source": [
    "from openeo.local import LocalConnection\n",
    "local_conn = LocalConnection(\"./\")\n",
    "\n",
    "url = \"https://planetarycomputer.microsoft.com/api/stac/v1/collections/sentinel-2-l2a\"\n",
    "spatial_extent =  {\"east\": 11.406212,\n",
    "          \"north\": 46.522237,\n",
    "          \"south\": 46.461019,\n",
    "          \"west\": 11.259613}\n",
    "temporal_extent = [\"2022-06-01\",\"2022-06-10\"]\n",
    "bands = [\"B04\",\"B08\"]\n",
    "properties = {\"eo:cloud_cover\": dict(lt=90)}\n",
    "s2_datacube = local_conn.load_stac(url=url,\n",
    "                    spatial_extent=spatial_extent,\n",
    "                    temporal_extent=temporal_extent,\n",
    "                    bands=bands,\n",
    "                    properties=properties)\n",
    "# s2_datacube.execute()"
   ]
  },
  {
   "cell_type": "code",
   "execution_count": 2,
   "id": "32cdb8f4-c9bc-4902-9f11-fa28a46651f9",
   "metadata": {},
   "outputs": [
    {
     "name": "stderr",
     "output_type": "stream",
     "text": [
      "C:\\Users\\mclaus\\Documents\\GitHub\\openeo-python-client\\openeo\\metadata.py:255: UserWarning: No cube:dimensions metadata\n",
      "  complain(\"No cube:dimensions metadata\")\n",
      "C:\\Users\\mclaus\\Documents\\GitHub\\stackstac\\stackstac\\prepare.py:369: UserWarning: The argument 'infer_datetime_format' is deprecated and will be removed in a future version. A strict version of it is now the default, see https://pandas.pydata.org/pdeps/0004-consistent-to-datetime-parsing.html. You can safely remove this argument.\n",
      "  times = pd.to_datetime(\n"
     ]
    }
   ],
   "source": [
    "url = \"https://planetarycomputer.microsoft.com/api/stac/v1/collections/landsat-c2-l2\"\n",
    "spatial_extent =  {\"east\": 11.406212,\n",
    "          \"north\": 46.522237,\n",
    "          \"south\": 46.461019,\n",
    "          \"west\": 11.259613}\n",
    "temporal_extent = [\"2022-06-01\",\"2022-06-10\"]\n",
    "bands = [\"red\",\"nir08\"]\n",
    "properties = {\"eo:cloud_cover\": dict(lt=90)}\n",
    "l8_datacube = local_conn.load_stac(url=url,\n",
    "                    spatial_extent=spatial_extent,\n",
    "                    temporal_extent=temporal_extent,\n",
    "                    bands=bands,\n",
    "                    properties=properties)\n",
    "# l8_datacube.execute()"
   ]
  },
  {
   "cell_type": "markdown",
   "id": "c3e0440b-ef10-45f6-8019-f8c45fe26007",
   "metadata": {},
   "source": [
    "We notice that the Landsat-8 data has a different size (due to the different resolution) compared to the Sentinel-2 data.\n",
    "\n",
    "We need to combine data coming from different satellite sources with different projections and resolution.\n",
    "\n",
    "In this scenario we could use the `resample_cube_spatial` openEO process that allows to reproject and crop the source to match a target datacube in one shot.\n",
    "\n",
    "Have a look at the official process description if you want to know more details: https://processes.openeo.org/#resample_cube_spatial"
   ]
  },
  {
   "cell_type": "markdown",
   "id": "a7497996-2998-4ddb-b4e0-dc26dd1d14bc",
   "metadata": {},
   "source": [
    "We now want to resample the L8 data to match S2, for being able to merge them later:"
   ]
  },
  {
   "cell_type": "code",
   "execution_count": 3,
   "id": "9828c925-6e40-449f-8d7b-eefc48bccbca",
   "metadata": {},
   "outputs": [
    {
     "data": {
      "text/html": [
       "\n",
       "    <script>\n",
       "    if (!window.customElements || !window.customElements.get('openeo-model-builder')) {\n",
       "        var el = document.createElement('script');\n",
       "        el.src = \"https://cdn.jsdelivr.net/npm/@openeo/vue-components@2/assets/openeo.min.js\";\n",
       "        document.head.appendChild(el);\n",
       "\n",
       "        var font = document.createElement('font');\n",
       "        font.as = \"font\";\n",
       "        font.type = \"font/woff2\";\n",
       "        font.crossOrigin = true;\n",
       "        font.href = \"https://use.fontawesome.com/releases/v5.13.0/webfonts/fa-solid-900.woff2\"\n",
       "        document.head.appendChild(font);\n",
       "    }\n",
       "    </script>\n",
       "    <openeo-model-builder>\n",
       "        <script type=\"application/json\">{\"id\": \"1f68a86d87e04375b65fd268e9142a36\", \"explicit-zoom\": true, \"height\": \"400px\", \"value\": {\"process_graph\": {\"loadstac1\": {\"process_id\": \"load_stac\", \"arguments\": {\"bands\": [\"red\", \"nir08\"], \"properties\": {\"eo:cloud_cover\": {\"lt\": 90}}, \"spatial_extent\": {\"east\": 11.406212, \"north\": 46.522237, \"south\": 46.461019, \"west\": 11.259613}, \"temporal_extent\": [\"2022-06-01\", \"2022-06-10\"], \"url\": \"https://planetarycomputer.microsoft.com/api/stac/v1/collections/landsat-c2-l2\"}}, \"loadstac2\": {\"process_id\": \"load_stac\", \"arguments\": {\"bands\": [\"B04\", \"B08\"], \"properties\": {\"eo:cloud_cover\": {\"lt\": 90}}, \"spatial_extent\": {\"east\": 11.406212, \"north\": 46.522237, \"south\": 46.461019, \"west\": 11.259613}, \"temporal_extent\": [\"2022-06-01\", \"2022-06-10\"], \"url\": \"https://planetarycomputer.microsoft.com/api/stac/v1/collections/sentinel-2-l2a\"}}, \"resamplecubespatial1\": {\"process_id\": \"resample_cube_spatial\", \"arguments\": {\"data\": {\"from_node\": \"loadstac1\"}, \"method\": \"bilinear\", \"target\": {\"from_node\": \"loadstac2\"}}, \"result\": true}}}}</script>\n",
       "    </openeo-model-builder>\n",
       "    "
      ],
      "text/plain": [
       "<openeo.rest.datacube.DataCube at 0x20db1615db0>"
      ]
     },
     "execution_count": 3,
     "metadata": {},
     "output_type": "execute_result"
    }
   ],
   "source": [
    "l8_resampled = l8_datacube.resample_cube_spatial(target=s2_datacube,method=\"bilinear\")\n",
    "l8_resampled"
   ]
  },
  {
   "cell_type": "markdown",
   "id": "43636dc9-87f7-4c71-b73c-4e623a17fa59",
   "metadata": {},
   "source": [
    "Now our Landsat-8 data has the same spatial extent and resolution.\n",
    "\n",
    "However, the two datacubes have different number of time steps. So, we have to align that temporal dimension as well to make a meaningful merge.\n",
    "\n",
    "We could compute a temporal aggregation using the openEO process `aggregate_temporal_period`, to compute the monthly median values.\n",
    "\n",
    "Have a look at the official process description if you want to know more details: https://processes.openeo.org/#aggregate_temporal_period"
   ]
  },
  {
   "cell_type": "code",
   "execution_count": 4,
   "id": "a758cc8c-648c-41c1-af05-6ac02b48cc7b",
   "metadata": {},
   "outputs": [],
   "source": [
    "s2_monthly_median = s2_datacube.aggregate_temporal_period(period=\"month\",reducer=\"median\")\n",
    "l8_monthly_median = l8_resampled.aggregate_temporal_period(period=\"month\",reducer=\"median\")"
   ]
  },
  {
   "cell_type": "code",
   "execution_count": null,
   "id": "d072a4cc-5614-4e6a-9435-7abffd67b5de",
   "metadata": {},
   "outputs": [],
   "source": [
    "s2_monthly_median_xr = s2_monthly_median.execute()\n",
    "l8_monthly_median_xr = l8_monthly_median.execute()"
   ]
  },
  {
   "cell_type": "markdown",
   "id": "c2631aab-05c8-43af-b81c-1eb52466301a",
   "metadata": {},
   "source": [
    "Now that spatial and temporal dimensions are aligned, we can proceed merging the two datacubes and look at the generated openEO process graph:"
   ]
  },
  {
   "cell_type": "code",
   "execution_count": 5,
   "id": "2430403d-4824-4871-827d-82b2a78c8b3f",
   "metadata": {},
   "outputs": [
    {
     "data": {
      "text/html": [
       "\n",
       "    <script>\n",
       "    if (!window.customElements || !window.customElements.get('openeo-model-builder')) {\n",
       "        var el = document.createElement('script');\n",
       "        el.src = \"https://cdn.jsdelivr.net/npm/@openeo/vue-components@2/assets/openeo.min.js\";\n",
       "        document.head.appendChild(el);\n",
       "\n",
       "        var font = document.createElement('font');\n",
       "        font.as = \"font\";\n",
       "        font.type = \"font/woff2\";\n",
       "        font.crossOrigin = true;\n",
       "        font.href = \"https://use.fontawesome.com/releases/v5.13.0/webfonts/fa-solid-900.woff2\"\n",
       "        document.head.appendChild(font);\n",
       "    }\n",
       "    </script>\n",
       "    <openeo-model-builder>\n",
       "        <script type=\"application/json\">{\"id\": \"5827b87093024faa99d9664be3fc00bc\", \"explicit-zoom\": true, \"height\": \"400px\", \"value\": {\"process_graph\": {\"loadstac1\": {\"process_id\": \"load_stac\", \"arguments\": {\"bands\": [\"B04\", \"B08\"], \"properties\": {\"eo:cloud_cover\": {\"lt\": 90}}, \"spatial_extent\": {\"east\": 11.406212, \"north\": 46.522237, \"south\": 46.461019, \"west\": 11.259613}, \"temporal_extent\": [\"2022-06-01\", \"2022-06-10\"], \"url\": \"https://planetarycomputer.microsoft.com/api/stac/v1/collections/sentinel-2-l2a\"}}, \"aggregatetemporalperiod1\": {\"process_id\": \"aggregate_temporal_period\", \"arguments\": {\"data\": {\"from_node\": \"loadstac1\"}, \"period\": \"month\", \"reducer\": {\"process_graph\": {\"median1\": {\"process_id\": \"median\", \"arguments\": {\"data\": {\"from_parameter\": \"data\"}}, \"result\": true}}}}}, \"loadstac2\": {\"process_id\": \"load_stac\", \"arguments\": {\"bands\": [\"red\", \"nir08\"], \"properties\": {\"eo:cloud_cover\": {\"lt\": 90}}, \"spatial_extent\": {\"east\": 11.406212, \"north\": 46.522237, \"south\": 46.461019, \"west\": 11.259613}, \"temporal_extent\": [\"2022-06-01\", \"2022-06-10\"], \"url\": \"https://planetarycomputer.microsoft.com/api/stac/v1/collections/landsat-c2-l2\"}}, \"resamplecubespatial1\": {\"process_id\": \"resample_cube_spatial\", \"arguments\": {\"data\": {\"from_node\": \"loadstac2\"}, \"method\": \"bilinear\", \"target\": {\"from_node\": \"loadstac1\"}}}, \"aggregatetemporalperiod2\": {\"process_id\": \"aggregate_temporal_period\", \"arguments\": {\"data\": {\"from_node\": \"resamplecubespatial1\"}, \"period\": \"month\", \"reducer\": {\"process_graph\": {\"median2\": {\"process_id\": \"median\", \"arguments\": {\"data\": {\"from_parameter\": \"data\"}}, \"result\": true}}}}}, \"mergecubes1\": {\"process_id\": \"merge_cubes\", \"arguments\": {\"cube1\": {\"from_node\": \"aggregatetemporalperiod1\"}, \"cube2\": {\"from_node\": \"aggregatetemporalperiod2\"}}, \"result\": true}}}}</script>\n",
       "    </openeo-model-builder>\n",
       "    "
      ],
      "text/plain": [
       "<openeo.rest.datacube.DataCube at 0x20db16160b0>"
      ]
     },
     "execution_count": 5,
     "metadata": {},
     "output_type": "execute_result"
    }
   ],
   "source": [
    "s2_l8_monthly_median = s2_monthly_median.merge_cubes(l8_monthly_median)\n",
    "s2_l8_monthly_median"
   ]
  },
  {
   "cell_type": "markdown",
   "id": "682e8534-243c-451e-8610-414caeb4f516",
   "metadata": {},
   "source": [
    "Finally execute the process and check the output:"
   ]
  },
  {
   "cell_type": "code",
   "execution_count": 6,
   "id": "47f44b4b-274e-45df-aaf9-8c9c335c2951",
   "metadata": {},
   "outputs": [
    {
     "name": "stderr",
     "output_type": "stream",
     "text": [
      "Deserialised process graph into nested structure\n"
     ]
    },
    {
     "name": "stdout",
     "output_type": "stream",
     "text": [
      "Walking node root-9b5d676e-d3d1-4517-b3c3-04fbf793acbb\n",
      "Walking node aggregatetemporalperiod1-9b5d676e-d3d1-4517-b3c3-04fbf793acbb\n",
      "Walking node median1-fbf3b4ff-917d-4bb3-9364-7c35ee8b01e2\n",
      "Walking node loadstac1-9b5d676e-d3d1-4517-b3c3-04fbf793acbb\n",
      "Walking node aggregatetemporalperiod2-9b5d676e-d3d1-4517-b3c3-04fbf793acbb\n",
      "Walking node median2-71239974-7161-4379-9676-ba7f7b7ec6fa\n",
      "Walking node resamplecubespatial1-9b5d676e-d3d1-4517-b3c3-04fbf793acbb\n",
      "Walking node loadstac2-9b5d676e-d3d1-4517-b3c3-04fbf793acbb\n",
      "Walking node loadstac1-9b5d676e-d3d1-4517-b3c3-04fbf793acbb\n"
     ]
    },
    {
     "name": "stderr",
     "output_type": "stream",
     "text": [
      "C:\\Users\\mclaus\\Documents\\GitHub\\stackstac\\stackstac\\prepare.py:369: UserWarning: The argument 'infer_datetime_format' is deprecated and will be removed in a future version. A strict version of it is now the default, see https://pandas.pydata.org/pdeps/0004-consistent-to-datetime-parsing.html. You can safely remove this argument.\n",
      "  times = pd.to_datetime(\n",
      "C:\\Users\\mclaus\\Documents\\GitHub\\stackstac\\stackstac\\prepare.py:369: UserWarning: The argument 'infer_datetime_format' is deprecated and will be removed in a future version. A strict version of it is now the default, see https://pandas.pydata.org/pdeps/0004-consistent-to-datetime-parsing.html. You can safely remove this argument.\n",
      "  times = pd.to_datetime(\n"
     ]
    },
    {
     "ename": "type",
     "evalue": "conflicting sizes for dimension 'band': length 4 on 'band' and length 2 on {'x': 'x', 'y': 'y', 'band': 'title', 'time': 'time'}",
     "output_type": "error",
     "traceback": [
      "\u001b[1;31m---------------------------------------------------------------------------\u001b[0m",
      "\u001b[1;31mKeyError\u001b[0m                                  Traceback (most recent call last)",
      "File \u001b[1;32m~\\Miniconda3\\envs\\stacenv\\lib\\site-packages\\openeo_pg_parser_networkx\\graph.py:357\u001b[0m, in \u001b[0;36mOpenEOProcessGraph._map_node_to_callable.<locals>.node_callable\u001b[1;34m(parent_callables, named_parameters, *args, **kwargs)\u001b[0m\n\u001b[0;32m    355\u001b[0m \u001b[38;5;28;01mtry\u001b[39;00m:\n\u001b[0;32m    356\u001b[0m     \u001b[38;5;66;03m# If this node has already been computed once, just grab that result from the results_cache instead of recomputing it.\u001b[39;00m\n\u001b[1;32m--> 357\u001b[0m     \u001b[38;5;28;01mreturn\u001b[39;00m \u001b[43mresults_cache\u001b[49m\u001b[38;5;241;43m.\u001b[39;49m\u001b[38;5;21;43m__getitem__\u001b[39;49m\u001b[43m(\u001b[49m\u001b[43mnode\u001b[49m\u001b[43m)\u001b[49m\n\u001b[0;32m    358\u001b[0m \u001b[38;5;28;01mexcept\u001b[39;00m \u001b[38;5;167;01mKeyError\u001b[39;00m:\n",
      "\u001b[1;31mKeyError\u001b[0m: 'root-9b5d676e-d3d1-4517-b3c3-04fbf793acbb'",
      "\nDuring handling of the above exception, another exception occurred:\n",
      "\u001b[1;31mValueError\u001b[0m                                Traceback (most recent call last)",
      "Cell \u001b[1;32mIn[6], line 1\u001b[0m\n\u001b[1;32m----> 1\u001b[0m s2_l8_monthly_median_xarray \u001b[38;5;241m=\u001b[39m \u001b[43ms2_l8_monthly_median\u001b[49m\u001b[38;5;241;43m.\u001b[39;49m\u001b[43mexecute\u001b[49m\u001b[43m(\u001b[49m\u001b[43m)\u001b[49m\n\u001b[0;32m      2\u001b[0m s2_l8_monthly_median_xarray\n",
      "File \u001b[1;32m~\\Documents\\GitHub\\openeo-python-client\\openeo\\rest\\datacube.py:2150\u001b[0m, in \u001b[0;36mDataCube.execute\u001b[1;34m(self)\u001b[0m\n\u001b[0;32m   2148\u001b[0m \u001b[38;5;28;01mdef\u001b[39;00m \u001b[38;5;21mexecute\u001b[39m(\u001b[38;5;28mself\u001b[39m) \u001b[38;5;241m-\u001b[39m\u001b[38;5;241m>\u001b[39m \u001b[38;5;28mdict\u001b[39m:\n\u001b[0;32m   2149\u001b[0m \u001b[38;5;250m    \u001b[39m\u001b[38;5;124;03m\"\"\"Executes the process graph of the imagery. \"\"\"\u001b[39;00m\n\u001b[1;32m-> 2150\u001b[0m     \u001b[38;5;28;01mreturn\u001b[39;00m \u001b[38;5;28;43mself\u001b[39;49m\u001b[38;5;241;43m.\u001b[39;49m\u001b[43m_connection\u001b[49m\u001b[38;5;241;43m.\u001b[39;49m\u001b[43mexecute\u001b[49m\u001b[43m(\u001b[49m\u001b[38;5;28;43mself\u001b[39;49m\u001b[38;5;241;43m.\u001b[39;49m\u001b[43mflat_graph\u001b[49m\u001b[43m(\u001b[49m\u001b[43m)\u001b[49m\u001b[43m)\u001b[49m\n",
      "File \u001b[1;32m~\\Documents\\GitHub\\openeo-python-client\\openeo\\local\\connection.py:250\u001b[0m, in \u001b[0;36mLocalConnection.execute\u001b[1;34m(self, process_graph)\u001b[0m\n\u001b[0;32m    243\u001b[0m \u001b[38;5;250m\u001b[39m\u001b[38;5;124;03m\"\"\"\u001b[39;00m\n\u001b[0;32m    244\u001b[0m \u001b[38;5;124;03mExecute locally the process graph and return the result as an xarray.DataArray.\u001b[39;00m\n\u001b[0;32m    245\u001b[0m \n\u001b[0;32m    246\u001b[0m \u001b[38;5;124;03m:param process_graph: (flat) dict representing a process graph, or process graph as raw JSON string,\u001b[39;00m\n\u001b[0;32m    247\u001b[0m \u001b[38;5;124;03m:return: a datacube containing the requested data\u001b[39;00m\n\u001b[0;32m    248\u001b[0m \u001b[38;5;124;03m\"\"\"\u001b[39;00m\n\u001b[0;32m    249\u001b[0m process_graph \u001b[38;5;241m=\u001b[39m as_flat_graph(process_graph)\n\u001b[1;32m--> 250\u001b[0m \u001b[38;5;28;01mreturn\u001b[39;00m \u001b[43mOpenEOProcessGraph\u001b[49m\u001b[43m(\u001b[49m\u001b[43mprocess_graph\u001b[49m\u001b[43m)\u001b[49m\u001b[38;5;241;43m.\u001b[39;49m\u001b[43mto_callable\u001b[49m\u001b[43m(\u001b[49m\u001b[43mPROCESS_REGISTRY\u001b[49m\u001b[43m)\u001b[49m\u001b[43m(\u001b[49m\u001b[43m)\u001b[49m\n",
      "File \u001b[1;32m~\\Miniconda3\\envs\\stacenv\\lib\\site-packages\\openeo_pg_parser_networkx\\graph.py:370\u001b[0m, in \u001b[0;36mOpenEOProcessGraph._map_node_to_callable.<locals>.node_callable\u001b[1;34m(parent_callables, named_parameters, *args, **kwargs)\u001b[0m\n\u001b[0;32m    362\u001b[0m             arg_sub\u001b[38;5;241m.\u001b[39maccess_func(\n\u001b[0;32m    363\u001b[0m                 new_value\u001b[38;5;241m=\u001b[39mresults_cache[source_node], set_bool\u001b[38;5;241m=\u001b[39m\u001b[38;5;28;01mTrue\u001b[39;00m\n\u001b[0;32m    364\u001b[0m             )\n\u001b[0;32m    366\u001b[0m             kwargs[arg_sub\u001b[38;5;241m.\u001b[39marg_name] \u001b[38;5;241m=\u001b[39m \u001b[38;5;28mself\u001b[39m\u001b[38;5;241m.\u001b[39mG\u001b[38;5;241m.\u001b[39mnodes(data\u001b[38;5;241m=\u001b[39m\u001b[38;5;28;01mTrue\u001b[39;00m)[node][\n\u001b[0;32m    367\u001b[0m                 \u001b[38;5;124m\"\u001b[39m\u001b[38;5;124mresolved_kwargs\u001b[39m\u001b[38;5;124m\"\u001b[39m\n\u001b[0;32m    368\u001b[0m             ]\u001b[38;5;241m.\u001b[39m\u001b[38;5;21m__getitem__\u001b[39m(arg_sub\u001b[38;5;241m.\u001b[39marg_name)\n\u001b[1;32m--> 370\u001b[0m result \u001b[38;5;241m=\u001b[39m prebaked_process_impl(\n\u001b[0;32m    371\u001b[0m     \u001b[38;5;241m*\u001b[39margs, named_parameters\u001b[38;5;241m=\u001b[39mnamed_parameters, \u001b[38;5;241m*\u001b[39m\u001b[38;5;241m*\u001b[39mkwargs\n\u001b[0;32m    372\u001b[0m )\n\u001b[0;32m    374\u001b[0m results_cache[node] \u001b[38;5;241m=\u001b[39m result\n\u001b[0;32m    376\u001b[0m \u001b[38;5;28;01mreturn\u001b[39;00m result\n",
      "File \u001b[1;32m~\\Documents\\GitHub\\openeo-processes-dask\\openeo_processes_dask\\process_implementations\\core.py:83\u001b[0m, in \u001b[0;36mprocess.<locals>.wrapper\u001b[1;34m(positional_parameters, named_parameters, *args, **kwargs)\u001b[0m\n\u001b[0;32m     78\u001b[0m logger\u001b[38;5;241m.\u001b[39minfo(\u001b[38;5;124mf\u001b[39m\u001b[38;5;124m\"\u001b[39m\u001b[38;5;124mRunning process \u001b[39m\u001b[38;5;132;01m{\u001b[39;00mf\u001b[38;5;241m.\u001b[39m\u001b[38;5;18m__name__\u001b[39m\u001b[38;5;132;01m}\u001b[39;00m\u001b[38;5;124m\"\u001b[39m)\n\u001b[0;32m     79\u001b[0m logger\u001b[38;5;241m.\u001b[39mdebug(\n\u001b[0;32m     80\u001b[0m     \u001b[38;5;124mf\u001b[39m\u001b[38;5;124m\"\u001b[39m\u001b[38;5;124mRunning process \u001b[39m\u001b[38;5;132;01m{\u001b[39;00mf\u001b[38;5;241m.\u001b[39m\u001b[38;5;18m__name__\u001b[39m\u001b[38;5;132;01m}\u001b[39;00m\u001b[38;5;124m with resolved parameters: \u001b[39m\u001b[38;5;132;01m{\u001b[39;00mpretty_args\u001b[38;5;132;01m}\u001b[39;00m\u001b[38;5;124m\"\u001b[39m\n\u001b[0;32m     81\u001b[0m )\n\u001b[1;32m---> 83\u001b[0m \u001b[38;5;28;01mreturn\u001b[39;00m f(\u001b[38;5;241m*\u001b[39mresolved_args, \u001b[38;5;241m*\u001b[39m\u001b[38;5;241m*\u001b[39mresolved_kwargs)\n",
      "File \u001b[1;32m~\\Documents\\GitHub\\openeo-processes-dask\\openeo_processes_dask\\process_implementations\\cubes\\merge.py:123\u001b[0m, in \u001b[0;36mmerge_cubes\u001b[1;34m(cube1, cube2, overlap_resolver, context)\u001b[0m\n\u001b[0;32m    118\u001b[0m merged_cube \u001b[38;5;241m=\u001b[39m xr\u001b[38;5;241m.\u001b[39mcombine_by_coords(\n\u001b[0;32m    119\u001b[0m     [cube1, cube2], combine_attrs\u001b[38;5;241m=\u001b[39m\u001b[38;5;124m\"\u001b[39m\u001b[38;5;124mdrop_conflicts\u001b[39m\u001b[38;5;124m\"\u001b[39m, compat\u001b[38;5;241m=\u001b[39m\u001b[38;5;124m\"\u001b[39m\u001b[38;5;124moverride\u001b[39m\u001b[38;5;124m\"\u001b[39m\n\u001b[0;32m    120\u001b[0m )\n\u001b[0;32m    121\u001b[0m \u001b[38;5;28;01mif\u001b[39;00m \u001b[38;5;28misinstance\u001b[39m(merged_cube, xr\u001b[38;5;241m.\u001b[39mDataset):\n\u001b[0;32m    122\u001b[0m     \u001b[38;5;66;03m# merged_cube = merged_cube.reindex({cube1_band_dim: previous_band_order})\u001b[39;00m\n\u001b[1;32m--> 123\u001b[0m     merged_cube \u001b[38;5;241m=\u001b[39m \u001b[43mmerged_cube\u001b[49m\u001b[38;5;241;43m.\u001b[39;49m\u001b[43mto_array\u001b[49m\u001b[43m(\u001b[49m\u001b[43mdim\u001b[49m\u001b[38;5;241;43m=\u001b[39;49m\u001b[43mcube1_band_dim\u001b[49m\u001b[43m)\u001b[49m\u001b[38;5;241;43m.\u001b[39;49m\u001b[43mreset_index\u001b[49m\u001b[43m(\u001b[49m\u001b[43mcube1_band_dim\u001b[49m\u001b[43m,\u001b[49m\u001b[43m \u001b[49m\u001b[43mdrop\u001b[49m\u001b[38;5;241;43m=\u001b[39;49m\u001b[38;5;28;43;01mTrue\u001b[39;49;00m\u001b[43m)\u001b[49m\n\u001b[0;32m    124\u001b[0m     \u001b[38;5;66;03m# print(merged_cube)\u001b[39;00m\n\u001b[0;32m    125\u001b[0m     \u001b[38;5;66;03m# merged_cube = merged_cube.reindex({cube1_band_dim: previous_band_order})\u001b[39;00m\n\u001b[0;32m    127\u001b[0m merged_cube \u001b[38;5;241m=\u001b[39m merged_cube\u001b[38;5;241m.\u001b[39mtranspose(\u001b[38;5;241m*\u001b[39mprevious_dim_order)\n",
      "File \u001b[1;32m~\\Miniconda3\\envs\\stacenv\\lib\\site-packages\\xarray\\core\\dataarray.py:2639\u001b[0m, in \u001b[0;36mDataArray.reset_index\u001b[1;34m(self, dims_or_levels, drop)\u001b[0m\n\u001b[0;32m   2605\u001b[0m \u001b[38;5;28;01mdef\u001b[39;00m \u001b[38;5;21mreset_index\u001b[39m(\n\u001b[0;32m   2606\u001b[0m     \u001b[38;5;28mself\u001b[39m,\n\u001b[0;32m   2607\u001b[0m     dims_or_levels: Hashable \u001b[38;5;241m|\u001b[39m Sequence[Hashable],\n\u001b[0;32m   2608\u001b[0m     drop: \u001b[38;5;28mbool\u001b[39m \u001b[38;5;241m=\u001b[39m \u001b[38;5;28;01mFalse\u001b[39;00m,\n\u001b[0;32m   2609\u001b[0m ) \u001b[38;5;241m-\u001b[39m\u001b[38;5;241m>\u001b[39m DataArray:\n\u001b[0;32m   2610\u001b[0m \u001b[38;5;250m    \u001b[39m\u001b[38;5;124;03m\"\"\"Reset the specified index(es) or multi-index level(s).\u001b[39;00m\n\u001b[0;32m   2611\u001b[0m \n\u001b[0;32m   2612\u001b[0m \u001b[38;5;124;03m    This legacy method is specific to pandas (multi-)indexes and\u001b[39;00m\n\u001b[1;32m   (...)\u001b[0m\n\u001b[0;32m   2637\u001b[0m \u001b[38;5;124;03m    DataArray.drop_indexes\u001b[39;00m\n\u001b[0;32m   2638\u001b[0m \u001b[38;5;124;03m    \"\"\"\u001b[39;00m\n\u001b[1;32m-> 2639\u001b[0m     ds \u001b[38;5;241m=\u001b[39m \u001b[38;5;28;43mself\u001b[39;49m\u001b[38;5;241;43m.\u001b[39;49m\u001b[43m_to_temp_dataset\u001b[49m\u001b[43m(\u001b[49m\u001b[43m)\u001b[49m\u001b[38;5;241m.\u001b[39mreset_index(dims_or_levels, drop\u001b[38;5;241m=\u001b[39mdrop)\n\u001b[0;32m   2640\u001b[0m     \u001b[38;5;28;01mreturn\u001b[39;00m \u001b[38;5;28mself\u001b[39m\u001b[38;5;241m.\u001b[39m_from_temp_dataset(ds)\n",
      "File \u001b[1;32m~\\Miniconda3\\envs\\stacenv\\lib\\site-packages\\xarray\\core\\dataarray.py:536\u001b[0m, in \u001b[0;36mDataArray._to_temp_dataset\u001b[1;34m(self)\u001b[0m\n\u001b[0;32m    535\u001b[0m \u001b[38;5;28;01mdef\u001b[39;00m \u001b[38;5;21m_to_temp_dataset\u001b[39m(\u001b[38;5;28mself\u001b[39m) \u001b[38;5;241m-\u001b[39m\u001b[38;5;241m>\u001b[39m Dataset:\n\u001b[1;32m--> 536\u001b[0m     \u001b[38;5;28;01mreturn\u001b[39;00m \u001b[38;5;28;43mself\u001b[39;49m\u001b[38;5;241;43m.\u001b[39;49m\u001b[43m_to_dataset_whole\u001b[49m\u001b[43m(\u001b[49m\u001b[43mname\u001b[49m\u001b[38;5;241;43m=\u001b[39;49m\u001b[43m_THIS_ARRAY\u001b[49m\u001b[43m,\u001b[49m\u001b[43m \u001b[49m\u001b[43mshallow_copy\u001b[49m\u001b[38;5;241;43m=\u001b[39;49m\u001b[38;5;28;43;01mFalse\u001b[39;49;00m\u001b[43m)\u001b[49m\n",
      "File \u001b[1;32m~\\Miniconda3\\envs\\stacenv\\lib\\site-packages\\xarray\\core\\dataarray.py:588\u001b[0m, in \u001b[0;36mDataArray._to_dataset_whole\u001b[1;34m(self, name, shallow_copy)\u001b[0m\n\u001b[0;32m    585\u001b[0m indexes \u001b[38;5;241m=\u001b[39m \u001b[38;5;28mself\u001b[39m\u001b[38;5;241m.\u001b[39m_indexes\n\u001b[0;32m    587\u001b[0m coord_names \u001b[38;5;241m=\u001b[39m \u001b[38;5;28mset\u001b[39m(\u001b[38;5;28mself\u001b[39m\u001b[38;5;241m.\u001b[39m_coords)\n\u001b[1;32m--> 588\u001b[0m \u001b[38;5;28;01mreturn\u001b[39;00m \u001b[43mDataset\u001b[49m\u001b[38;5;241;43m.\u001b[39;49m\u001b[43m_construct_direct\u001b[49m\u001b[43m(\u001b[49m\u001b[43mvariables\u001b[49m\u001b[43m,\u001b[49m\u001b[43m \u001b[49m\u001b[43mcoord_names\u001b[49m\u001b[43m,\u001b[49m\u001b[43m \u001b[49m\u001b[43mindexes\u001b[49m\u001b[38;5;241;43m=\u001b[39;49m\u001b[43mindexes\u001b[49m\u001b[43m)\u001b[49m\n",
      "File \u001b[1;32m~\\Miniconda3\\envs\\stacenv\\lib\\site-packages\\xarray\\core\\dataset.py:1013\u001b[0m, in \u001b[0;36mDataset._construct_direct\u001b[1;34m(cls, variables, coord_names, dims, attrs, indexes, encoding, close)\u001b[0m\n\u001b[0;32m   1009\u001b[0m \u001b[38;5;250m\u001b[39m\u001b[38;5;124;03m\"\"\"Shortcut around __init__ for internal use when we want to skip\u001b[39;00m\n\u001b[0;32m   1010\u001b[0m \u001b[38;5;124;03mcostly validation\u001b[39;00m\n\u001b[0;32m   1011\u001b[0m \u001b[38;5;124;03m\"\"\"\u001b[39;00m\n\u001b[0;32m   1012\u001b[0m \u001b[38;5;28;01mif\u001b[39;00m dims \u001b[38;5;129;01mis\u001b[39;00m \u001b[38;5;28;01mNone\u001b[39;00m:\n\u001b[1;32m-> 1013\u001b[0m     dims \u001b[38;5;241m=\u001b[39m \u001b[43mcalculate_dimensions\u001b[49m\u001b[43m(\u001b[49m\u001b[43mvariables\u001b[49m\u001b[43m)\u001b[49m\n\u001b[0;32m   1014\u001b[0m \u001b[38;5;28;01mif\u001b[39;00m indexes \u001b[38;5;129;01mis\u001b[39;00m \u001b[38;5;28;01mNone\u001b[39;00m:\n\u001b[0;32m   1015\u001b[0m     indexes \u001b[38;5;241m=\u001b[39m {}\n",
      "File \u001b[1;32m~\\Miniconda3\\envs\\stacenv\\lib\\site-packages\\xarray\\core\\variable.py:3282\u001b[0m, in \u001b[0;36mcalculate_dimensions\u001b[1;34m(variables)\u001b[0m\n\u001b[0;32m   3280\u001b[0m             last_used[dim] \u001b[38;5;241m=\u001b[39m k\n\u001b[0;32m   3281\u001b[0m         \u001b[38;5;28;01melif\u001b[39;00m dims[dim] \u001b[38;5;241m!=\u001b[39m size:\n\u001b[1;32m-> 3282\u001b[0m             \u001b[38;5;28;01mraise\u001b[39;00m \u001b[38;5;167;01mValueError\u001b[39;00m(\n\u001b[0;32m   3283\u001b[0m                 \u001b[38;5;124mf\u001b[39m\u001b[38;5;124m\"\u001b[39m\u001b[38;5;124mconflicting sizes for dimension \u001b[39m\u001b[38;5;132;01m{\u001b[39;00mdim\u001b[38;5;132;01m!r}\u001b[39;00m\u001b[38;5;124m: \u001b[39m\u001b[38;5;124m\"\u001b[39m\n\u001b[0;32m   3284\u001b[0m                 \u001b[38;5;124mf\u001b[39m\u001b[38;5;124m\"\u001b[39m\u001b[38;5;124mlength \u001b[39m\u001b[38;5;132;01m{\u001b[39;00msize\u001b[38;5;132;01m}\u001b[39;00m\u001b[38;5;124m on \u001b[39m\u001b[38;5;132;01m{\u001b[39;00mk\u001b[38;5;132;01m!r}\u001b[39;00m\u001b[38;5;124m and length \u001b[39m\u001b[38;5;132;01m{\u001b[39;00mdims[dim]\u001b[38;5;132;01m}\u001b[39;00m\u001b[38;5;124m on \u001b[39m\u001b[38;5;132;01m{\u001b[39;00mlast_used\u001b[38;5;132;01m!r}\u001b[39;00m\u001b[38;5;124m\"\u001b[39m\n\u001b[0;32m   3285\u001b[0m             )\n\u001b[0;32m   3286\u001b[0m \u001b[38;5;28;01mreturn\u001b[39;00m dims\n",
      "\u001b[1;31mValueError\u001b[0m: conflicting sizes for dimension 'band': length 4 on 'band' and length 2 on {'x': 'x', 'y': 'y', 'band': 'title', 'time': 'time'}"
     ]
    }
   ],
   "source": [
    "s2_l8_monthly_median_xarray = s2_l8_monthly_median.execute()\n",
    "s2_l8_monthly_median_xarray"
   ]
  },
  {
   "cell_type": "markdown",
   "id": "28fab2fa-aae4-4820-9abe-5a6d700a16b6",
   "metadata": {},
   "source": [
    "The output now contains the red and nir bands of Sentinel-2 and Landsat-8.\n",
    "\n",
    "The datacube is aligned spatially and temporally, which was possible using the `resample_cube_spatial` and `aggregate_temporal_period` openEO processes."
   ]
  },
  {
   "cell_type": "code",
   "execution_count": null,
   "id": "ca247355-f707-49bf-8759-84b310c0cb9d",
   "metadata": {},
   "outputs": [],
   "source": [
    "s2_l8_monthly_median_xarray.compute()"
   ]
  }
 ],
 "metadata": {
  "kernelspec": {
   "display_name": "Python 3 (ipykernel)",
   "language": "python",
   "name": "python3"
  },
  "language_info": {
   "codemirror_mode": {
    "name": "ipython",
    "version": 3
   },
   "file_extension": ".py",
   "mimetype": "text/x-python",
   "name": "python",
   "nbconvert_exporter": "python",
   "pygments_lexer": "ipython3",
   "version": "3.10.12"
  }
 },
 "nbformat": 4,
 "nbformat_minor": 5
}
