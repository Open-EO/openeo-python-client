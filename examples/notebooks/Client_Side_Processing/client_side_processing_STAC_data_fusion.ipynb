{
 "cells": [
  {
   "cell_type": "code",
   "execution_count": null,
   "id": "e305596c-e1e6-4808-8577-c6e92e4e35b1",
   "metadata": {},
   "outputs": [],
   "source": [
    "import openeo\n",
    "from openeo.local import LocalConnection\n",
    "local_conn = LocalConnection('')"
   ]
  },
  {
   "cell_type": "markdown",
   "id": "438d588a-b191-4b8e-9914-46da99c7cf1c",
   "metadata": {
    "tags": []
   },
   "source": [
    "<img src=\"https://avatars.githubusercontent.com/u/74911464?s=200&v=4\"\n",
    "     alt=\"OpenEO Platform logo\"\n",
    "     style=\"float: left; margin-right: 10px;\" />\n",
    "# OpenEO Platform - Client Side Processing\n",
    "\n",
    "## Data Fusion\n"
   ]
  },
  {
   "cell_type": "markdown",
   "id": "9c3b07f0-833c-456a-adce-a0b75cbbe5f1",
   "metadata": {},
   "source": [
    "In this interactive notebook we will show some usage examples of the Client Side Processing functionality of the openEO Python client, interacting with STAC Catalogs from different providers."
   ]
  },
  {
   "cell_type": "markdown",
   "id": "99bc2fba-832d-4b94-bb9a-3b3cdd77b806",
   "metadata": {
    "tags": []
   },
   "source": [
    "## Requirements"
   ]
  },
  {
   "cell_type": "markdown",
   "id": "a6b7be00-89e7-4d72-a245-9378389600a7",
   "metadata": {},
   "source": [
    "To use this functionality, you need `Python>=3.9`.\n",
    "\n",
    "You can install it using:\n",
    "    `pip install openeo[localprocessing]`\n",
    "\n",
    "<div class=\"alert alert-block alert-warning\">\n",
    "This functionality is still under development and the installation procedure might change.\n",
    "Please refer to official documentation page for the most up to date instructions:\n",
    "    \n",
    "<a href=\"url\">https://open-eo.github.io/openeo-python-client/cookbook/localprocessing.html</a>"
   ]
  },
  {
   "cell_type": "markdown",
   "id": "8b74504e-05a0-4d4c-bf7a-606f61948cdc",
   "metadata": {
    "tags": []
   },
   "source": [
    "## Sentinel-2 and Landsat-8 data"
   ]
  },
  {
   "cell_type": "markdown",
   "id": "32fa5134-ef28-4143-88ae-4b66c65f5e63",
   "metadata": {},
   "source": [
    "We are going to work with the Landsat-8 data provided by the Microsoft Planetary Computer and Sentinel-2 data provided by the element84."
   ]
  },
  {
   "cell_type": "markdown",
   "id": "eabc1c12-ee7f-4ab4-81a4-e059e065efb7",
   "metadata": {},
   "source": [
    "We load only the data of our area of interest, selecting the red and near infrared bands for a limited period of time.\n",
    "We also set the conditions on the cloud coverage, which must be less than 50%."
   ]
  },
  {
   "cell_type": "markdown",
   "id": "052e5609-c292-43e0-8f27-3b3ed861232b",
   "metadata": {},
   "source": [
    "### Load the Sentinel-2 data"
   ]
  },
  {
   "cell_type": "code",
   "execution_count": null,
   "id": "5881db1e-738f-475b-9828-90e60a5ff85f",
   "metadata": {},
   "outputs": [],
   "source": [
    "url = \"https://earth-search.aws.element84.com/v1/collections/sentinel-2-l2a\"\n",
    "\n",
    "spatial_extent = {\"west\": 11.4, \"east\": 11.42, \"south\": 45.5, \"north\": 45.52}\n",
    "temporal_extent = [\"2023-06-01\", \"2023-07-30\"]\n",
    "bands = [\"red\",\"nir\"]\n",
    "\n",
    "properties = {\"eo:cloud_cover\": dict(lt=50)}\n",
    "s2_cube = local_conn.load_stac(url=url,\n",
    "   spatial_extent=spatial_extent,\n",
    "   temporal_extent=temporal_extent,\n",
    "   bands=bands,\n",
    "   properties=properties,\n",
    ")\n",
    "\n",
    "s2_cube.execute()"
   ]
  },
  {
   "cell_type": "markdown",
   "id": "1357c582-15a1-4a69-bb07-23b48dde197b",
   "metadata": {},
   "source": [
    "### Load the Landsat-8 data"
   ]
  },
  {
   "cell_type": "code",
   "execution_count": null,
   "id": "b2c56227-5d10-4603-b762-c2607e19265a",
   "metadata": {},
   "outputs": [],
   "source": [
    "url = \"https://planetarycomputer.microsoft.com/api/stac/v1/collections/landsat-c2-l2\"\n",
    "temporal_extent = [\"2023-06-01\", \"2023-07-30\"]\n",
    "spatial_extent = {\"west\": 11.4, \"east\": 11.42, \"south\": 45.5, \"north\": 45.52}\n",
    "bands = [\"red\",\"nir08\"]\n",
    "properties = {\"eo:cloud_cover\": dict(lt=50)}\n",
    "l8_cube = local_conn.load_stac(url=url,\n",
    "                    spatial_extent=spatial_extent,\n",
    "                    temporal_extent=temporal_extent,\n",
    "                    bands=bands,\n",
    "                    properties=properties)\n",
    "l8_cube.execute()"
   ]
  },
  {
   "cell_type": "markdown",
   "id": "4745ad52-01e1-4dfc-8ebd-da8b8c2f7e5b",
   "metadata": {},
   "source": [
    "### Resample Sentinel-2\n",
    "\n",
    "Sentinel-2 and Landsat-8 have different resolutions. We use this process to resample and align Sentinel-2 to Landsat-8, from 10 meters to 30 meters."
   ]
  },
  {
   "cell_type": "code",
   "execution_count": null,
   "id": "49522cdc-342a-49ca-bc4d-5d4242f11325",
   "metadata": {},
   "outputs": [],
   "source": [
    "s2_cube_30m = s2_cube.resample_cube_spatial(target=l8_cube,method=\"average\")"
   ]
  },
  {
   "cell_type": "markdown",
   "id": "d0842759-0edd-426e-97bd-460712ea0da9",
   "metadata": {},
   "source": [
    "### Compute the NDVI\n",
    "\n",
    "We compute the Normalized Difference Vegetation Index with data from both satellite missions."
   ]
  },
  {
   "cell_type": "code",
   "execution_count": null,
   "id": "f42b15e6-82da-4126-8c8f-a58716b047c1",
   "metadata": {},
   "outputs": [],
   "source": [
    "s2_red = s2_cube_30m.band(\"red\")\n",
    "s2_nir = s2_cube_30m.band(\"nir\")\n",
    "s2_ndvi = (s2_nir - s2_red) / (s2_nir + s2_red)\n",
    "s2_ndvi = s2_ndvi.add_dimension(name=\"bands\",type=\"bands\",label=\"s2_ndvi\")"
   ]
  },
  {
   "cell_type": "code",
   "execution_count": null,
   "id": "75c1672c-94e4-4f95-b36b-6485dcab0422",
   "metadata": {},
   "outputs": [],
   "source": [
    "l8_red = l8_cube.band(\"red\")\n",
    "l8_nir = l8_cube.band(\"nir08\")\n",
    "l8_ndvi = (l8_nir - l8_red) / (l8_nir + l8_red)\n",
    "l8_ndvi = l8_ndvi.add_dimension(name=\"bands\",type=\"bands\",label=\"l8_ndvi\")"
   ]
  },
  {
   "cell_type": "markdown",
   "id": "a40a17c5-74bf-4e08-8dea-b4009bce693e",
   "metadata": {},
   "source": [
    "### Aggregate over time\n",
    "Since the acquisitions of the different satellites do not happen at the same time, we aggregate the data for each month and later compare the monthly median of the NDVI."
   ]
  },
  {
   "cell_type": "code",
   "execution_count": null,
   "id": "15ad9113-7fcb-4621-9b67-c935b18168f7",
   "metadata": {},
   "outputs": [],
   "source": [
    "s2_ndvi_agg = s2_ndvi.aggregate_temporal_period(period=\"month\",reducer=\"median\")\n",
    "l8_ndvi_agg = l8_ndvi.aggregate_temporal_period(period=\"month\",reducer=\"median\")"
   ]
  },
  {
   "cell_type": "markdown",
   "id": "5db32d0d-23f8-4855-bc8a-2d9dc68e4d30",
   "metadata": {},
   "source": [
    "### Merge into a single datacube\n",
    "\n",
    "We finally merge all the previous steps in a single datacube for convenience. Check out the visualization of the openEO process graph we just created:"
   ]
  },
  {
   "cell_type": "code",
   "execution_count": null,
   "id": "d75aa00c-7c27-4cd6-b6bd-cd802be313a1",
   "metadata": {},
   "outputs": [],
   "source": [
    "s2_l8_ndvi = s2_ndvi_agg.merge_cubes(l8_ndvi_agg)\n",
    "s2_l8_ndvi"
   ]
  },
  {
   "cell_type": "markdown",
   "id": "d1c57da1-1ede-427c-8062-fb382dd7486e",
   "metadata": {},
   "source": [
    "### Compute the result"
   ]
  },
  {
   "cell_type": "code",
   "execution_count": null,
   "id": "56e2743f-d263-4f23-aef5-183c998d2b23",
   "metadata": {
    "scrolled": true
   },
   "outputs": [],
   "source": [
    "s2_l8_ndvi_xr = s2_l8_ndvi.execute()\n",
    "s2_l8_ndvi_xr"
   ]
  },
  {
   "cell_type": "markdown",
   "id": "8d6cedd5-d741-4978-a34c-2cb6544e23b7",
   "metadata": {},
   "source": [
    "### Visualize the monthly median NDVI values:"
   ]
  },
  {
   "cell_type": "code",
   "execution_count": null,
   "id": "fb4a0aae-dbe4-440e-88a3-95ab69cde2ad",
   "metadata": {},
   "outputs": [],
   "source": [
    "s2_l8_ndvi_xr[0,1].plot.imshow(vmin=0,vmax=1)"
   ]
  },
  {
   "cell_type": "code",
   "execution_count": null,
   "id": "3cb5b23e-b3ab-410a-86ea-d7dafe7625b9",
   "metadata": {},
   "outputs": [],
   "source": [
    "s2_l8_ndvi_xr[1,1].plot.imshow(vmin=0,vmax=1)"
   ]
  }
 ],
 "metadata": {
  "kernelspec": {
   "display_name": "Python 3 (ipykernel)",
   "language": "python",
   "name": "python3"
  },
  "language_info": {
   "codemirror_mode": {
    "name": "ipython",
    "version": 3
   },
   "file_extension": ".py",
   "mimetype": "text/x-python",
   "name": "python",
   "nbconvert_exporter": "python",
   "pygments_lexer": "ipython3",
   "version": "3.10.12"
  }
 },
 "nbformat": 4,
 "nbformat_minor": 5
}
