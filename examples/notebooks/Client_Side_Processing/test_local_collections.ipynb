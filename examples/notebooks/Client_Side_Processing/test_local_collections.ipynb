{
 "cells": [
  {
   "cell_type": "markdown",
   "id": "47fd52fa-7fd8-4773-b010-cd676630cd89",
   "metadata": {},
   "source": [
    "### Sample notebook for Client Side Processing."
   ]
  },
  {
   "cell_type": "markdown",
   "id": "6c1128a5-01a9-4513-ad30-b5c0aa47b530",
   "metadata": {},
   "source": [
    "Create results folder if not present. This will be the path of our local collections."
   ]
  },
  {
   "cell_type": "code",
   "execution_count": 1,
   "id": "cc6e70fd-caea-47b3-b8b3-ac710a117a4a",
   "metadata": {},
   "outputs": [],
   "source": [
    "import os\n",
    "if not os.path.exists('./results'):\n",
    "    os.mkdir('results')"
   ]
  },
  {
   "cell_type": "markdown",
   "id": "bc58c8ba-b620-4464-8afd-9d4ed62658e1",
   "metadata": {},
   "source": [
    "Connect to openEO Platform to download some sample data"
   ]
  },
  {
   "cell_type": "code",
   "execution_count": 2,
   "id": "749a7e0b-0812-45f3-aa1e-feba8ba3ecdf",
   "metadata": {},
   "outputs": [
    {
     "name": "stdout",
     "output_type": "stream",
     "text": [
      "Authenticated using refresh token.\n"
     ]
    }
   ],
   "source": [
    "import openeo\n",
    "conn = openeo.connect(\"openeo.cloud\").authenticate_oidc('egi')"
   ]
  },
  {
   "cell_type": "markdown",
   "id": "6bd6b1bf-542f-4942-b492-b965e293893a",
   "metadata": {},
   "source": [
    "netCDF samples:"
   ]
  },
  {
   "cell_type": "code",
   "execution_count": 4,
   "id": "0b7038af-4f81-4092-8ff0-0661d18bf85c",
   "metadata": {},
   "outputs": [],
   "source": [
    "temporal_extent = [\"2017-06-01\",\"2017-07-01\"]\n",
    "spatial_extent = {\n",
    "          \"west\": 11.08,\n",
    "          \"east\": 11.16,\n",
    "          \"south\": 46.05,\n",
    "          \"north\": 46.07\n",
    "        }\n",
    "S2_collection = 'SENTINEL2_L2A'\n",
    "bands = ['B02','B03','B04']\n",
    "S2_data = conn.load_collection(S2_collection,\n",
    "                               temporal_extent=temporal_extent,\n",
    "                               bands=bands,\n",
    "                               spatial_extent=spatial_extent)\n",
    "S2_data.download('results/S2_L2A_data.nc')"
   ]
  },
  {
   "cell_type": "code",
   "execution_count": 5,
   "id": "d50a3ce5-c1e1-4dfd-85d6-e361ee06fe70",
   "metadata": {},
   "outputs": [],
   "source": [
    "temporal_extent = [\"2017-06-01\",\"2017-07-01\"]\n",
    "spatial_extent = {\n",
    "          \"west\": 11.08,\n",
    "          \"east\": 11.16,\n",
    "          \"south\": 46.05,\n",
    "          \"north\": 46.07\n",
    "        }\n",
    "S1_collection = 'SENTINEL1_GRD'\n",
    "bands = ['VV','VH']\n",
    "S1_data = conn.load_collection(S1_collection,\n",
    "                               temporal_extent=temporal_extent,\n",
    "                               bands=bands,\n",
    "                               spatial_extent=spatial_extent)\n",
    "S1_data.download('results/S1_GRD_data.nc')"
   ]
  },
  {
   "cell_type": "markdown",
   "id": "eaa76727-ae01-4655-854e-d381c97f3c9b",
   "metadata": {},
   "source": [
    "geoTIFF samples:\n",
    "\n",
    "note: I'm stuck with geoTIFFs, since I'm not able to correctly parse the band names yet, see https://github.com/corteva/rioxarray/issues/81#issuecomment-1253397197\n",
    "\n",
    "So, only netCDFs now are listed as local collections."
   ]
  },
  {
   "cell_type": "code",
   "execution_count": 15,
   "id": "ca5a9c53-ab91-46e7-bd9d-14463191a661",
   "metadata": {},
   "outputs": [],
   "source": [
    "temporal_extent = [\"2017-06-01\",\"2017-07-01\"]\n",
    "spatial_extent = {\n",
    "          \"west\": 11.08,\n",
    "          \"east\": 11.16,\n",
    "          \"south\": 46.05,\n",
    "          \"north\": 46.07\n",
    "        }\n",
    "S2_collection = 'SENTINEL2_L2A'\n",
    "bands = ['B02','B03','B04']\n",
    "S2_data = conn.load_collection(S2_collection,\n",
    "                               temporal_extent=temporal_extent,\n",
    "                               bands=bands,\n",
    "                               spatial_extent=spatial_extent)\n",
    "S2_data.max_time().download('results/S2_L2A_data.tiff')"
   ]
  },
  {
   "cell_type": "markdown",
   "id": "06774d39-5fe6-41a1-a81a-719f23e07431",
   "metadata": {},
   "source": [
    "Start with the local collections discovery"
   ]
  },
  {
   "cell_type": "code",
   "execution_count": 3,
   "id": "4047299d-207a-4cdb-af3c-757f4d9a6ae4",
   "metadata": {},
   "outputs": [
    {
     "name": "stdout",
     "output_type": "stream",
     "text": [
      "./results/\n"
     ]
    }
   ],
   "source": [
    "conn = openeo.connect(\"./results/\")"
   ]
  },
  {
   "cell_type": "code",
   "execution_count": 4,
   "id": "11b6a10f-89f8-4b8b-9345-06eb967e2fa8",
   "metadata": {},
   "outputs": [
    {
     "data": {
      "text/html": [
       "\n",
       "    <script>\n",
       "    if (!window.customElements || !window.customElements.get('openeo-collections')) {\n",
       "        var el = document.createElement('script');\n",
       "        el.src = \"https://cdn.jsdelivr.net/npm/@openeo/vue-components@2/assets/openeo.min.js\";\n",
       "        document.head.appendChild(el);\n",
       "\n",
       "        var font = document.createElement('font');\n",
       "        font.as = \"font\";\n",
       "        font.type = \"font/woff2\";\n",
       "        font.crossOrigin = true;\n",
       "        font.href = \"https://use.fontawesome.com/releases/v5.13.0/webfonts/fa-solid-900.woff2\"\n",
       "        document.head.appendChild(font);\n",
       "    }\n",
       "    </script>\n",
       "    <openeo-collections>\n",
       "        <script type=\"application/json\">{\"mapOptions\": {}, \"collections\": [{\"stac_version\": \"1.0.0-rc.2\", \"type\": \"Collection\", \"id\": \"./results/S2_L2A_data.nc\", \"title\": \"./results/S2_L2A_data.nc\", \"description\": \"\", \"license\": \"\", \"providers\": [{\"name\": \"openEO platform\", \"roles\": [\"producer\"], \"url\": \"\"}], \"links\": \"\", \"extent\": {\"spatial\": {\"bbox\": [[11.079252577441025, 46.05000342740738, 11.160823305139893, 46.070000870424366]]}, \"temporal\": {\"interval\": [[\"2017-06-03T00:00:00.000000000\", \"2017-07-01T00:00:00.000000000\"]]}}, \"cube:dimensions\": {\"t\": {\"type\": \"temporal\", \"extent\": [\"2017-06-03T00:00:00.000000000\", \"2017-07-01T00:00:00.000000000\"]}, \"x\": {\"type\": \"spatial\", \"axis\": \"x\", \"extent\": [660855.0, 667105.0], \"reference_system\": \"PROJCS[\\\"WGS 84 / UTM zone 32N\\\", GEOGCS[\\\"WGS 84\\\", DATUM[\\\"World Geodetic System 1984\\\", SPHEROID[\\\"WGS 84\\\", 6378137.0, 298.257223563, AUTHORITY[\\\"EPSG\\\",\\\"7030\\\"]], AUTHORITY[\\\"EPSG\\\",\\\"6326\\\"]], PRIMEM[\\\"Greenwich\\\", 0.0, AUTHORITY[\\\"EPSG\\\",\\\"8901\\\"]], UNIT[\\\"degree\\\", 0.017453292519943295], AXIS[\\\"Geodetic longitude\\\", EAST], AXIS[\\\"Geodetic latitude\\\", NORTH], AUTHORITY[\\\"EPSG\\\",\\\"4326\\\"]], PROJECTION[\\\"Transverse_Mercator\\\", AUTHORITY[\\\"EPSG\\\",\\\"9807\\\"]], PARAMETER[\\\"central_meridian\\\", 9.0], PARAMETER[\\\"latitude_of_origin\\\", 0.0], PARAMETER[\\\"scale_factor\\\", 0.9996], PARAMETER[\\\"false_easting\\\", 500000.0], PARAMETER[\\\"false_northing\\\", 0.0], UNIT[\\\"m\\\", 1.0], AXIS[\\\"Easting\\\", EAST], AXIS[\\\"Northing\\\", NORTH], AUTHORITY[\\\"EPSG\\\",\\\"32632\\\"]]\"}, \"y\": {\"type\": \"spatial\", \"axis\": \"y\", \"extent\": [5101705.0, 5104095.0], \"reference_system\": \"PROJCS[\\\"WGS 84 / UTM zone 32N\\\", GEOGCS[\\\"WGS 84\\\", DATUM[\\\"World Geodetic System 1984\\\", SPHEROID[\\\"WGS 84\\\", 6378137.0, 298.257223563, AUTHORITY[\\\"EPSG\\\",\\\"7030\\\"]], AUTHORITY[\\\"EPSG\\\",\\\"6326\\\"]], PRIMEM[\\\"Greenwich\\\", 0.0, AUTHORITY[\\\"EPSG\\\",\\\"8901\\\"]], UNIT[\\\"degree\\\", 0.017453292519943295], AXIS[\\\"Geodetic longitude\\\", EAST], AXIS[\\\"Geodetic latitude\\\", NORTH], AUTHORITY[\\\"EPSG\\\",\\\"4326\\\"]], PROJECTION[\\\"Transverse_Mercator\\\", AUTHORITY[\\\"EPSG\\\",\\\"9807\\\"]], PARAMETER[\\\"central_meridian\\\", 9.0], PARAMETER[\\\"latitude_of_origin\\\", 0.0], PARAMETER[\\\"scale_factor\\\", 0.9996], PARAMETER[\\\"false_easting\\\", 500000.0], PARAMETER[\\\"false_northing\\\", 0.0], UNIT[\\\"m\\\", 1.0], AXIS[\\\"Easting\\\", EAST], AXIS[\\\"Northing\\\", NORTH], AUTHORITY[\\\"EPSG\\\",\\\"32632\\\"]]\"}, \"bands\": {\"type\": \"bands\", \"values\": [\"B02\", \"B03\", \"B04\"]}}}, {\"stac_version\": \"1.0.0-rc.2\", \"type\": \"Collection\", \"id\": \"./results/S1_GRD_data.nc\", \"title\": \"./results/S1_GRD_data.nc\", \"description\": \"\", \"license\": \"\", \"providers\": [{\"name\": \"openEO platform\", \"roles\": [\"producer\"], \"url\": \"\"}], \"links\": \"\", \"extent\": {\"spatial\": {\"bbox\": [[11.079252577441025, 46.05000342740738, 11.160823305139893, 46.070000870424366]]}, \"temporal\": {\"interval\": [[\"2017-06-03T00:00:00.000000000\", \"2017-06-29T00:00:00.000000000\"]]}}, \"cube:dimensions\": {\"t\": {\"type\": \"temporal\", \"extent\": [\"2017-06-03T00:00:00.000000000\", \"2017-06-29T00:00:00.000000000\"]}, \"x\": {\"type\": \"spatial\", \"axis\": \"x\", \"extent\": [660855.0, 667105.0], \"reference_system\": \"PROJCS[\\\"WGS 84 / UTM zone 32N\\\", GEOGCS[\\\"WGS 84\\\", DATUM[\\\"World Geodetic System 1984\\\", SPHEROID[\\\"WGS 84\\\", 6378137.0, 298.257223563, AUTHORITY[\\\"EPSG\\\",\\\"7030\\\"]], AUTHORITY[\\\"EPSG\\\",\\\"6326\\\"]], PRIMEM[\\\"Greenwich\\\", 0.0, AUTHORITY[\\\"EPSG\\\",\\\"8901\\\"]], UNIT[\\\"degree\\\", 0.017453292519943295], AXIS[\\\"Geodetic longitude\\\", EAST], AXIS[\\\"Geodetic latitude\\\", NORTH], AUTHORITY[\\\"EPSG\\\",\\\"4326\\\"]], PROJECTION[\\\"Transverse_Mercator\\\", AUTHORITY[\\\"EPSG\\\",\\\"9807\\\"]], PARAMETER[\\\"central_meridian\\\", 9.0], PARAMETER[\\\"latitude_of_origin\\\", 0.0], PARAMETER[\\\"scale_factor\\\", 0.9996], PARAMETER[\\\"false_easting\\\", 500000.0], PARAMETER[\\\"false_northing\\\", 0.0], UNIT[\\\"m\\\", 1.0], AXIS[\\\"Easting\\\", EAST], AXIS[\\\"Northing\\\", NORTH], AUTHORITY[\\\"EPSG\\\",\\\"32632\\\"]]\"}, \"y\": {\"type\": \"spatial\", \"axis\": \"y\", \"extent\": [5101705.0, 5104095.0], \"reference_system\": \"PROJCS[\\\"WGS 84 / UTM zone 32N\\\", GEOGCS[\\\"WGS 84\\\", DATUM[\\\"World Geodetic System 1984\\\", SPHEROID[\\\"WGS 84\\\", 6378137.0, 298.257223563, AUTHORITY[\\\"EPSG\\\",\\\"7030\\\"]], AUTHORITY[\\\"EPSG\\\",\\\"6326\\\"]], PRIMEM[\\\"Greenwich\\\", 0.0, AUTHORITY[\\\"EPSG\\\",\\\"8901\\\"]], UNIT[\\\"degree\\\", 0.017453292519943295], AXIS[\\\"Geodetic longitude\\\", EAST], AXIS[\\\"Geodetic latitude\\\", NORTH], AUTHORITY[\\\"EPSG\\\",\\\"4326\\\"]], PROJECTION[\\\"Transverse_Mercator\\\", AUTHORITY[\\\"EPSG\\\",\\\"9807\\\"]], PARAMETER[\\\"central_meridian\\\", 9.0], PARAMETER[\\\"latitude_of_origin\\\", 0.0], PARAMETER[\\\"scale_factor\\\", 0.9996], PARAMETER[\\\"false_easting\\\", 500000.0], PARAMETER[\\\"false_northing\\\", 0.0], UNIT[\\\"m\\\", 1.0], AXIS[\\\"Easting\\\", EAST], AXIS[\\\"Northing\\\", NORTH], AUTHORITY[\\\"EPSG\\\",\\\"32632\\\"]]\"}, \"bands\": {\"type\": \"bands\", \"values\": [\"VV\", \"VH\"]}}}]}</script>\n",
       "    </openeo-collections>\n",
       "    "
      ],
      "text/plain": [
       "[{'stac_version': '1.0.0-rc.2',\n",
       "  'type': 'Collection',\n",
       "  'id': './results/S2_L2A_data.nc',\n",
       "  'title': './results/S2_L2A_data.nc',\n",
       "  'description': '',\n",
       "  'license': '',\n",
       "  'providers': [{'name': 'openEO platform', 'roles': ['producer'], 'url': ''}],\n",
       "  'links': '',\n",
       "  'extent': {'spatial': {'bbox': [[11.079252577441025,\n",
       "      46.05000342740738,\n",
       "      11.160823305139893,\n",
       "      46.070000870424366]]},\n",
       "   'temporal': {'interval': [['2017-06-03T00:00:00.000000000',\n",
       "      '2017-07-01T00:00:00.000000000']]}},\n",
       "  'cube:dimensions': {'t': {'type': 'temporal',\n",
       "    'extent': ['2017-06-03T00:00:00.000000000',\n",
       "     '2017-07-01T00:00:00.000000000']},\n",
       "   'x': {'type': 'spatial',\n",
       "    'axis': 'x',\n",
       "    'extent': [660855.0, 667105.0],\n",
       "    'reference_system': 'PROJCS[\"WGS 84 / UTM zone 32N\", GEOGCS[\"WGS 84\", DATUM[\"World Geodetic System 1984\", SPHEROID[\"WGS 84\", 6378137.0, 298.257223563, AUTHORITY[\"EPSG\",\"7030\"]], AUTHORITY[\"EPSG\",\"6326\"]], PRIMEM[\"Greenwich\", 0.0, AUTHORITY[\"EPSG\",\"8901\"]], UNIT[\"degree\", 0.017453292519943295], AXIS[\"Geodetic longitude\", EAST], AXIS[\"Geodetic latitude\", NORTH], AUTHORITY[\"EPSG\",\"4326\"]], PROJECTION[\"Transverse_Mercator\", AUTHORITY[\"EPSG\",\"9807\"]], PARAMETER[\"central_meridian\", 9.0], PARAMETER[\"latitude_of_origin\", 0.0], PARAMETER[\"scale_factor\", 0.9996], PARAMETER[\"false_easting\", 500000.0], PARAMETER[\"false_northing\", 0.0], UNIT[\"m\", 1.0], AXIS[\"Easting\", EAST], AXIS[\"Northing\", NORTH], AUTHORITY[\"EPSG\",\"32632\"]]'},\n",
       "   'y': {'type': 'spatial',\n",
       "    'axis': 'y',\n",
       "    'extent': [5101705.0, 5104095.0],\n",
       "    'reference_system': 'PROJCS[\"WGS 84 / UTM zone 32N\", GEOGCS[\"WGS 84\", DATUM[\"World Geodetic System 1984\", SPHEROID[\"WGS 84\", 6378137.0, 298.257223563, AUTHORITY[\"EPSG\",\"7030\"]], AUTHORITY[\"EPSG\",\"6326\"]], PRIMEM[\"Greenwich\", 0.0, AUTHORITY[\"EPSG\",\"8901\"]], UNIT[\"degree\", 0.017453292519943295], AXIS[\"Geodetic longitude\", EAST], AXIS[\"Geodetic latitude\", NORTH], AUTHORITY[\"EPSG\",\"4326\"]], PROJECTION[\"Transverse_Mercator\", AUTHORITY[\"EPSG\",\"9807\"]], PARAMETER[\"central_meridian\", 9.0], PARAMETER[\"latitude_of_origin\", 0.0], PARAMETER[\"scale_factor\", 0.9996], PARAMETER[\"false_easting\", 500000.0], PARAMETER[\"false_northing\", 0.0], UNIT[\"m\", 1.0], AXIS[\"Easting\", EAST], AXIS[\"Northing\", NORTH], AUTHORITY[\"EPSG\",\"32632\"]]'},\n",
       "   'bands': {'type': 'bands', 'values': ['B02', 'B03', 'B04']}}},\n",
       " {'stac_version': '1.0.0-rc.2',\n",
       "  'type': 'Collection',\n",
       "  'id': './results/S1_GRD_data.nc',\n",
       "  'title': './results/S1_GRD_data.nc',\n",
       "  'description': '',\n",
       "  'license': '',\n",
       "  'providers': [{'name': 'openEO platform', 'roles': ['producer'], 'url': ''}],\n",
       "  'links': '',\n",
       "  'extent': {'spatial': {'bbox': [[11.079252577441025,\n",
       "      46.05000342740738,\n",
       "      11.160823305139893,\n",
       "      46.070000870424366]]},\n",
       "   'temporal': {'interval': [['2017-06-03T00:00:00.000000000',\n",
       "      '2017-06-29T00:00:00.000000000']]}},\n",
       "  'cube:dimensions': {'t': {'type': 'temporal',\n",
       "    'extent': ['2017-06-03T00:00:00.000000000',\n",
       "     '2017-06-29T00:00:00.000000000']},\n",
       "   'x': {'type': 'spatial',\n",
       "    'axis': 'x',\n",
       "    'extent': [660855.0, 667105.0],\n",
       "    'reference_system': 'PROJCS[\"WGS 84 / UTM zone 32N\", GEOGCS[\"WGS 84\", DATUM[\"World Geodetic System 1984\", SPHEROID[\"WGS 84\", 6378137.0, 298.257223563, AUTHORITY[\"EPSG\",\"7030\"]], AUTHORITY[\"EPSG\",\"6326\"]], PRIMEM[\"Greenwich\", 0.0, AUTHORITY[\"EPSG\",\"8901\"]], UNIT[\"degree\", 0.017453292519943295], AXIS[\"Geodetic longitude\", EAST], AXIS[\"Geodetic latitude\", NORTH], AUTHORITY[\"EPSG\",\"4326\"]], PROJECTION[\"Transverse_Mercator\", AUTHORITY[\"EPSG\",\"9807\"]], PARAMETER[\"central_meridian\", 9.0], PARAMETER[\"latitude_of_origin\", 0.0], PARAMETER[\"scale_factor\", 0.9996], PARAMETER[\"false_easting\", 500000.0], PARAMETER[\"false_northing\", 0.0], UNIT[\"m\", 1.0], AXIS[\"Easting\", EAST], AXIS[\"Northing\", NORTH], AUTHORITY[\"EPSG\",\"32632\"]]'},\n",
       "   'y': {'type': 'spatial',\n",
       "    'axis': 'y',\n",
       "    'extent': [5101705.0, 5104095.0],\n",
       "    'reference_system': 'PROJCS[\"WGS 84 / UTM zone 32N\", GEOGCS[\"WGS 84\", DATUM[\"World Geodetic System 1984\", SPHEROID[\"WGS 84\", 6378137.0, 298.257223563, AUTHORITY[\"EPSG\",\"7030\"]], AUTHORITY[\"EPSG\",\"6326\"]], PRIMEM[\"Greenwich\", 0.0, AUTHORITY[\"EPSG\",\"8901\"]], UNIT[\"degree\", 0.017453292519943295], AXIS[\"Geodetic longitude\", EAST], AXIS[\"Geodetic latitude\", NORTH], AUTHORITY[\"EPSG\",\"4326\"]], PROJECTION[\"Transverse_Mercator\", AUTHORITY[\"EPSG\",\"9807\"]], PARAMETER[\"central_meridian\", 9.0], PARAMETER[\"latitude_of_origin\", 0.0], PARAMETER[\"scale_factor\", 0.9996], PARAMETER[\"false_easting\", 500000.0], PARAMETER[\"false_northing\", 0.0], UNIT[\"m\", 1.0], AXIS[\"Easting\", EAST], AXIS[\"Northing\", NORTH], AUTHORITY[\"EPSG\",\"32632\"]]'},\n",
       "   'bands': {'type': 'bands', 'values': ['VV', 'VH']}}}]"
      ]
     },
     "execution_count": 4,
     "metadata": {},
     "output_type": "execute_result"
    }
   ],
   "source": [
    "conn.list_collections()"
   ]
  },
  {
   "cell_type": "code",
   "execution_count": 5,
   "id": "c89838c0-3a63-4dde-8317-7c236ba9f35d",
   "metadata": {},
   "outputs": [
    {
     "data": {
      "text/html": [
       "\n",
       "    <script>\n",
       "    if (!window.customElements || !window.customElements.get('openeo-collection')) {\n",
       "        var el = document.createElement('script');\n",
       "        el.src = \"https://cdn.jsdelivr.net/npm/@openeo/vue-components@2/assets/openeo.min.js\";\n",
       "        document.head.appendChild(el);\n",
       "\n",
       "        var font = document.createElement('font');\n",
       "        font.as = \"font\";\n",
       "        font.type = \"font/woff2\";\n",
       "        font.crossOrigin = true;\n",
       "        font.href = \"https://use.fontawesome.com/releases/v5.13.0/webfonts/fa-solid-900.woff2\"\n",
       "        document.head.appendChild(font);\n",
       "    }\n",
       "    </script>\n",
       "    <openeo-collection>\n",
       "        <script type=\"application/json\">{\"mapOptions\": {}, \"data\": {\"stac_version\": \"1.0.0-rc.2\", \"type\": \"Collection\", \"id\": \"./results/S1_GRD_data.nc\", \"title\": \"./results/S1_GRD_data.nc\", \"description\": \"\", \"license\": \"\", \"providers\": [{\"name\": \"openEO platform\", \"roles\": [\"producer\"], \"url\": \"\"}], \"links\": \"\", \"extent\": {\"spatial\": {\"bbox\": [[11.079252577441025, 46.05000342740738, 11.160823305139893, 46.070000870424366]]}, \"temporal\": {\"interval\": [[\"2017-06-03T00:00:00.000000000\", \"2017-06-29T00:00:00.000000000\"]]}}, \"cube:dimensions\": {\"t\": {\"type\": \"temporal\", \"extent\": [\"2017-06-03T00:00:00.000000000\", \"2017-06-29T00:00:00.000000000\"]}, \"x\": {\"type\": \"spatial\", \"axis\": \"x\", \"extent\": [660855.0, 667105.0], \"reference_system\": \"PROJCS[\\\"WGS 84 / UTM zone 32N\\\", GEOGCS[\\\"WGS 84\\\", DATUM[\\\"World Geodetic System 1984\\\", SPHEROID[\\\"WGS 84\\\", 6378137.0, 298.257223563, AUTHORITY[\\\"EPSG\\\",\\\"7030\\\"]], AUTHORITY[\\\"EPSG\\\",\\\"6326\\\"]], PRIMEM[\\\"Greenwich\\\", 0.0, AUTHORITY[\\\"EPSG\\\",\\\"8901\\\"]], UNIT[\\\"degree\\\", 0.017453292519943295], AXIS[\\\"Geodetic longitude\\\", EAST], AXIS[\\\"Geodetic latitude\\\", NORTH], AUTHORITY[\\\"EPSG\\\",\\\"4326\\\"]], PROJECTION[\\\"Transverse_Mercator\\\", AUTHORITY[\\\"EPSG\\\",\\\"9807\\\"]], PARAMETER[\\\"central_meridian\\\", 9.0], PARAMETER[\\\"latitude_of_origin\\\", 0.0], PARAMETER[\\\"scale_factor\\\", 0.9996], PARAMETER[\\\"false_easting\\\", 500000.0], PARAMETER[\\\"false_northing\\\", 0.0], UNIT[\\\"m\\\", 1.0], AXIS[\\\"Easting\\\", EAST], AXIS[\\\"Northing\\\", NORTH], AUTHORITY[\\\"EPSG\\\",\\\"32632\\\"]]\"}, \"y\": {\"type\": \"spatial\", \"axis\": \"y\", \"extent\": [5101705.0, 5104095.0], \"reference_system\": \"PROJCS[\\\"WGS 84 / UTM zone 32N\\\", GEOGCS[\\\"WGS 84\\\", DATUM[\\\"World Geodetic System 1984\\\", SPHEROID[\\\"WGS 84\\\", 6378137.0, 298.257223563, AUTHORITY[\\\"EPSG\\\",\\\"7030\\\"]], AUTHORITY[\\\"EPSG\\\",\\\"6326\\\"]], PRIMEM[\\\"Greenwich\\\", 0.0, AUTHORITY[\\\"EPSG\\\",\\\"8901\\\"]], UNIT[\\\"degree\\\", 0.017453292519943295], AXIS[\\\"Geodetic longitude\\\", EAST], AXIS[\\\"Geodetic latitude\\\", NORTH], AUTHORITY[\\\"EPSG\\\",\\\"4326\\\"]], PROJECTION[\\\"Transverse_Mercator\\\", AUTHORITY[\\\"EPSG\\\",\\\"9807\\\"]], PARAMETER[\\\"central_meridian\\\", 9.0], PARAMETER[\\\"latitude_of_origin\\\", 0.0], PARAMETER[\\\"scale_factor\\\", 0.9996], PARAMETER[\\\"false_easting\\\", 500000.0], PARAMETER[\\\"false_northing\\\", 0.0], UNIT[\\\"m\\\", 1.0], AXIS[\\\"Easting\\\", EAST], AXIS[\\\"Northing\\\", NORTH], AUTHORITY[\\\"EPSG\\\",\\\"32632\\\"]]\"}, \"bands\": {\"type\": \"bands\", \"values\": [\"VV\", \"VH\"]}}}}</script>\n",
       "    </openeo-collection>\n",
       "    "
      ],
      "text/plain": [
       "{'stac_version': '1.0.0-rc.2',\n",
       " 'type': 'Collection',\n",
       " 'id': './results/S1_GRD_data.nc',\n",
       " 'title': './results/S1_GRD_data.nc',\n",
       " 'description': '',\n",
       " 'license': '',\n",
       " 'providers': [{'name': 'openEO platform', 'roles': ['producer'], 'url': ''}],\n",
       " 'links': '',\n",
       " 'extent': {'spatial': {'bbox': [[11.079252577441025,\n",
       "     46.05000342740738,\n",
       "     11.160823305139893,\n",
       "     46.070000870424366]]},\n",
       "  'temporal': {'interval': [['2017-06-03T00:00:00.000000000',\n",
       "     '2017-06-29T00:00:00.000000000']]}},\n",
       " 'cube:dimensions': {'t': {'type': 'temporal',\n",
       "   'extent': ['2017-06-03T00:00:00.000000000',\n",
       "    '2017-06-29T00:00:00.000000000']},\n",
       "  'x': {'type': 'spatial',\n",
       "   'axis': 'x',\n",
       "   'extent': [660855.0, 667105.0],\n",
       "   'reference_system': 'PROJCS[\"WGS 84 / UTM zone 32N\", GEOGCS[\"WGS 84\", DATUM[\"World Geodetic System 1984\", SPHEROID[\"WGS 84\", 6378137.0, 298.257223563, AUTHORITY[\"EPSG\",\"7030\"]], AUTHORITY[\"EPSG\",\"6326\"]], PRIMEM[\"Greenwich\", 0.0, AUTHORITY[\"EPSG\",\"8901\"]], UNIT[\"degree\", 0.017453292519943295], AXIS[\"Geodetic longitude\", EAST], AXIS[\"Geodetic latitude\", NORTH], AUTHORITY[\"EPSG\",\"4326\"]], PROJECTION[\"Transverse_Mercator\", AUTHORITY[\"EPSG\",\"9807\"]], PARAMETER[\"central_meridian\", 9.0], PARAMETER[\"latitude_of_origin\", 0.0], PARAMETER[\"scale_factor\", 0.9996], PARAMETER[\"false_easting\", 500000.0], PARAMETER[\"false_northing\", 0.0], UNIT[\"m\", 1.0], AXIS[\"Easting\", EAST], AXIS[\"Northing\", NORTH], AUTHORITY[\"EPSG\",\"32632\"]]'},\n",
       "  'y': {'type': 'spatial',\n",
       "   'axis': 'y',\n",
       "   'extent': [5101705.0, 5104095.0],\n",
       "   'reference_system': 'PROJCS[\"WGS 84 / UTM zone 32N\", GEOGCS[\"WGS 84\", DATUM[\"World Geodetic System 1984\", SPHEROID[\"WGS 84\", 6378137.0, 298.257223563, AUTHORITY[\"EPSG\",\"7030\"]], AUTHORITY[\"EPSG\",\"6326\"]], PRIMEM[\"Greenwich\", 0.0, AUTHORITY[\"EPSG\",\"8901\"]], UNIT[\"degree\", 0.017453292519943295], AXIS[\"Geodetic longitude\", EAST], AXIS[\"Geodetic latitude\", NORTH], AUTHORITY[\"EPSG\",\"4326\"]], PROJECTION[\"Transverse_Mercator\", AUTHORITY[\"EPSG\",\"9807\"]], PARAMETER[\"central_meridian\", 9.0], PARAMETER[\"latitude_of_origin\", 0.0], PARAMETER[\"scale_factor\", 0.9996], PARAMETER[\"false_easting\", 500000.0], PARAMETER[\"false_northing\", 0.0], UNIT[\"m\", 1.0], AXIS[\"Easting\", EAST], AXIS[\"Northing\", NORTH], AUTHORITY[\"EPSG\",\"32632\"]]'},\n",
       "  'bands': {'type': 'bands', 'values': ['VV', 'VH']}}}"
      ]
     },
     "execution_count": 5,
     "metadata": {},
     "output_type": "execute_result"
    }
   ],
   "source": [
    "conn.describe_collection('./results/S1_GRD_data.nc')"
   ]
  },
  {
   "cell_type": "code",
   "execution_count": 6,
   "id": "3591a903-4632-4c4e-8792-5912e5767fde",
   "metadata": {},
   "outputs": [],
   "source": [
    "S1_datacube = conn.load_collection('./results/S1_GRD_data.nc')"
   ]
  },
  {
   "cell_type": "code",
   "execution_count": 7,
   "id": "81b4c04c-db90-46a0-a4df-3c47d223cb9e",
   "metadata": {},
   "outputs": [],
   "source": [
    "S1_datacube = S1_datacube.reduce_dimension(dimension='t',reducer='mean')"
   ]
  },
  {
   "cell_type": "markdown",
   "id": "3241fb25-3f68-4ba3-8eda-7fa1884792cb",
   "metadata": {},
   "source": [
    "With the process graph we need to find a way to call the python processes now..."
   ]
  },
  {
   "cell_type": "code",
   "execution_count": 8,
   "id": "3af830c7-47da-4e4d-b0d7-f1fc8cdfcebe",
   "metadata": {},
   "outputs": [
    {
     "name": "stdout",
     "output_type": "stream",
     "text": [
      "{\n",
      "  \"process_graph\": {\n",
      "    \"loadcollection1\": {\n",
      "      \"process_id\": \"load_collection\",\n",
      "      \"arguments\": {\n",
      "        \"id\": \"./results/S1_GRD_data.nc\",\n",
      "        \"spatial_extent\": null,\n",
      "        \"temporal_extent\": null\n",
      "      }\n",
      "    },\n",
      "    \"reducedimension1\": {\n",
      "      \"process_id\": \"reduce_dimension\",\n",
      "      \"arguments\": {\n",
      "        \"data\": {\n",
      "          \"from_node\": \"loadcollection1\"\n",
      "        },\n",
      "        \"dimension\": \"t\",\n",
      "        \"reducer\": {\n",
      "          \"process_graph\": {\n",
      "            \"mean1\": {\n",
      "              \"process_id\": \"mean\",\n",
      "              \"arguments\": {\n",
      "                \"data\": {\n",
      "                  \"from_parameter\": \"data\"\n",
      "                }\n",
      "              },\n",
      "              \"result\": true\n",
      "            }\n",
      "          }\n",
      "        }\n",
      "      },\n",
      "      \"result\": true\n",
      "    }\n",
      "  }\n",
      "}\n"
     ]
    }
   ],
   "source": [
    "S1_datacube.print_json()"
   ]
  },
  {
   "cell_type": "code",
   "execution_count": 9,
   "id": "32d3017a-a670-4b51-bed6-7d8bd71c6f00",
   "metadata": {},
   "outputs": [
    {
     "data": {
      "text/html": [
       "\n",
       "    <script>\n",
       "    if (!window.customElements || !window.customElements.get('openeo-collection')) {\n",
       "        var el = document.createElement('script');\n",
       "        el.src = \"https://cdn.jsdelivr.net/npm/@openeo/vue-components@2/assets/openeo.min.js\";\n",
       "        document.head.appendChild(el);\n",
       "\n",
       "        var font = document.createElement('font');\n",
       "        font.as = \"font\";\n",
       "        font.type = \"font/woff2\";\n",
       "        font.crossOrigin = true;\n",
       "        font.href = \"https://use.fontawesome.com/releases/v5.13.0/webfonts/fa-solid-900.woff2\"\n",
       "        document.head.appendChild(font);\n",
       "    }\n",
       "    </script>\n",
       "    <openeo-collection>\n",
       "        <script type=\"application/json\">{\"mapOptions\": {}, \"data\": {\"stac_version\": \"1.0.0-rc.2\", \"type\": \"Collection\", \"id\": \"./results/S1_GRD_data.nc\", \"title\": \"./results/S1_GRD_data.nc\", \"description\": \"\", \"license\": \"\", \"providers\": [{\"name\": \"openEO platform\", \"roles\": [\"producer\"], \"url\": \"\"}], \"links\": \"\", \"extent\": {\"spatial\": {\"bbox\": [[11.079252577441025, 46.05000342740738, 11.160823305139893, 46.070000870424366]]}, \"temporal\": {\"interval\": [[\"2017-06-03T00:00:00.000000000\", \"2017-06-29T00:00:00.000000000\"]]}}, \"cube:dimensions\": {\"t\": {\"type\": \"temporal\", \"extent\": [\"2017-06-03T00:00:00.000000000\", \"2017-06-29T00:00:00.000000000\"]}, \"x\": {\"type\": \"spatial\", \"axis\": \"x\", \"extent\": [660855.0, 667105.0], \"reference_system\": \"PROJCS[\\\"WGS 84 / UTM zone 32N\\\", GEOGCS[\\\"WGS 84\\\", DATUM[\\\"World Geodetic System 1984\\\", SPHEROID[\\\"WGS 84\\\", 6378137.0, 298.257223563, AUTHORITY[\\\"EPSG\\\",\\\"7030\\\"]], AUTHORITY[\\\"EPSG\\\",\\\"6326\\\"]], PRIMEM[\\\"Greenwich\\\", 0.0, AUTHORITY[\\\"EPSG\\\",\\\"8901\\\"]], UNIT[\\\"degree\\\", 0.017453292519943295], AXIS[\\\"Geodetic longitude\\\", EAST], AXIS[\\\"Geodetic latitude\\\", NORTH], AUTHORITY[\\\"EPSG\\\",\\\"4326\\\"]], PROJECTION[\\\"Transverse_Mercator\\\", AUTHORITY[\\\"EPSG\\\",\\\"9807\\\"]], PARAMETER[\\\"central_meridian\\\", 9.0], PARAMETER[\\\"latitude_of_origin\\\", 0.0], PARAMETER[\\\"scale_factor\\\", 0.9996], PARAMETER[\\\"false_easting\\\", 500000.0], PARAMETER[\\\"false_northing\\\", 0.0], UNIT[\\\"m\\\", 1.0], AXIS[\\\"Easting\\\", EAST], AXIS[\\\"Northing\\\", NORTH], AUTHORITY[\\\"EPSG\\\",\\\"32632\\\"]]\"}, \"y\": {\"type\": \"spatial\", \"axis\": \"y\", \"extent\": [5101705.0, 5104095.0], \"reference_system\": \"PROJCS[\\\"WGS 84 / UTM zone 32N\\\", GEOGCS[\\\"WGS 84\\\", DATUM[\\\"World Geodetic System 1984\\\", SPHEROID[\\\"WGS 84\\\", 6378137.0, 298.257223563, AUTHORITY[\\\"EPSG\\\",\\\"7030\\\"]], AUTHORITY[\\\"EPSG\\\",\\\"6326\\\"]], PRIMEM[\\\"Greenwich\\\", 0.0, AUTHORITY[\\\"EPSG\\\",\\\"8901\\\"]], UNIT[\\\"degree\\\", 0.017453292519943295], AXIS[\\\"Geodetic longitude\\\", EAST], AXIS[\\\"Geodetic latitude\\\", NORTH], AUTHORITY[\\\"EPSG\\\",\\\"4326\\\"]], PROJECTION[\\\"Transverse_Mercator\\\", AUTHORITY[\\\"EPSG\\\",\\\"9807\\\"]], PARAMETER[\\\"central_meridian\\\", 9.0], PARAMETER[\\\"latitude_of_origin\\\", 0.0], PARAMETER[\\\"scale_factor\\\", 0.9996], PARAMETER[\\\"false_easting\\\", 500000.0], PARAMETER[\\\"false_northing\\\", 0.0], UNIT[\\\"m\\\", 1.0], AXIS[\\\"Easting\\\", EAST], AXIS[\\\"Northing\\\", NORTH], AUTHORITY[\\\"EPSG\\\",\\\"32632\\\"]]\"}, \"bands\": {\"type\": \"bands\", \"values\": [\"VV\", \"VH\"]}}}}</script>\n",
       "    </openeo-collection>\n",
       "    "
      ],
      "text/plain": [
       "<openeo.metadata.CollectionMetadata at 0x7f6c490a9e20>"
      ]
     },
     "execution_count": 9,
     "metadata": {},
     "output_type": "execute_result"
    }
   ],
   "source": [
    "S1_datacube.metadata"
   ]
  },
  {
   "cell_type": "code",
   "execution_count": null,
   "id": "4d9a2ced-eedf-4907-925a-56c86824994a",
   "metadata": {},
   "outputs": [],
   "source": []
  }
 ],
 "metadata": {
  "kernelspec": {
   "display_name": "openeo_odc",
   "language": "python",
   "name": "openeo_odc"
  },
  "language_info": {
   "codemirror_mode": {
    "name": "ipython",
    "version": 3
   },
   "file_extension": ".py",
   "mimetype": "text/x-python",
   "name": "python",
   "nbconvert_exporter": "python",
   "pygments_lexer": "ipython3",
   "version": "3.8.13"
  }
 },
 "nbformat": 4,
 "nbformat_minor": 5
}
