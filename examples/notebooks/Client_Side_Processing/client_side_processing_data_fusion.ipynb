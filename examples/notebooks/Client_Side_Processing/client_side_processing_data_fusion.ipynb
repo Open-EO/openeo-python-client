{
 "cells": [
  {
   "cell_type": "markdown",
   "id": "3cfbd63f-f9fe-4521-af0a-5679216871df",
   "metadata": {
    "tags": []
   },
   "source": [
    "<img src=\"https://avatars.githubusercontent.com/u/74911464?s=200&v=4\"\n",
    "     alt=\"OpenEO Platform logo\"\n",
    "     style=\"float: left; margin-right: 10px;\" />\n",
    "# OpenEO Platform - Client Side Processing\n",
    "\n",
    "## Data Fusion\n"
   ]
  },
  {
   "cell_type": "markdown",
   "id": "739a4107-cc33-4948-ae72-74e41efc5128",
   "metadata": {},
   "source": [
    "In this interactive notebook we will show some usage eaxample of the Client Side Processing functionality added recently to the openEO Python client."
   ]
  },
  {
   "cell_type": "markdown",
   "id": "827ec0c9-c38f-4d2f-a293-00d110ec70f6",
   "metadata": {
    "tags": []
   },
   "source": [
    "## Requirements"
   ]
  },
  {
   "cell_type": "markdown",
   "id": "51a9e53a-481c-4ea5-a175-652d6398828d",
   "metadata": {},
   "source": [
    "To use this functionality, you need `3.9<=Python<3.11`.\n",
    "\n",
    "You can install it using:\n",
    "    `pip install openeo[localprocessing]`\n",
    "\n",
    "<div class=\"alert alert-block alert-warning\">\n",
    "This functionality is still under development and the installation procedure might change.\n",
    "Please refer to official documentation page for the most up to date instructions:\n",
    "    \n",
    "<a href=\"url\">https://open-eo.github.io/openeo-python-client/cookbook/localprocessing.html</a>"
   ]
  },
  {
   "cell_type": "markdown",
   "id": "df8ae408-29f8-4262-90a6-b2935abda290",
   "metadata": {
    "tags": []
   },
   "source": [
    "## Sample Datasets"
   ]
  },
  {
   "cell_type": "markdown",
   "id": "d89a7e7e-53a6-4e51-970f-61be7dbf69cc",
   "metadata": {},
   "source": [
    "Clone the repository containing sample datasets provided by openEO Platform:"
   ]
  },
  {
   "cell_type": "code",
   "execution_count": null,
   "id": "7413f5bd-542e-4efa-a3e0-f338c254f725",
   "metadata": {},
   "outputs": [],
   "source": [
    "import os\n",
    "if not os.path.exists('./openeo-localprocessing-data'):\n",
    "    !git clone https://github.com/Open-EO/openeo-localprocessing-data.git"
   ]
  },
  {
   "cell_type": "markdown",
   "id": "9294b308-4e6b-4324-b213-b18dde0e29fb",
   "metadata": {},
   "source": [
    "Initialize the local collections and inspect them:"
   ]
  },
  {
   "cell_type": "code",
   "execution_count": null,
   "id": "c1a6e679-22f6-48db-81a6-43c023d08947",
   "metadata": {},
   "outputs": [],
   "source": [
    "from openeo.local import LocalConnection\n",
    "local_conn = LocalConnection(['./openeo-localprocessing-data'])\n",
    "local_conn.list_collections()"
   ]
  },
  {
   "cell_type": "markdown",
   "id": "2f1ee39b-4e69-48c1-8866-8f891a2f4e28",
   "metadata": {},
   "source": [
    "**We are going to work with the sample Sentinel-2 and Sentinel-1 data.**\n",
    "\n",
    "Let's look at them step by step:"
   ]
  },
  {
   "cell_type": "code",
   "execution_count": null,
   "id": "89e4c013-02a4-4cfe-b1cd-7759205ab303",
   "metadata": {},
   "outputs": [],
   "source": [
    "s2 = local_conn.load_collection('openeo-localprocessing-data/sample_netcdf/S2_L2A_sample.nc')\n",
    "s2_dataarray = s2.execute()\n",
    "s2_dataarray"
   ]
  },
  {
   "cell_type": "code",
   "execution_count": null,
   "id": "ad29b529-03b0-4b36-bdac-7c2562eb772a",
   "metadata": {},
   "outputs": [],
   "source": [
    "s1 = local_conn.load_collection('openeo-localprocessing-data/sample_netcdf/S1_GRD_sample.nc')\n",
    "s1_dataarray = s1.execute()\n",
    "s1_dataarray"
   ]
  },
  {
   "cell_type": "markdown",
   "id": "c3e0440b-ef10-45f6-8019-f8c45fe26007",
   "metadata": {},
   "source": [
    "We notice that the Sentinel-1 data covers a bigger area than the one covered by Sentinel-2. This is also visible in the local collections metadata.\n",
    "\n",
    "In this case the two datacubes have the same resolution and are probably also aligned. However, sometimes we might need to combine data coming from different satellite sources with different projections and resolution.\n",
    "\n",
    "In this scenario we could use the `resample_cube_spatial` openEO process that allows to reproject and crop the source to match a target datacube in one shot.\n",
    "\n",
    "Have a look at the official process description if you want to know more details: https://processes.openeo.org/#resample_cube_spatial"
   ]
  },
  {
   "cell_type": "markdown",
   "id": "a7497996-2998-4ddb-b4e0-dc26dd1d14bc",
   "metadata": {},
   "source": [
    "We now want to resample the S1 data to match S2, for being able to merge them later:"
   ]
  },
  {
   "cell_type": "code",
   "execution_count": null,
   "id": "9828c925-6e40-449f-8d7b-eefc48bccbca",
   "metadata": {},
   "outputs": [],
   "source": [
    "s1_resampled = s1.resample_cube_spatial(target=s2,method=\"bilinear\")\n",
    "s1_resampled.execute()"
   ]
  },
  {
   "cell_type": "markdown",
   "id": "43636dc9-87f7-4c71-b73c-4e623a17fa59",
   "metadata": {},
   "source": [
    "Now our Sentinel-1 data has the same spatial extent and resolution. However, the two datacubes have different number of time steps and we have to align that dimension as well to make a meaningful merge.\n",
    "\n",
    "We could compute a temporal aggregation using the openEO process `aggregate_temporal_period`, to compute the monthly median values.\n",
    "Have a look at the official process description if you want to know more details: https://processes.openeo.org/#aggregate_temporal_period"
   ]
  },
  {
   "cell_type": "code",
   "execution_count": null,
   "id": "a758cc8c-648c-41c1-af05-6ac02b48cc7b",
   "metadata": {},
   "outputs": [],
   "source": [
    "s2_monthly_median = s2.aggregate_temporal_period(period=\"month\",reducer=\"median\")\n",
    "s1_monthly_median = s1_resampled.aggregate_temporal_period(period=\"month\",reducer=\"median\")"
   ]
  },
  {
   "cell_type": "markdown",
   "id": "c2631aab-05c8-43af-b81c-1eb52466301a",
   "metadata": {},
   "source": [
    "Now that spatial and temporal dimensions are aligned, we can proceed merging the two datacubes and look at the generated openEO process graph:"
   ]
  },
  {
   "cell_type": "code",
   "execution_count": null,
   "id": "2430403d-4824-4871-827d-82b2a78c8b3f",
   "metadata": {},
   "outputs": [],
   "source": [
    "s2_s1_monthly_median = s2_monthly_median.merge_cubes(s1_monthly_median)\n",
    "s2_s1_monthly_median"
   ]
  },
  {
   "cell_type": "markdown",
   "id": "682e8534-243c-451e-8610-414caeb4f516",
   "metadata": {},
   "source": [
    "Finally execute the process and check the output:"
   ]
  },
  {
   "cell_type": "code",
   "execution_count": null,
   "id": "47f44b4b-274e-45df-aaf9-8c9c335c2951",
   "metadata": {},
   "outputs": [],
   "source": [
    "s2_s1_monthly_median = s2_s1_monthly_median.execute()\n",
    "s2_s1_monthly_median"
   ]
  },
  {
   "cell_type": "markdown",
   "id": "28fab2fa-aae4-4820-9abe-5a6d700a16b6",
   "metadata": {},
   "source": [
    "The output now contains the optical bands of Sentinel-2 and the two polarizations from Sentinel-1.\n",
    "\n",
    "The datacube is aligned spatially and temporally, which was possible using the `resample_cube_spatial` and `aggregate_temporal_period` processes."
   ]
  }
 ],
 "metadata": {
  "kernelspec": {
   "display_name": "Python 3 (ipykernel)",
   "language": "python",
   "name": "python3"
  },
  "language_info": {
   "codemirror_mode": {
    "name": "ipython",
    "version": 3
   },
   "file_extension": ".py",
   "mimetype": "text/x-python",
   "name": "python",
   "nbconvert_exporter": "python",
   "pygments_lexer": "ipython3",
   "version": "3.10.11"
  }
 },
 "nbformat": 4,
 "nbformat_minor": 5
}
