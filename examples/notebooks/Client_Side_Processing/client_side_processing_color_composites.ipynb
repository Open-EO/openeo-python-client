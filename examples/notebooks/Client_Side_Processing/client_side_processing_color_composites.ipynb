{
 "cells": [
  {
   "cell_type": "markdown",
   "id": "3cfbd63f-f9fe-4521-af0a-5679216871df",
   "metadata": {
    "tags": []
   },
   "source": [
    "<img src=\"https://avatars.githubusercontent.com/u/74911464?s=200&v=4\"\n",
    "     alt=\"OpenEO Platform logo\"\n",
    "     style=\"float: left; margin-right: 10px;\" />\n",
    "# OpenEO Platform - Client Side Processing\n"
   ]
  },
  {
   "cell_type": "markdown",
   "id": "739a4107-cc33-4948-ae72-74e41efc5128",
   "metadata": {},
   "source": [
    "In this interactive notebook we will show some usage eaxample of the Client Side Processing functionality added recently to the openEO Python client."
   ]
  },
  {
   "cell_type": "markdown",
   "id": "827ec0c9-c38f-4d2f-a293-00d110ec70f6",
   "metadata": {
    "tags": []
   },
   "source": [
    "## Requirements"
   ]
  },
  {
   "cell_type": "markdown",
   "id": "51a9e53a-481c-4ea5-a175-652d6398828d",
   "metadata": {},
   "source": [
    "To use this functionality, you need `3.9<=Python<3.11`.\n",
    "\n",
    "You can install it using:\n",
    "    `pip install openeo[localprocessing]`\n",
    "\n",
    "<div class=\"alert alert-block alert-warning\">\n",
    "This functionality is still under development and the installation procedure might change.\n",
    "Please refer to official documentation page for the most up to date instructions:\n",
    "    \n",
    "<a href=\"url\">https://open-eo.github.io/openeo-python-client/cookbook/localprocessing.html</a>"
   ]
  },
  {
   "cell_type": "markdown",
   "id": "df8ae408-29f8-4262-90a6-b2935abda290",
   "metadata": {
    "tags": []
   },
   "source": [
    "## Sample Datasets"
   ]
  },
  {
   "cell_type": "markdown",
   "id": "d89a7e7e-53a6-4e51-970f-61be7dbf69cc",
   "metadata": {},
   "source": [
    "Clone the repository containing sample datasets provided by openEO Platform:"
   ]
  },
  {
   "cell_type": "code",
   "execution_count": null,
   "id": "7413f5bd-542e-4efa-a3e0-f338c254f725",
   "metadata": {},
   "outputs": [],
   "source": [
    "import os\n",
    "if not os.path.exists('./openeo-localprocessing-data'):\n",
    "    !git clone https://github.com/Open-EO/openeo-localprocessing-data.git"
   ]
  },
  {
   "cell_type": "markdown",
   "id": "9294b308-4e6b-4324-b213-b18dde0e29fb",
   "metadata": {},
   "source": [
    "Initialize the local collections and inspect them:"
   ]
  },
  {
   "cell_type": "code",
   "execution_count": null,
   "id": "c1a6e679-22f6-48db-81a6-43c023d08947",
   "metadata": {},
   "outputs": [],
   "source": [
    "from openeo.local import LocalConnection\n",
    "local_conn = LocalConnection(['./openeo-localprocessing-data'])\n",
    "local_conn.list_collections()"
   ]
  },
  {
   "cell_type": "markdown",
   "id": "c5a25488-504d-4238-98f2-521b2942e856",
   "metadata": {
    "tags": []
   },
   "source": [
    "## Example 1: Create color composites based on Sentinel-2 data"
   ]
  },
  {
   "cell_type": "markdown",
   "id": "ba92c429-ea0d-4c0a-b881-0927ce7157cb",
   "metadata": {},
   "source": [
    "The first step, as usual in an openEO pipeline, is `load_collection`. In this case, the collection id is the same as the file path we want to use:"
   ]
  },
  {
   "cell_type": "code",
   "execution_count": null,
   "id": "dcd2fa52-4ebe-4588-afc8-713d7dc15739",
   "metadata": {},
   "outputs": [],
   "source": [
    "cube = local_conn.load_collection('openeo-localprocessing-data/sample_netcdf/S2_L2A_sample.nc').filter_bands(['B04','B03','B02'])"
   ]
  },
  {
   "cell_type": "markdown",
   "id": "d1889e5c-232b-41dc-9de9-f41af66fa2f2",
   "metadata": {},
   "source": [
    "We would like to create a color composite based on multiple acquisitions over time.\n",
    "\n",
    "For doing so, we will use the `reduce_dimension` process, which can reduce a dimension given a reducer process.\n",
    "\n",
    "In this case the dimension is the temporal (`t`) and the reducer is `mean`, to get a temporal average."
   ]
  },
  {
   "cell_type": "code",
   "execution_count": null,
   "id": "a2742291-708a-4af9-b568-7a4989665abe",
   "metadata": {},
   "outputs": [],
   "source": [
    "cube_avg = cube.reduce_dimension(dimension='t',reducer='mean')"
   ]
  },
  {
   "cell_type": "markdown",
   "id": "46e405a2-0dae-479b-9777-31eb753cb52f",
   "metadata": {},
   "source": [
    "Since we would like to visualize the result as an image, we scale it to values between 0 and 255."
   ]
  },
  {
   "cell_type": "code",
   "execution_count": null,
   "id": "2292e43f-9512-4bfe-b548-a8088c5f10fd",
   "metadata": {},
   "outputs": [],
   "source": [
    "cube_scaled = cube_avg.linear_scale_range(0,2000,0,255)"
   ]
  },
  {
   "cell_type": "markdown",
   "id": "a6278deb-96ed-4543-a5d9-002172aed0b0",
   "metadata": {},
   "source": [
    "We can now visualize the openEO process graph that we just created:"
   ]
  },
  {
   "cell_type": "code",
   "execution_count": null,
   "id": "7690cf2d-0e75-4efc-aefd-df720fa9ae67",
   "metadata": {},
   "outputs": [],
   "source": [
    "cube_scaled"
   ]
  },
  {
   "cell_type": "markdown",
   "id": "b4d0867d-c7be-41bb-b055-78140d86cae4",
   "metadata": {},
   "source": [
    "By calling `.execute()`, the process graph will be locally executed and the result will be returned as an Xarray object:"
   ]
  },
  {
   "cell_type": "code",
   "execution_count": null,
   "id": "6494d6b1-e67d-492f-8432-2492c07d2d30",
   "metadata": {},
   "outputs": [],
   "source": [
    "result = cube_scaled.execute()\n",
    "result"
   ]
  },
  {
   "cell_type": "markdown",
   "id": "b8360362-95e0-4368-940b-ba1028b63eb7",
   "metadata": {},
   "source": [
    "Now that we have the result, we can plot the color composites:"
   ]
  },
  {
   "cell_type": "code",
   "execution_count": null,
   "id": "0622fb0a-828f-490b-abed-b0ee6a2160d5",
   "metadata": {},
   "outputs": [],
   "source": [
    "import matplotlib.pyplot as plt\n",
    "fig, ax = plt.subplots(1,1,figsize=(7.5,5))\n",
    "result.plot.imshow(ax=ax,cmap='brg',vmin=0,vmax=255)\n",
    "ax.set_title('Mean RGB composite - June 2022 - Bolzano, Italy - Sentinel-2')\n",
    "plt.show()"
   ]
  },
  {
   "cell_type": "markdown",
   "id": "bc35d1ac-35d5-4f2d-b406-fe7ced85a99f",
   "metadata": {},
   "source": [
    "We immediately notice that something is wrong. Probably some days where cloudy! Therefore, the average image is cloudy as well.\n",
    "\n",
    "It is possible can solve this issue with two different approaches:\n",
    "1. Trying to use a different reducer. We will try to use `median` instead of `mean`.\n",
    "2. By applying a cloud mask, based on the Sentinel-2 SCL (Scene Classification Layer) band. (Not possible yet locally, some processes missing)"
   ]
  },
  {
   "cell_type": "markdown",
   "id": "590bf7e8-5ccc-4439-b2f4-8c73eba6e015",
   "metadata": {},
   "source": [
    "Let's try the first approach, using `median` instead of `mean`."
   ]
  },
  {
   "cell_type": "code",
   "execution_count": null,
   "id": "bd63a070-1e7e-4164-a2cf-da6541686e6b",
   "metadata": {},
   "outputs": [],
   "source": [
    "cube = local_conn.load_collection('openeo-localprocessing-data/sample_netcdf/S2_L2A_sample.nc').filter_bands(['B04','B03','B02'])\n",
    "cube_med = cube.reduce_dimension(dimension='t',reducer='median')\n",
    "cube_scaled = cube_med.linear_scale_range(0,2000,0,255)\n",
    "result_median = cube_scaled.execute()"
   ]
  },
  {
   "cell_type": "markdown",
   "id": "bb97ce07-ee94-4c9b-9ece-aa20641f4118",
   "metadata": {},
   "source": [
    "We can now compare the results:"
   ]
  },
  {
   "cell_type": "code",
   "execution_count": null,
   "id": "62eff36b-d2a2-4457-9c4e-5c08bb1baf52",
   "metadata": {},
   "outputs": [],
   "source": [
    "import matplotlib.pyplot as plt\n",
    "fig, ax = plt.subplots(1,2,figsize=(15,5))\n",
    "result.plot.imshow(ax=ax[0],cmap='brg',vmin=0,vmax=255)\n",
    "ax[0].set_title('Mean RGB composite - June 2022 - Bolzano, Italy - Sentinel-2')\n",
    "result_median.plot.imshow(ax=ax[1],cmap='brg',vmin=0,vmax=255)\n",
    "ax[1].set_title('Median RGB composite - June 2022 - Bolzano, Italy - Sentinel-2')\n",
    "plt.show()"
   ]
  },
  {
   "cell_type": "markdown",
   "id": "fe2edb24-8492-4d07-a797-89a1f6288ad6",
   "metadata": {},
   "source": [
    "We could now try to more advanced method, based on the SCL layer:"
   ]
  },
  {
   "cell_type": "code",
   "execution_count": null,
   "id": "8d4ca63e-3341-4690-83f4-382e37a049e3",
   "metadata": {},
   "outputs": [],
   "source": [
    "cube = local_conn.load_collection('openeo-localprocessing-data/sample_netcdf/S2_L2A_sample.nc')"
   ]
  },
  {
   "cell_type": "markdown",
   "id": "9e9182ad-95be-4823-8487-00138fb1d790",
   "metadata": {},
   "source": [
    "We now want to mask out the SCL class 9 (CLOUD_HIGH_PROBABILITY):"
   ]
  },
  {
   "cell_type": "code",
   "execution_count": null,
   "id": "c09df575-77dc-4b80-b0d0-cdd9b5fd401f",
   "metadata": {},
   "outputs": [],
   "source": [
    "scl = cube.band('SCL')\n",
    "cloud_mask_high =  scl != 9\n",
    "cloud_mask_medium =  scl != 8\n",
    "cloud_mask = (cloud_mask_high + cloud_mask_medium) == 2"
   ]
  },
  {
   "cell_type": "markdown",
   "id": "9d96bc29-ce75-4121-b5be-529fd0715d57",
   "metadata": {},
   "source": [
    "We can now apply the cloud mask to the input data:"
   ]
  },
  {
   "cell_type": "code",
   "execution_count": null,
   "id": "c0a0f9e5-2e03-4a33-8742-0c50f01dd051",
   "metadata": {},
   "outputs": [],
   "source": [
    "cube_masked = cube.filter_bands(['B04','B03','B02']).merge_cubes(cloud_mask,overlap_resolver='multiply')"
   ]
  },
  {
   "cell_type": "markdown",
   "id": "97e3259b-bf79-45fc-ade5-ec0a0234d845",
   "metadata": {},
   "source": [
    "Check if the cloud mask is applied correctly:"
   ]
  },
  {
   "cell_type": "code",
   "execution_count": null,
   "id": "2cbee926-8871-4ab1-b19e-8f3c6b8ff14b",
   "metadata": {},
   "outputs": [],
   "source": [
    "cube_masked.execute()[:,0].plot.imshow(vmin=0,vmax=2500)"
   ]
  },
  {
   "cell_type": "markdown",
   "id": "ffd02812-e4fc-4e20-bc56-f3d0cd499636",
   "metadata": {},
   "source": [
    "And finally take the mean over time, rescale and execute:"
   ]
  },
  {
   "cell_type": "code",
   "execution_count": null,
   "id": "13b8d369-f716-4a34-b2f9-7b9e4d9001f6",
   "metadata": {},
   "outputs": [],
   "source": [
    "cube_masked = cube_masked.reduce_dimension(dimension='t',reducer='median').linear_scale_range(0,2000,0,255)\n",
    "cube_masked"
   ]
  },
  {
   "cell_type": "code",
   "execution_count": null,
   "id": "cb1bfd40-2bf3-4aaf-8c16-ef22c413e26b",
   "metadata": {},
   "outputs": [],
   "source": [
    "result_masked = cube_masked.execute()"
   ]
  },
  {
   "cell_type": "markdown",
   "id": "684ec65b-fb23-42ca-99f6-05be00ececc5",
   "metadata": {},
   "source": [
    "Finally visualize the result and compare with the median version with no cloud filter:"
   ]
  },
  {
   "cell_type": "code",
   "execution_count": null,
   "id": "d9b180b3-6788-46e9-8376-1bff39a5ebeb",
   "metadata": {},
   "outputs": [],
   "source": [
    "import matplotlib.pyplot as plt\n",
    "fig, ax = plt.subplots(1,2,figsize=(15,5))\n",
    "result_median.plot.imshow(ax=ax[0],cmap='brg',vmin=0,vmax=255)\n",
    "ax[0].set_title('Median RGB composite - June 2022 - Bolzano, Italy - Sentinel-2')\n",
    "result_masked.plot.imshow(ax=ax[1],cmap='brg',vmin=0,vmax=255)\n",
    "ax[1].set_title('Median RGB composite cloud masked - June 2022 - Bolzano, Italy - Sentinel-2')\n",
    "plt.show()"
   ]
  },
  {
   "cell_type": "code",
   "execution_count": null,
   "id": "d5e4f267-19e1-4401-830f-c96ecc0606d1",
   "metadata": {},
   "outputs": [],
   "source": []
  }
 ],
 "metadata": {
  "kernelspec": {
   "display_name": "Python 3 (ipykernel)",
   "language": "python",
   "name": "python3"
  },
  "language_info": {
   "codemirror_mode": {
    "name": "ipython",
    "version": 3
   },
   "file_extension": ".py",
   "mimetype": "text/x-python",
   "name": "python",
   "nbconvert_exporter": "python",
   "pygments_lexer": "ipython3",
   "version": "3.10.11"
  }
 },
 "nbformat": 4,
 "nbformat_minor": 5
}
