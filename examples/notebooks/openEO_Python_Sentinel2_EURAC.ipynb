{
 "cells": [
  {
   "cell_type": "code",
   "execution_count": null,
   "metadata": {},
   "outputs": [],
   "source": [
    "# import of necessary libraries\n",
    "import openeo\n",
    "import logging\n",
    "import json\n",
    "from openeo.rest.imagecollectionclient import ImageCollectionClient"
   ]
  },
  {
   "cell_type": "code",
   "execution_count": null,
   "metadata": {},
   "outputs": [],
   "source": [
    "# define connetion parameters \n",
    "service_endpoint = \"https://openeo.eurac.edu\"\n",
    "user = \"guest\"\n",
    "password = \"guest_123\"\n",
    "\n",
    "# authenticate with service endpoint\n",
    "con = openeo.connect(service_endpoint)\n",
    "con.authenticate_basic(user, password)\n",
    "con.describe_account()"
   ]
  },
  {
   "cell_type": "code",
   "execution_count": null,
   "metadata": {},
   "outputs": [],
   "source": [
    "# get some information about available functionality\n",
    "cap = con.capabilities()\n",
    "print(cap.version())\n",
    "print(cap.list_features())\n",
    "print(cap.currency())\n",
    "print(cap.list_plans())"
   ]
  },
  {
   "cell_type": "code",
   "execution_count": null,
   "metadata": {},
   "outputs": [],
   "source": [
    "# load a specific dataset\n",
    "datacube = ImageCollectionClient.load_collection(session = con, collection_id = \"S2_L2A_T32TPS_20M\", bands = ['AOT', 'B02', 'B03', 'B04', 'B05', 'B06', 'B07', 'B8A', 'B11', 'B12', 'SCL', 'VIS', 'WVP', 'CLD', 'SNW'])\n",
    "# perform spatial subsetting (e.g around the city of Bolzano)\n",
    "datacube = datacube.filter_bbox( west=11.279182434082033, south=46.464349400461145, east=11.406898498535158, north=46.522729291844286, crs=\"EPSG:32632\")\n",
    "# perform temporal subsetting (e.g. for the month of august in 2017)\n",
    "temp = datacube.filter_temporal(extent=[\"2017-08-01T00:00:00Z\", \"2017-08-31T00:00:00Z\"])\n",
    "# map features of the dataset to variables (e.g. the red and near infrared band)\n",
    "red = temp.band('B04')\n",
    "nir = temp.band(\"B8A\")\n",
    "# perform operation using feature variables (e.g. calculation of NDVI (normalized difference vegetation index))\n",
    "datacube = (nir - red) / (nir + red)\n",
    "# reduce on temporal dimension with max operator\n",
    "datacube = datacube.max_time()\n",
    "# provide result as geotiff image\n",
    "datacube = datacube.save_result(format=\"gtiff\")"
   ]
  },
  {
   "cell_type": "code",
   "execution_count": null,
   "metadata": {},
   "outputs": [],
   "source": [
    "# have a look at your process graph (not necessary and only for demonstration purposes)\n",
    "print(json.dumps(datacube.graph,indent=2))"
   ]
  },
  {
   "cell_type": "code",
   "execution_count": null,
   "metadata": {},
   "outputs": [],
   "source": [
    "# submit your process graph as new batch job to back-end\n",
    "job = con.create_job(datacube.graph)"
   ]
  },
  {
   "cell_type": "code",
   "execution_count": null,
   "metadata": {},
   "outputs": [],
   "source": [
    "# launch processing of submitted batch job\n",
    "if job.job_id:\n",
    "    print(job.job_id)\n",
    "    print(job.start_job())\n",
    "    print (job.describe_job())\n",
    "else:\n",
    "    print(\"Job ID is None\")"
   ]
  },
  {
   "cell_type": "code",
   "execution_count": null,
   "metadata": {},
   "outputs": [],
   "source": [
    "# obtain results and save to disk\n",
    "if job.job_id:\n",
    "    job.download_results(\"Sentinel2STfile.tiff\")"
   ]
  },
  {
   "cell_type": "code",
   "execution_count": null,
   "metadata": {},
   "outputs": [],
   "source": [
    "# Visualize your result\n",
    "import numpy as np\n",
    "from matplotlib import pyplot as plt\n",
    "import matplotlib.patches as mpatches\n",
    "from matplotlib.colors import NoNorm\n",
    "from matplotlib_scalebar.scalebar import ScaleBar\n",
    "import numpy as np\n",
    "import gdal\n",
    "\n",
    "image_ds = gdal.Open(\"Sentinel2STfile.tiff\")\n",
    "ndvi_band = image_ds.GetRasterBand(1)\n",
    "ndvi_image = ndvi_band.ReadAsArray()\n",
    "\n",
    "dpi = 80\n",
    "height, width = ndvi_image.shape\n",
    "\n",
    "# What size does the figure need to be in inches to fit the image?\n",
    "figsize = width / float(dpi), height / float(dpi)\n",
    "\n",
    "fig = plt.figure(figsize=figsize)\n",
    "ax = fig.add_axes([0, 0, 1, 1])\n",
    "\n",
    "# Hide spines, ticks, etc.\n",
    "ax.axis('on')\n",
    "\n",
    "# Get geo extent using gdal\n",
    "ext = image_ds.GetGeoTransform()\n",
    "ncol = image_ds.RasterXSize\n",
    "nrow = image_ds.RasterYSize\n",
    "x_min = ext[0]\n",
    "x_max = ext[0] + ext[1] * ncol\n",
    "y_min = ext[3] + ext[5] * nrow\n",
    "y_max = ext[3]\n",
    "\n",
    "#plot map info elements\n",
    "plt.xticks(np.arange(x_min, x_max, 1000))\n",
    "plt.yticks(np.arange(y_min, y_max, 1000))\n",
    "scalebar = ScaleBar(1, location='lower left', box_alpha=0.5)\n",
    "plt.gca().add_artist(scalebar)\n",
    "plt.arrow(x_min+1000,y_max-2000,0,900,fc=\"k\", ec=\"k\", linewidth = 4, head_width=200, head_length=500)\n",
    "plt.text(x_min+950, y_max-500, 'N')\n",
    "plt.title(\"NDVI form Sentinel-2\")\n",
    "\n",
    "# Display the image.\n",
    "ax.imshow(ndvi_image, cmap='RdYlGn',vmin=-1,vmax=1, extent=[x_min, x_max, y_min, y_max])\n",
    "plt.show()",
    "\n"
   ]
  }
 ],
 "metadata": {
  "kernelspec": {
   "display_name": "Python 3",
   "language": "python",
   "name": "python3"
  },
  "language_info": {
   "codemirror_mode": {
    "name": "ipython",
    "version": 3
   },
   "file_extension": ".py",
   "mimetype": "text/x-python",
   "name": "python",
   "nbconvert_exporter": "python",
   "pygments_lexer": "ipython3",
   "version": "3.7.3"
  }
 },
 "nbformat": 4,
 "nbformat_minor": 4
}
