{
 "cells": [
  {
   "cell_type": "markdown",
   "metadata": {},
   "source": [
    "# OpenEO Connection to EODC Backend"
   ]
  },
  {
   "cell_type": "code",
   "execution_count": 1,
   "metadata": {},
   "outputs": [],
   "source": [
    "import logging\n",
    "import openeo\n",
    "from openeo.auth.auth_bearer import BearerAuth\n",
    "logging.basicConfig(level=logging.INFO)"
   ]
  },
  {
   "cell_type": "code",
   "execution_count": 2,
   "metadata": {},
   "outputs": [],
   "source": [
    "# Define constants\n",
    "\n",
    "# Connection\n",
    "EODC_DRIVER_URL = \"http://openeo.eodc.eu/api/v0.3\"\n",
    "OUTPUT_FILE = \"/tmp/openeo_eodc_output.tiff\"\n",
    "\n",
    "EODC_USER = \"user1\"\n",
    "EODC_PWD = \"Test123#\"\n",
    "\n",
    "# Data\n",
    "PRODUCT_ID = \"s2a_prd_msil1c\"\n",
    "\n",
    "DATE_START = \"2017-01-01\"\n",
    "DATE_END = \"2017-01-08\"\n",
    "\n",
    "IMAGE_LEFT = 652000\n",
    "IMAGE_RIGHT = 672000\n",
    "IMAGE_TOP = 5161000\n",
    "IMAGE_BOTTOM = 5181000\n",
    "IMAGE_SRS = \"EPSG:32632\"\n",
    "\n",
    "# Processes\n",
    "NDVI_RED = \"B04\"\n",
    "NDVI_NIR = \"B08\""
   ]
  },
  {
   "cell_type": "code",
   "execution_count": 4,
   "metadata": {},
   "outputs": [
    {
     "data": {
      "text/plain": [
       "<openeo.rest.rest_connection.RESTConnection at 0x7f4c1aa3c0b8>"
      ]
     },
     "execution_count": 4,
     "metadata": {},
     "output_type": "execute_result"
    }
   ],
   "source": [
    "# Connect with EODC backend\n",
    "connection = openeo.connect(EODC_DRIVER_URL,auth_type=BearerAuth, auth_options={\"username\": EODC_USER, \"password\": EODC_PWD})\n",
    "# Login \n",
    "#token = session.auth(EODC_USER, EODC_PWD, BearerAuth)\n",
    "\n",
    "connection"
   ]
  },
  {
   "cell_type": "code",
   "execution_count": 6,
   "metadata": {},
   "outputs": [
    {
     "ename": "ConnectionAbortedError",
     "evalue": "<html>\n  <head>\n    <meta name=\"viewport\" content=\"width=device-width, initial-scale=1\">\n\n  <style type=\"text/css\">\n  /*!\n   * Bootstrap v3.3.5 (http://getbootstrap.com)\n   * Copyright 2011-2015 Twitter, Inc.\n   * Licensed under MIT (https://github.com/twbs/bootstrap/blob/master/LICENSE)\n   */\n  /*! normalize.css v3.0.3 | MIT License | github.com/necolas/normalize.css */\n  html {\n    font-family: sans-serif;\n    -ms-text-size-adjust: 100%;\n    -webkit-text-size-adjust: 100%;\n  }\n  body {\n    margin: 0;\n  }\n  h1 {\n    font-size: 1.7em;\n    font-weight: 400;\n    line-height: 1.3;\n    margin: 0.68em 0;\n  }\n  * {\n    -webkit-box-sizing: border-box;\n    -moz-box-sizing: border-box;\n    box-sizing: border-box;\n  }\n  *:before,\n  *:after {\n    -webkit-box-sizing: border-box;\n    -moz-box-sizing: border-box;\n    box-sizing: border-box;\n  }\n  html {\n    -webkit-tap-highlight-color: rgba(0, 0, 0, 0);\n  }\n  body {\n    font-family: \"Helvetica Neue\", Helvetica, Arial, sans-serif;\n    line-height: 1.66666667;\n    font-size: 13px;\n    color: #333333;\n    background-color: #ffffff;\n    margin: 2em 1em;\n  }\n  p {\n    margin: 0 0 10px;\n    font-size: 13px;\n  }\n  .alert.alert-info {\n    padding: 15px;\n    margin-bottom: 20px;\n    border: 1px solid transparent;\n    background-color: #f5f5f5;\n    border-color: #8b8d8f;\n    color: #363636;\n    margin-top: 30px;\n  }\n  .alert p {\n    padding-left: 35px;\n  }\n  a {\n    color: #0088ce;\n  }\n\n  ul {\n    position: relative;\n    padding-left: 51px;\n  }\n  p.info {\n    position: relative;\n    font-size: 15px;\n    margin-bottom: 10px;\n  }\n  p.info:before, p.info:after {\n    content: \"\";\n    position: absolute;\n    top: 9%;\n    left: 0;\n  }\n  p.info:before {\n    content: \"i\";\n    left: 3px;\n    width: 20px;\n    height: 20px;\n    font-family: serif;\n    font-size: 15px;\n    font-weight: bold;\n    line-height: 21px;\n    text-align: center;\n    color: #fff;\n    background: #4d5258;\n    border-radius: 16px;\n  }\n\n  @media (min-width: 768px) {\n    body {\n      margin: 4em 3em;\n    }\n    h1 {\n      font-size: 2.15em;}\n  }\n\n  </style>\n  </head>\n  <body>\n    <div>\n      <h1>Application is not available</h1>\n      <p>The application is currently not serving requests at this endpoint. It may not have been started or is still starting.</p>\n\n      <div class=\"alert alert-info\">\n        <p class=\"info\">\n          Possible reasons you are seeing this page:\n        </p>\n        <ul>\n          <li>\n            <strong>The host doesn't exist.</strong>\n            Make sure the hostname was typed correctly and that a route matching this hostname exists.\n          </li>\n          <li>\n            <strong>The host exists, but doesn't have a matching path.</strong>\n            Check if the URL path was typed correctly and that the route was created using the desired path.\n          </li>\n          <li>\n            <strong>Route and path matches, but all pods are down.</strong>\n            Make sure that the resources exposed by this route (pods, services, deployment configs, etc) have at least one pod running.\n          </li>\n        </ul>\n      </div>\n    </div>\n  </body>\n</html>\n",
     "output_type": "error",
     "traceback": [
      "\u001b[0;31m---------------------------------------------------------------------------\u001b[0m",
      "\u001b[0;31mConnectionAbortedError\u001b[0m                    Traceback (most recent call last)",
      "\u001b[0;32m<ipython-input-6-663d5ee54a41>\u001b[0m in \u001b[0;36m<module>\u001b[0;34m\u001b[0m\n\u001b[1;32m      1\u001b[0m \u001b[0;31m# Get available processes from the back end.\u001b[0m\u001b[0;34m\u001b[0m\u001b[0;34m\u001b[0m\u001b[0m\n\u001b[0;32m----> 2\u001b[0;31m \u001b[0mprocesses\u001b[0m \u001b[0;34m=\u001b[0m \u001b[0mconnection\u001b[0m\u001b[0;34m.\u001b[0m\u001b[0mlist_processes\u001b[0m\u001b[0;34m(\u001b[0m\u001b[0;34m)\u001b[0m\u001b[0;34m\u001b[0m\u001b[0m\n\u001b[0m\u001b[1;32m      3\u001b[0m \u001b[0mprocesses\u001b[0m\u001b[0;34m\u001b[0m\u001b[0m\n",
      "\u001b[0;32m/data/REPO/openeo-python-client/openeo/rest/rest_connection.py\u001b[0m in \u001b[0;36mlist_processes\u001b[0;34m(self)\u001b[0m\n\u001b[1;32m    186\u001b[0m         \u001b[0mprocesses\u001b[0m \u001b[0;34m=\u001b[0m \u001b[0mself\u001b[0m\u001b[0;34m.\u001b[0m\u001b[0mget\u001b[0m\u001b[0;34m(\u001b[0m\u001b[0;34m'/processes'\u001b[0m\u001b[0;34m,\u001b[0m \u001b[0mauth\u001b[0m\u001b[0;34m=\u001b[0m\u001b[0;32mFalse\u001b[0m\u001b[0;34m)\u001b[0m\u001b[0;34m\u001b[0m\u001b[0m\n\u001b[1;32m    187\u001b[0m \u001b[0;34m\u001b[0m\u001b[0m\n\u001b[0;32m--> 188\u001b[0;31m         \u001b[0mresponse\u001b[0m \u001b[0;34m=\u001b[0m \u001b[0mself\u001b[0m\u001b[0;34m.\u001b[0m\u001b[0mparse_json_response\u001b[0m\u001b[0;34m(\u001b[0m\u001b[0mprocesses\u001b[0m\u001b[0;34m)\u001b[0m\u001b[0;34m\u001b[0m\u001b[0m\n\u001b[0m\u001b[1;32m    189\u001b[0m \u001b[0;34m\u001b[0m\u001b[0m\n\u001b[1;32m    190\u001b[0m         \u001b[0;32mif\u001b[0m \u001b[0;34m\"processes\"\u001b[0m \u001b[0;32min\u001b[0m \u001b[0mresponse\u001b[0m\u001b[0;34m:\u001b[0m\u001b[0;34m\u001b[0m\u001b[0m\n",
      "\u001b[0;32m/data/REPO/openeo-python-client/openeo/rest/rest_connection.py\u001b[0m in \u001b[0;36mparse_json_response\u001b[0;34m(self, response)\u001b[0m\n\u001b[1;32m    438\u001b[0m             \u001b[0;32mreturn\u001b[0m \u001b[0mresponse\u001b[0m\u001b[0;34m.\u001b[0m\u001b[0mjson\u001b[0m\u001b[0;34m(\u001b[0m\u001b[0;34m)\u001b[0m\u001b[0;34m\u001b[0m\u001b[0m\n\u001b[1;32m    439\u001b[0m         \u001b[0;32melse\u001b[0m\u001b[0;34m:\u001b[0m\u001b[0;34m\u001b[0m\u001b[0m\n\u001b[0;32m--> 440\u001b[0;31m             \u001b[0mself\u001b[0m\u001b[0;34m.\u001b[0m\u001b[0m_handle_error_response\u001b[0m\u001b[0;34m(\u001b[0m\u001b[0mresponse\u001b[0m\u001b[0;34m)\u001b[0m\u001b[0;34m\u001b[0m\u001b[0m\n\u001b[0m\u001b[1;32m    441\u001b[0m \u001b[0;34m\u001b[0m\u001b[0m\n\u001b[1;32m    442\u001b[0m     \u001b[0;32mdef\u001b[0m \u001b[0m_handle_error_response\u001b[0m\u001b[0;34m(\u001b[0m\u001b[0mself\u001b[0m\u001b[0;34m,\u001b[0m \u001b[0mresponse\u001b[0m\u001b[0;34m)\u001b[0m\u001b[0;34m:\u001b[0m\u001b[0;34m\u001b[0m\u001b[0m\n",
      "\u001b[0;32m/data/REPO/openeo-python-client/openeo/rest/rest_connection.py\u001b[0m in \u001b[0;36m_handle_error_response\u001b[0;34m(self, response)\u001b[0m\n\u001b[1;32m    451\u001b[0m                 \u001b[0mmessage\u001b[0m \u001b[0;34m=\u001b[0m \u001b[0mresponse\u001b[0m\u001b[0;34m.\u001b[0m\u001b[0mtext\u001b[0m\u001b[0;34m\u001b[0m\u001b[0m\n\u001b[1;32m    452\u001b[0m \u001b[0;34m\u001b[0m\u001b[0m\n\u001b[0;32m--> 453\u001b[0;31m             \u001b[0;32mraise\u001b[0m \u001b[0mConnectionAbortedError\u001b[0m\u001b[0;34m(\u001b[0m\u001b[0mmessage\u001b[0m\u001b[0;34m)\u001b[0m\u001b[0;34m\u001b[0m\u001b[0m\n\u001b[0m\u001b[1;32m    454\u001b[0m \u001b[0;34m\u001b[0m\u001b[0m\n\u001b[1;32m    455\u001b[0m     \u001b[0;32mdef\u001b[0m \u001b[0mpost\u001b[0m\u001b[0;34m(\u001b[0m\u001b[0mself\u001b[0m\u001b[0;34m,\u001b[0m \u001b[0mpath\u001b[0m\u001b[0;34m,\u001b[0m \u001b[0mpostdata\u001b[0m\u001b[0;34m)\u001b[0m\u001b[0;34m:\u001b[0m\u001b[0;34m\u001b[0m\u001b[0m\n",
      "\u001b[0;31mConnectionAbortedError\u001b[0m: <html>\n  <head>\n    <meta name=\"viewport\" content=\"width=device-width, initial-scale=1\">\n\n  <style type=\"text/css\">\n  /*!\n   * Bootstrap v3.3.5 (http://getbootstrap.com)\n   * Copyright 2011-2015 Twitter, Inc.\n   * Licensed under MIT (https://github.com/twbs/bootstrap/blob/master/LICENSE)\n   */\n  /*! normalize.css v3.0.3 | MIT License | github.com/necolas/normalize.css */\n  html {\n    font-family: sans-serif;\n    -ms-text-size-adjust: 100%;\n    -webkit-text-size-adjust: 100%;\n  }\n  body {\n    margin: 0;\n  }\n  h1 {\n    font-size: 1.7em;\n    font-weight: 400;\n    line-height: 1.3;\n    margin: 0.68em 0;\n  }\n  * {\n    -webkit-box-sizing: border-box;\n    -moz-box-sizing: border-box;\n    box-sizing: border-box;\n  }\n  *:before,\n  *:after {\n    -webkit-box-sizing: border-box;\n    -moz-box-sizing: border-box;\n    box-sizing: border-box;\n  }\n  html {\n    -webkit-tap-highlight-color: rgba(0, 0, 0, 0);\n  }\n  body {\n    font-family: \"Helvetica Neue\", Helvetica, Arial, sans-serif;\n    line-height: 1.66666667;\n    font-size: 13px;\n    color: #333333;\n    background-color: #ffffff;\n    margin: 2em 1em;\n  }\n  p {\n    margin: 0 0 10px;\n    font-size: 13px;\n  }\n  .alert.alert-info {\n    padding: 15px;\n    margin-bottom: 20px;\n    border: 1px solid transparent;\n    background-color: #f5f5f5;\n    border-color: #8b8d8f;\n    color: #363636;\n    margin-top: 30px;\n  }\n  .alert p {\n    padding-left: 35px;\n  }\n  a {\n    color: #0088ce;\n  }\n\n  ul {\n    position: relative;\n    padding-left: 51px;\n  }\n  p.info {\n    position: relative;\n    font-size: 15px;\n    margin-bottom: 10px;\n  }\n  p.info:before, p.info:after {\n    content: \"\";\n    position: absolute;\n    top: 9%;\n    left: 0;\n  }\n  p.info:before {\n    content: \"i\";\n    left: 3px;\n    width: 20px;\n    height: 20px;\n    font-family: serif;\n    font-size: 15px;\n    font-weight: bold;\n    line-height: 21px;\n    text-align: center;\n    color: #fff;\n    background: #4d5258;\n    border-radius: 16px;\n  }\n\n  @media (min-width: 768px) {\n    body {\n      margin: 4em 3em;\n    }\n    h1 {\n      font-size: 2.15em;}\n  }\n\n  </style>\n  </head>\n  <body>\n    <div>\n      <h1>Application is not available</h1>\n      <p>The application is currently not serving requests at this endpoint. It may not have been started or is still starting.</p>\n\n      <div class=\"alert alert-info\">\n        <p class=\"info\">\n          Possible reasons you are seeing this page:\n        </p>\n        <ul>\n          <li>\n            <strong>The host doesn't exist.</strong>\n            Make sure the hostname was typed correctly and that a route matching this hostname exists.\n          </li>\n          <li>\n            <strong>The host exists, but doesn't have a matching path.</strong>\n            Check if the URL path was typed correctly and that the route was created using the desired path.\n          </li>\n          <li>\n            <strong>Route and path matches, but all pods are down.</strong>\n            Make sure that the resources exposed by this route (pods, services, deployment configs, etc) have at least one pod running.\n          </li>\n        </ul>\n      </div>\n    </div>\n  </body>\n</html>\n"
     ]
    }
   ],
   "source": [
    "# Get available processes from the back end.\n",
    "processes = connection.list_processes()\n",
    "processes"
   ]
  },
  {
   "cell_type": "code",
   "execution_count": 5,
   "metadata": {},
   "outputs": [
    {
     "data": {
      "text/plain": [
       "{'dc:creator': 'ESA',\n",
       " 'dc:date': '2017-12-05',\n",
       " 'dc:identifier': 's2a_prd_msil1c',\n",
       " 'dc:language': 'eng',\n",
       " 'dc:relation': None,\n",
       " 'dc:rights': 'otherRestrictions',\n",
       " 'dc:subject': ['Sentinel-2',\n",
       "  'Orthoimagery',\n",
       "  'Land cover',\n",
       "  'Geographical names',\n",
       "  'ISO19115',\n",
       "  'dataset',\n",
       "  'imageryBaseMapsEarthCover',\n",
       "  'no conditions apply',\n",
       "  'Remote Sensing',\n",
       "  'http://www.opengis.net/def/crs/EPSG/0/4936',\n",
       "  'otherRestrictions',\n",
       "  'EODC Earth Observation Data Centre GmbH',\n",
       "  'no limitation',\n",
       "  'Satellite',\n",
       "  'S2MSIL1C',\n",
       "  'Level-1C',\n",
       "  'Copernicus',\n",
       "  'Sentinel-2 MSI Level-1C',\n",
       "  {'#text': 'imageryBaseMapsEarthCover',\n",
       "   '@scheme': 'http://www.isotc211.org/2005/resources/Codelist/gmxCodelists.xml#MD_TopicCategoryCode'}],\n",
       " 'dc:title': 'Sentinel-2A MSI Level-1C',\n",
       " 'dc:type': 'series',\n",
       " 'dct:abstract': 'Sentinel-2 is a multispectral, high-resolution, optical imaging mission, developed by the European Space Agency (ESA) in the frame of the Copernicus program of the European Commission.',\n",
       " 'dct:alternative': 's2a_prd_msil1c',\n",
       " 'dct:modified': '2017-12-05',\n",
       " 'dct:spatial': {'#text': 'urn:ogc:def:crs:EPSG:6.11:http://www.opengis.net/def/crs/EPSG/0/4326',\n",
       "  '@scheme': 'http://www.opengis.net/def/crs'},\n",
       " 'ows:BoundingBox': {'@crs': 'urn:x-ogc:def:crs:EPSG:6.11:4326',\n",
       "  '@dimensions': '2',\n",
       "  'ows:LowerCorner': '-90.0 -180.0',\n",
       "  'ows:UpperCorner': '90.0 180.0'}}"
      ]
     },
     "execution_count": 5,
     "metadata": {},
     "output_type": "execute_result"
    }
   ],
   "source": [
    "# Retrieve the list of available collections\n",
    "collections = connection.list_collections()\n",
    "\n",
    "list(collections)[:2]"
   ]
  },
  {
   "cell_type": "code",
   "execution_count": null,
   "metadata": {},
   "outputs": [],
   "source": [
    "# Get detailed information about a collection\n",
    "process = connection.describe_collection(PRODUCT_ID)\n",
    "process"
   ]
  },
  {
   "cell_type": "code",
   "execution_count": 6,
   "metadata": {},
   "outputs": [
    {
     "data": {
      "text/plain": [
       "<openeo.rest.imagery.RestImagery at 0x7fc552f9ea20>"
      ]
     },
     "execution_count": 6,
     "metadata": {},
     "output_type": "execute_result"
    }
   ],
   "source": [
    "# Select collection product\n",
    "datacube = connection.imagecollection(PRODUCT_ID)\n",
    "\n",
    "datacube.graph"
   ]
  },
  {
   "cell_type": "code",
   "execution_count": 8,
   "metadata": {},
   "outputs": [
    {
     "data": {
      "text/plain": [
       "<openeo.rest.imagery.RestImagery at 0x7fc565dfeb38>"
      ]
     },
     "execution_count": 8,
     "metadata": {},
     "output_type": "execute_result"
    }
   ],
   "source": [
    "# Specifying the date range and the bounding box\n",
    "datacube = datacube.filter_bbox(west=IMAGE_WEST, east=IMAGE_EAST, north=IMAGE_NORTH,\n",
    "                                             south=IMAGE_SOUTH, crs=IMAGE_SRS)\n",
    "datacube = datacube.filter_daterange(extent=[DATE_START, DATE_END])\n",
    "\n",
    "datacube.graph"
   ]
  },
  {
   "cell_type": "code",
   "execution_count": 9,
   "metadata": {},
   "outputs": [
    {
     "data": {
      "text/plain": [
       "<openeo.rest.imagery.RestImagery at 0x7fc565dfe898>"
      ]
     },
     "execution_count": 9,
     "metadata": {},
     "output_type": "execute_result"
    }
   ],
   "source": [
    "# Applying some operations on the data\n",
    "datacube = datacube.ndvi(red=NDVI_RED, nir=NDVI_NIR)\n",
    "datacube = datacube.min_time()\n",
    "\n",
    "datacube.graph"
   ]
  },
  {
   "cell_type": "code",
   "execution_count": 10,
   "metadata": {},
   "outputs": [
    {
     "data": {
      "text/plain": [
       "<openeo.rest.job.ClientJob at 0x7fc565dfecf8>"
      ]
     },
     "execution_count": 10,
     "metadata": {},
     "output_type": "execute_result"
    }
   ],
   "source": [
    "# Sending the job to the backend\n",
    "job = connection.create_job(datacube.graph)\n",
    "job.start_job()\n",
    "job"
   ]
  },
  {
   "cell_type": "code",
   "execution_count": 11,
   "metadata": {},
   "outputs": [],
   "source": [
    "# Describe Job\n",
    "job.describe_job()"
   ]
  },
  {
   "cell_type": "code",
   "execution_count": 12,
   "metadata": {},
   "outputs": [
    {
     "name": "stdout",
     "output_type": "stream",
     "text": [
      "Files are not (yet) available for job with id 107.\n"
     ]
    },
    {
     "data": {
      "text/plain": [
       "<openeo.rest.job.ClientJob at 0x7fc565dfe860>"
      ]
     },
     "execution_count": 12,
     "metadata": {},
     "output_type": "execute_result"
    }
   ],
   "source": [
    "# Download job result\n",
    "#from openeo.rest.job import ClientJob\n",
    "#job = ClientJob(107, session)\n",
    "job.download(OUTPUT_FILE)\n",
    "\n",
    "job"
   ]
  },
  {
   "cell_type": "code",
   "execution_count": 2,
   "metadata": {},
   "outputs": [
    {
     "name": "stdout",
     "output_type": "stream",
     "text": [
      "Driver: GTiff/GeoTIFF\r\n",
      "Files: /tmp/openeo_eodc_output.tiff\r\n",
      "       /tmp/openeo_eodc_output.tiff.aux.xml\r\n",
      "Size is 953, 622\r\n",
      "Coordinate System is:\r\n",
      "GEOGCS[\"WGS 84\",\r\n",
      "    DATUM[\"WGS_1984\",\r\n",
      "        SPHEROID[\"WGS 84\",6378137,298.257223563,\r\n",
      "            AUTHORITY[\"EPSG\",\"7030\"]],\r\n",
      "        AUTHORITY[\"EPSG\",\"6326\"]],\r\n",
      "    PRIMEM[\"Greenwich\",0],\r\n",
      "    UNIT[\"degree\",0.0174532925199433],\r\n",
      "    AUTHORITY[\"EPSG\",\"4326\"]]\r\n",
      "Origin = (10.984051868786896,46.760379340476071)\r\n",
      "Pixel Size = (0.000281691226781,-0.000281691226781)\r\n",
      "Metadata:\r\n",
      "  AREA_OR_POINT=Area\r\n",
      "Image Structure Metadata:\r\n",
      "  INTERLEAVE=BAND\r\n",
      "Corner Coordinates:\r\n",
      "Upper Left  (  10.9840519,  46.7603793) ( 10d59' 2.59\"E, 46d45'37.37\"N)\r\n",
      "Lower Left  (  10.9840519,  46.5851674) ( 10d59' 2.59\"E, 46d35' 6.60\"N)\r\n",
      "Upper Right (  11.2525036,  46.7603793) ( 11d15' 9.01\"E, 46d45'37.37\"N)\r\n",
      "Lower Right (  11.2525036,  46.5851674) ( 11d15' 9.01\"E, 46d35' 6.60\"N)\r\n",
      "Center      (  11.1182777,  46.6727734) ( 11d 7' 5.80\"E, 46d40'21.98\"N)\r\n",
      "Band 1 Block=953x2 Type=Float32, ColorInterp=Gray\r\n",
      "  1000 buckets from inf to -8.98847e+304:\r\n",
      "  0 0 0 0 0 0 0 0 0 0 0 0 0 0 0 0 0 0 0 0 0 0 0 0 0 0 0 0 0 0 0 0 0 0 0 0 0 0 0 0 0 0 0 0 0 0 0 0 0 0 0 0 0 0 0 0 0 0 0 0 0 0 0 0 0 0 0 0 0 0 0 0 0 0 0 0 0 0 0 0 0 0 0 0 0 0 0 0 0 0 0 0 0 0 0 0 0 0 0 0 0 0 0 0 0 0 0 0 0 0 0 0 0 0 0 0 0 0 0 0 0 0 0 0 0 0 0 0 0 0 0 0 0 0 0 0 0 0 0 0 0 0 0 0 0 0 0 0 0 0 0 0 0 0 0 0 0 0 0 0 0 0 0 0 0 0 0 0 0 0 0 0 0 0 0 0 0 0 0 0 0 0 0 0 0 0 0 0 0 0 0 0 0 0 0 0 0 0 0 0 0 0 0 0 0 0 0 0 0 0 0 0 0 0 0 0 0 0 0 0 0 0 0 0 0 0 0 0 0 0 0 0 0 0 0 0 0 0 0 0 0 0 0 0 0 0 0 0 0 0 0 0 0 0 0 0 0 0 0 0 0 0 0 0 0 0 0 0 0 0 0 0 0 0 0 0 0 0 0 0 0 0 0 0 0 0 0 0 0 0 0 0 0 0 0 0 0 0 0 0 0 0 0 0 0 0 0 0 0 0 0 0 0 0 0 0 0 0 0 0 0 0 0 0 0 0 0 0 0 0 0 0 0 0 0 0 0 0 0 0 0 0 0 0 0 0 0 0 0 0 0 0 0 0 0 0 0 0 0 0 0 0 0 0 0 0 0 0 0 0 0 0 0 0 0 0 0 0 0 0 0 0 0 0 0 0 0 0 0 0 0 0 0 0 0 0 0 0 0 0 0 0 0 0 0 0 0 0 0 0 0 0 0 0 0 0 0 0 0 0 0 0 0 0 0 0 0 0 0 0 0 0 0 0 0 0 0 0 0 0 0 0 0 0 0 0 0 0 0 0 0 0 0 0 0 0 0 0 0 0 0 0 0 0 0 0 0 0 0 0 0 0 0 0 0 0 0 0 0 0 0 0 0 0 0 0 0 0 0 0 0 0 0 0 0 0 0 0 0 0 0 0 0 0 0 0 0 0 0 0 0 0 0 0 0 0 0 0 0 0 0 0 0 0 0 0 0 0 0 0 0 0 0 0 0 0 0 0 0 0 0 0 0 0 0 0 0 0 0 0 0 0 0 0 0 0 0 0 0 0 0 0 0 0 0 0 0 0 0 0 0 0 0 0 0 0 0 0 0 0 0 0 0 0 0 0 0 0 0 0 0 0 0 0 0 0 0 0 0 0 0 0 0 0 0 0 0 0 0 0 0 0 0 0 0 0 0 0 0 0 0 0 0 0 0 0 0 0 0 0 0 0 0 0 0 0 0 0 0 0 0 0 0 0 0 0 0 0 0 0 0 0 0 0 0 0 0 0 0 0 0 0 0 0 0 0 0 0 0 0 0 0 0 0 0 0 0 0 0 0 0 0 0 0 0 0 0 0 0 0 0 0 0 0 0 0 0 0 0 0 0 0 0 0 0 0 0 0 0 0 0 0 0 0 0 0 0 0 0 0 0 0 0 0 0 0 0 0 0 0 0 0 0 0 0 0 0 0 0 0 0 0 0 0 0 0 0 0 0 0 0 0 0 0 0 0 0 0 0 0 0 0 0 0 0 0 0 0 0 0 0 0 0 0 0 0 0 0 0 0 0 0 0 0 0 0 0 0 0 0 0 0 0 0 0 0 0 0 0 0 0 0 0 0 0 0 0 0 0 0 0 0 0 0 0 0 0 0 0 0 0 0 0 0 0 0 0 0 0 0 0 0 0 0 0 0 0 0 0 0 0 0 0 0 0 0 0 0 0 0 0 0 0 0 0 0 0 0 0 0 0 0 0 0 0 0 0 0 0 0 0 0 0 0 0 0 0 0 0 0 0 0 0 0 0 0 0 0 0 0 0 0 0 0 0 0 0 0 0 0 0 0 0 0 0 0 0 0 0 0 0 0 0 0 0 0 0 0 0 0 0 0 0 0 0 0 0 0 0 0 0 0 0 0 0 0 0 0 0 0 0 0 0 0 0 0 0 0 0 0 0 0 0 0 0 0 0 0 0 0 0 0 0 0 0 0 0 0 0 0 0 0 0 0 0 0 0 0 0 0 0 0 0 0 0 0 0 0 0 0 0 0 0 0 0 0 0 0 0 0 \r\n",
      "  NoData Value=2\r\n"
     ]
    }
   ],
   "source": [
    "# Showing the result\n",
    "!gdalinfo -hist \"/tmp/openeo_eodc_output.tiff\""
   ]
  },
  {
   "cell_type": "code",
   "execution_count": null,
   "metadata": {},
   "outputs": [],
   "source": []
  }
 ],
 "metadata": {
  "kernelspec": {
   "display_name": "Python 3",
   "language": "python",
   "name": "python3"
  },
  "language_info": {
   "codemirror_mode": {
    "name": "ipython",
    "version": 3
   },
   "file_extension": ".py",
   "mimetype": "text/x-python",
   "name": "python",
   "nbconvert_exporter": "python",
   "pygments_lexer": "ipython3",
   "version": "3.5.6"
  }
 },
 "nbformat": 4,
 "nbformat_minor": 2
}
