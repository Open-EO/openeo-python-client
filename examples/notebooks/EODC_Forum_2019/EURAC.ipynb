{
 "cells": [
  {
   "cell_type": "markdown",
   "metadata": {},
   "source": [
    "# OpenEO Connection to EURAC Backend"
   ]
  },
  {
   "cell_type": "code",
   "execution_count": 1,
   "metadata": {},
   "outputs": [],
   "source": [
    "import openeo\n",
    "import logging\n",
    "logging.basicConfig(level=logging.INFO)"
   ]
  },
  {
   "cell_type": "code",
   "execution_count": 2,
   "metadata": {},
   "outputs": [],
   "source": [
    "# Define constants\n",
    "\n",
    "# Connection\n",
    "EURAC_DRIVER_URL = \"http://saocompute.eurac.edu/openEO_0_3_0/openeo\"\n",
    "OUTPUT_FILE = \"/tmp/openeo-wcps.nc\"\n",
    "OUTFORMAT = \"netcdf\"\n",
    "\n",
    "user = \"group1\"\n",
    "password = \"test123\"\n",
    "\n",
    "# Data\n",
    "PRODUCT_ID = \"S2_L2A_T32TPS_20M\"\n",
    "\n",
    "DATE_START = \"2016-01-01\"\n",
    "DATE_END = \"2016-03-10\"\n",
    "\n",
    "IMAGE_WEST = 652000\n",
    "IMAGE_EAST = 672000\n",
    "IMAGE_NORTH = 5161000\n",
    "IMAGE_SOUTH = 5181000\n",
    "IMAGE_SRS = \"EPSG:32632\"\n",
    "\n",
    "# Processes\n",
    "NDVI_RED = \"B04\"\n",
    "NDVI_NIR = \"B8A\""
   ]
  },
  {
   "cell_type": "code",
   "execution_count": 3,
   "metadata": {},
   "outputs": [
    {
     "data": {
      "text/plain": [
       "<openeo.rest.rest_connection.RESTConnection at 0x7f0c534ae128>"
      ]
     },
     "execution_count": 3,
     "metadata": {},
     "output_type": "execute_result"
    }
   ],
   "source": [
    "# Connect with EURAC backend\n",
    "connection = openeo.connect(EURAC_DRIVER_URL, auth_options={\"username\": user, \"password\": password})\n",
    "connection"
   ]
  },
  {
   "cell_type": "code",
   "execution_count": 4,
   "metadata": {},
   "outputs": [
    {
     "data": {
      "text/plain": [
       "[{'description': 'Creates a subset of data including only the values inside a given data range.',\n",
       "  'exceptions': {},\n",
       "  'name': 'filter_daterange',\n",
       "  'parameters': {'extent': {'description': 'Temporal extent specified by a start and an end time, each formatted as a [RFC 3339](https://www.ietf.org/rfc/rfc3339) date-time. Open date ranges are supported and can be specified by setting one of the times to null. Setting both entries to null is not allowed.',\n",
       "    'required': True,\n",
       "    'schema': {'example': ['2016-01-01T00:00:00Z', '2017-10-01T00:00:00Z'],\n",
       "     'format': 'temporal_extent',\n",
       "     'items': {'format': 'date-time', 'type': ['string', 'null']},\n",
       "     'maxItems': 2,\n",
       "     'minItems': 2,\n",
       "     'type': 'array'}},\n",
       "   'imagery': {'description': 'EO data to process.',\n",
       "    'required': True,\n",
       "    'schema': {'format': 'eodata', 'type': 'object'}}},\n",
       "  'returns': {'description': 'Processed EO data.',\n",
       "   'schema': {'format': 'eodata', 'type': 'object'}},\n",
       "  'summary': 'Filters by Temporal Extent'},\n",
       " {'description': 'Color stretching',\n",
       "  'exceptions': {},\n",
       "  'name': 'stretch_colors',\n",
       "  'parameters': {'imagery': {'description': 'EO data to process.',\n",
       "    'required': True,\n",
       "    'schema': {'format': 'eodata', 'type': 'object'}},\n",
       "   'max': {'description': 'Maximum value',\n",
       "    'required': True,\n",
       "    'schema': {'type': 'number'}},\n",
       "   'min': {'description': 'Minimum value',\n",
       "    'required': True,\n",
       "    'schema': {'type': 'number'}}},\n",
       "  'returns': {'description': 'Processed EO data.',\n",
       "   'schema': {'format': 'eodata', 'type': 'object'}}},\n",
       " {'description': 'Loads data that has been pre-processed by a batch job.',\n",
       "  'exceptions': {'FileFormatNotSupported': {'code': 102,\n",
       "    'description': 'The file format of the specified data set is not supported to be read by the back-end.'},\n",
       "   'NotFound': {'code': 101, 'description': \"Data set doesn't exist.\"}},\n",
       "  'min_parameters': 1,\n",
       "  'name': 'get_results',\n",
       "  'parameters': {'job_id': {'description': 'An identifier of a job on the back-end this process is running on.',\n",
       "    'required': False,\n",
       "    'schema': {'examples': ['12345'], 'type': 'string'}},\n",
       "   'url': {'description': 'An URL to job results.',\n",
       "    'required': False,\n",
       "    'schema': {'examples': ['http://host.com/api/v3/jobs/12345/results'],\n",
       "     'format': 'url',\n",
       "     'type': 'string'}}},\n",
       "  'returns': {'description': 'Processed EO data.',\n",
       "   'schema': {'format': 'eodata', 'type': 'object'}},\n",
       "  'summary': 'Loads results from a job.'},\n",
       " {'description': 'Filters and selects a single collection provided by the back-end. The back-end provider decides which of the potential collections is the most relevant one to be selected.',\n",
       "  'exceptions': {},\n",
       "  'min_parameters': 1,\n",
       "  'name': 'get_collection',\n",
       "  'parameters': {'bands': {'description': 'Filter by band IDs',\n",
       "    'required': False,\n",
       "    'schema': {'items': {'type': ['string']}, 'type': 'array'}},\n",
       "   'license': {'description': 'Filter by license.',\n",
       "    'required': False,\n",
       "    'schema': {'description': 'SPDX License identifier, SPDX expression, or the string proprietary if the license is not on the SPDX license list.',\n",
       "     'examples': ['Apache-2.0'],\n",
       "     'type': 'string'}},\n",
       "   'name': {'description': 'Filter by collection name',\n",
       "    'required': False,\n",
       "    'schema': {'examples': ['Sentinel2A-L1C'], 'type': 'string'}},\n",
       "   'spatial_extent': {'description': 'Filter by spatial extent, may include a vertical axis (height or depth).',\n",
       "    'required': False,\n",
       "    'schema': {'format': 'spatial_extent', 'type': 'object'}},\n",
       "   'temporal_extent': {'description': 'Filter by temporal extent.',\n",
       "    'required': False,\n",
       "    'schema': {'format': 'temporal_extent', 'type': 'array'}}},\n",
       "  'returns': {'description': 'Processed EO data.',\n",
       "   'schema': {'format': 'eodata', 'type': 'object'}},\n",
       "  'summary': 'Selects a collection.'},\n",
       " {'description': 'Finds the maximum value of a time series for every given pixel location for all bands.',\n",
       "  'exceptions': {},\n",
       "  'name': 'max_time',\n",
       "  'parameters': {'imagery': {'description': 'EO data to process.',\n",
       "    'required': True,\n",
       "    'schema': {'format': 'eodata', 'type': 'object'}}},\n",
       "  'returns': {'description': 'Processed EO data.',\n",
       "   'schema': {'format': 'eodata', 'type': 'object'}},\n",
       "  'summary': 'Calculates maximum values of time series.'},\n",
       " {'description': 'Creates a subset in including only values inside a given bounding box.',\n",
       "  'exceptions': {},\n",
       "  'name': 'filter_bbox',\n",
       "  'parameters': {'extent': {'description': 'Spatial extent, may include a vertical axis (height or depth).',\n",
       "    'required': True,\n",
       "    'schema': {'additionalProperties': False,\n",
       "     'format': 'spatial_extent',\n",
       "     'properties': {'base': {'description': 'Base (optional, lower left corner, coordinate axis 3).',\n",
       "       'type': 'number'},\n",
       "      'crs': {'defaultValue': 'EPSG:4326',\n",
       "       'description': 'Coordinate reference system. EPSG codes must be supported. In addition, proj4 strings should be supported by back-ends. Whenever possible, it is recommended to use EPSG codes instead of proj4 strings.\\nDefaults to `EPSG:4326` unless the client explicitly requests a different coordinate reference system.',\n",
       "       'type': 'string'},\n",
       "      'east': {'description': 'East (upper right corner, coordinate axis 1).',\n",
       "       'type': 'number'},\n",
       "      'height': {'description': 'Height (optional, upper right corner, coordinate axis 3).',\n",
       "       'type': 'number'},\n",
       "      'north': {'description': 'North (upper right corner, coordinate axis 2).',\n",
       "       'type': 'number'},\n",
       "      'south': {'description': 'South (lower left corner, coordinate axis 2).',\n",
       "       'type': 'number'},\n",
       "      'west': {'description': 'West (lower left corner, coordinate axis 1).',\n",
       "       'type': 'number'}},\n",
       "     'required': ['west', 'south', 'east', 'north'],\n",
       "     'type': 'object'}},\n",
       "   'imagery': {'description': 'EO data to Process.',\n",
       "    'required': True,\n",
       "    'schema': {'format': 'eodata', 'type': 'object'}}},\n",
       "  'returns': {'description': 'Processed EO data.',\n",
       "   'schema': {'format': 'eodata', 'type': 'object'}},\n",
       "  'summary': 'Filters by Spatial Extent'},\n",
       " {'description': 'Computes the normalized difference vegetation index (NDVI) for all pixels and time slices of the input dataset.',\n",
       "  'exceptions': {'NirBandInvalid': {'description': 'The specified nir band is not available or contains invalid data.'},\n",
       "   'RedBandInvalid': {'description': 'The specified red band is not available or contains invalid data.'}},\n",
       "  'name': 'NDVI',\n",
       "  'parameters': {'imagery': {'description': 'EO data to process.',\n",
       "    'required': True,\n",
       "    'schema': {'format': 'eodata', 'type': 'object'}},\n",
       "   'nir': {'description': 'The name or identifier of band containing the near infrared part of the spectrum',\n",
       "    'required': True,\n",
       "    'schema': {'type': 'string'}},\n",
       "   'red': {'description': 'The name or identifier of band containing the red part of the spectrum',\n",
       "    'required': True,\n",
       "    'schema': {'type': 'string'}}},\n",
       "  'returns': {'description': 'Processed EO data.',\n",
       "   'schema': {'format': 'eodata', 'type': 'object'}},\n",
       "  'summary': 'Calculates the Normalized Difference Vegetation Index.'},\n",
       " {'description': 'Finds the minimum value of a time series for every given pixel location for all bands.',\n",
       "  'exceptions': {},\n",
       "  'name': 'min_time',\n",
       "  'parameters': {'imagery': {'description': 'EO data to process.',\n",
       "    'required': True,\n",
       "    'schema': {'format': 'eodata', 'type': 'object'}}},\n",
       "  'returns': {'description': 'Processed EO data.',\n",
       "   'schema': {'format': 'eodata', 'type': 'object'}},\n",
       "  'summary': 'Calculates minimum values of time series.'}]"
      ]
     },
     "execution_count": 4,
     "metadata": {},
     "output_type": "execute_result"
    }
   ],
   "source": [
    "# Get available processes from the back end.\n",
    "processes = connection.list_processes()\n",
    "processes"
   ]
  },
  {
   "cell_type": "code",
   "execution_count": 5,
   "metadata": {},
   "outputs": [
    {
     "data": {
      "text/plain": [
       "[{'description': 'openEO_S2_32632_60m_L2A',\n",
       "  'extent': {'spatial': [7.708999870256598,\n",
       "    45.958258688421424,\n",
       "    11.802846682908976,\n",
       "    47.819474402432704],\n",
       "   'temporal': ['2018-06-04T00:00:00.000Z', '2018-06-23T00:00:00.000Z']},\n",
       "  'license': 'CC-BY-4.0',\n",
       "  'links': [{'href': 'http://saocompute.eurac.edu/rasdaman/ows?&SERVICE=WCS&VERSION=2.0.1&REQUEST=DescribeCoverage&COVERAGEID=openEO_S2_32632_60m_L2A',\n",
       "    'rel': 'self'},\n",
       "   {'href': 'https://creativecommons.org/licenses/by/4.0/', 'rel': 'license'}],\n",
       "  'name': 'openEO_S2_32632_60m_L2A',\n",
       "  'title': 'openEO_S2_32632_60m_L2A'},\n",
       " {'description': 'openEO_S2_32631_10m_L2A',\n",
       "  'extent': {'spatial': [4.436120625114215,\n",
       "    51.35443938977266,\n",
       "    6.141769904458253,\n",
       "    53.208201372165696],\n",
       "   'temporal': ['2018-04-18T00:00:00.000Z', '2018-07-12T00:00:00.000Z']},\n",
       "  'license': 'CC-BY-4.0',\n",
       "  'links': [{'href': 'http://saocompute.eurac.edu/rasdaman/ows?&SERVICE=WCS&VERSION=2.0.1&REQUEST=DescribeCoverage&COVERAGEID=openEO_S2_32631_10m_L2A',\n",
       "    'rel': 'self'},\n",
       "   {'href': 'https://creativecommons.org/licenses/by/4.0/', 'rel': 'license'}],\n",
       "  'name': 'openEO_S2_32631_10m_L2A',\n",
       "  'title': 'openEO_S2_32631_10m_L2A'}]"
      ]
     },
     "execution_count": 5,
     "metadata": {},
     "output_type": "execute_result"
    }
   ],
   "source": [
    "# Retrieve the list of available collections\n",
    "collections = connection.list_collections()\n",
    "\n",
    "list(collections)[:2]"
   ]
  },
  {
   "cell_type": "code",
   "execution_count": 6,
   "metadata": {},
   "outputs": [
    {
     "data": {
      "text/plain": [
       "{'description': 'S2_L2A_T32TPS_20M',\n",
       " 'eo:bands': {'AOT': {'common_name': 'AOT',\n",
       "   'offset': 'AOT',\n",
       "   'resolution': 'AOT',\n",
       "   'scale': 'AOT'},\n",
       "  'B02': {'common_name': 'B02',\n",
       "   'offset': 'B02',\n",
       "   'resolution': 'B02',\n",
       "   'scale': 'B02'},\n",
       "  'B03': {'common_name': 'B03',\n",
       "   'offset': 'B03',\n",
       "   'resolution': 'B03',\n",
       "   'scale': 'B03'},\n",
       "  'B04': {'common_name': 'B04',\n",
       "   'offset': 'B04',\n",
       "   'resolution': 'B04',\n",
       "   'scale': 'B04'},\n",
       "  'B05': {'common_name': 'B05',\n",
       "   'offset': 'B05',\n",
       "   'resolution': 'B05',\n",
       "   'scale': 'B05'},\n",
       "  'B06': {'common_name': 'B06',\n",
       "   'offset': 'B06',\n",
       "   'resolution': 'B06',\n",
       "   'scale': 'B06'},\n",
       "  'B07': {'common_name': 'B07',\n",
       "   'offset': 'B07',\n",
       "   'resolution': 'B07',\n",
       "   'scale': 'B07'},\n",
       "  'B11': {'common_name': 'B11',\n",
       "   'offset': 'B11',\n",
       "   'resolution': 'B11',\n",
       "   'scale': 'B11'},\n",
       "  'B12': {'common_name': 'B12',\n",
       "   'offset': 'B12',\n",
       "   'resolution': 'B12',\n",
       "   'scale': 'B12'},\n",
       "  'B8A': {'common_name': 'B8A',\n",
       "   'offset': 'B8A',\n",
       "   'resolution': 'B8A',\n",
       "   'scale': 'B8A'},\n",
       "  'CLD': {'common_name': 'CLD',\n",
       "   'offset': 'CLD',\n",
       "   'resolution': 'CLD',\n",
       "   'scale': 'CLD'},\n",
       "  'SCL': {'common_name': 'SCL',\n",
       "   'offset': 'SCL',\n",
       "   'resolution': 'SCL',\n",
       "   'scale': 'SCL'},\n",
       "  'SNW': {'common_name': 'SNW',\n",
       "   'offset': 'SNW',\n",
       "   'resolution': 'SNW',\n",
       "   'scale': 'SNW'},\n",
       "  'VIS': {'common_name': 'VIS',\n",
       "   'offset': 'VIS',\n",
       "   'resolution': 'VIS',\n",
       "   'scale': 'VIS'},\n",
       "  'WVP': {'common_name': 'WVP',\n",
       "   'offset': 'WVP',\n",
       "   'resolution': 'WVP',\n",
       "   'scale': 'WVP'}},\n",
       " 'eo:constellation': 'Sentinel',\n",
       " 'eo:epsg': 32632,\n",
       " 'eo:platform': 'S2_L2A_T32TPS_20M',\n",
       " 'extent': {'spatial': [10.290484068720962,\n",
       "   45.95826451791657,\n",
       "   11.75558491604966,\n",
       "   46.920536387674076],\n",
       "  'temporal': ['2015-06-27T00:00:00.000Z', '2017-10-31T00:00:00.000Z']},\n",
       " 'keywords': [],\n",
       " 'license': 'CC-BY-4.0',\n",
       " 'links': [{'href': 'http://saocompute.eurac.edu/rasdaman/ows?&SERVICE=WCS&VERSION=2.0.1&REQUEST=DescribeCoverage&COVERAGEID=S2_L2A_T32TPS_20M',\n",
       "   'rel': 'self'},\n",
       "  {'href': 'https://creativecommons.org/licenses/by/4.0/', 'rel': 'license'},\n",
       "  {'href': 'http://saocompute.eurac.edu/rasdaman/ows?&SERVICE=WCS&VERSION=2.0.1&REQUEST=DescribeCoverage&COVERAGEID=S2_L2A_T32TPS_20M',\n",
       "   'rel': 'about',\n",
       "   'title': 'http://saocompute.eurac.edu/rasdaman/ows?&SERVICE=WCS&VERSION=2.0.1&REQUEST=DescribeCoverage&COVERAGEID=S2_L2A_T32TPS_20M'}],\n",
       " 'name': 'S2_L2A_T32TPS_20M',\n",
       " 'provider': [{'url': 'S2_L2A_T32TPS_20M'}],\n",
       " 'sci:citation': 'S2_L2A_T32TPS_20M'}"
      ]
     },
     "execution_count": 6,
     "metadata": {},
     "output_type": "execute_result"
    }
   ],
   "source": [
    "# Get detailed information about a collection\n",
    "process = connection.describe_collection(PRODUCT_ID)\n",
    "process"
   ]
  },
  {
   "cell_type": "code",
   "execution_count": 7,
   "metadata": {},
   "outputs": [
    {
     "data": {
      "text/plain": [
       "{'name': 'S2_L2A_T32TPS_20M', 'process_id': 'get_collection'}"
      ]
     },
     "execution_count": 7,
     "metadata": {},
     "output_type": "execute_result"
    }
   ],
   "source": [
    "# Select collection product\n",
    "datacube = connection.imagecollection(PRODUCT_ID)\n",
    "\n",
    "datacube.graph"
   ]
  },
  {
   "cell_type": "code",
   "execution_count": 8,
   "metadata": {},
   "outputs": [
    {
     "data": {
      "text/plain": [
       "{'extent': ['2016-01-01', '2016-03-10'],\n",
       " 'imagery': {'extent': {'crs': 'EPSG:32632',\n",
       "   'east': 672000,\n",
       "   'north': 5161000,\n",
       "   'south': 5181000,\n",
       "   'west': 652000},\n",
       "  'imagery': {'name': 'S2_L2A_T32TPS_20M', 'process_id': 'get_collection'},\n",
       "  'process_id': 'filter_bbox'},\n",
       " 'process_id': 'filter_daterange'}"
      ]
     },
     "execution_count": 8,
     "metadata": {},
     "output_type": "execute_result"
    }
   ],
   "source": [
    "# Specifying the date range and the bounding box\n",
    "datacube = datacube.filter_bbox(west=IMAGE_WEST, east=IMAGE_EAST, north=IMAGE_NORTH,\n",
    "                                             south=IMAGE_SOUTH, crs=IMAGE_SRS)\n",
    "datacube = datacube.filter_daterange(extent=[DATE_START, DATE_END])\n",
    "\n",
    "datacube.graph"
   ]
  },
  {
   "cell_type": "code",
   "execution_count": 9,
   "metadata": {},
   "outputs": [
    {
     "data": {
      "text/plain": [
       "<openeo.rest.job.RESTJob at 0x7f0c888950f0>"
      ]
     },
     "execution_count": 9,
     "metadata": {},
     "output_type": "execute_result"
    }
   ],
   "source": [
    "# Sending the job to the backend\n",
    "job = connection.create_job(datacube.graph)\n",
    "job.start_job()\n",
    "job"
   ]
  },
  {
   "cell_type": "code",
   "execution_count": 16,
   "metadata": {},
   "outputs": [
    {
     "data": {
      "text/plain": [
       "{'consumed_credits': None,\n",
       " 'job_id': 'b6fb84ad-056e-449a-91e9-56d2515aa5b2',\n",
       " 'output': '{\"format\":null,\"parameters\":{}}',\n",
       " 'process_graph': '{\"extent\":[\"2016-01-01\",\"2016-03-10\"],\"process_id\":\"filter_daterange\",\"imagery\":{\"extent\":{\"east\":672000,\"crs\":\"EPSG:32632\",\"south\":5181000,\"north\":5161000,\"west\":652000},\"process_id\":\"filter_bbox\",\"imagery\":{\"process_id\":\"get_collection\",\"name\":\"S2_L2A_T32TPS_20M\"}}}',\n",
       " 'status': 'QUEUED',\n",
       " 'submitted': '21 May 2019 13:04:24 GMT',\n",
       " 'updated': '21 May 2019 13:04:24 GMT',\n",
       " 'user_id': None}"
      ]
     },
     "execution_count": 16,
     "metadata": {},
     "output_type": "execute_result"
    }
   ],
   "source": [
    "# Describe Job\n",
    "job.describe_job()"
   ]
  },
  {
   "cell_type": "code",
   "execution_count": 19,
   "metadata": {},
   "outputs": [
    {
     "ename": "ConnectionAbortedError",
     "evalue": "<html><head><title>Apache Tomcat/7.0.76 - Error report</title><style><!--H1 {font-family:Tahoma,Arial,sans-serif;color:white;background-color:#525D76;font-size:22px;} H2 {font-family:Tahoma,Arial,sans-serif;color:white;background-color:#525D76;font-size:16px;} H3 {font-family:Tahoma,Arial,sans-serif;color:white;background-color:#525D76;font-size:14px;} BODY {font-family:Tahoma,Arial,sans-serif;color:black;background-color:white;} B {font-family:Tahoma,Arial,sans-serif;color:white;background-color:#525D76;} P {font-family:Tahoma,Arial,sans-serif;background:white;color:black;font-size:12px;}A {color : black;}A.name {color : black;}HR {color : #525D76;}--></style> </head><body><h1>HTTP Status 500 - org.json.JSONException: A JSONObject text must begin with '{' at 1 [character 2 line 1]</h1><HR size=\"1\" noshade=\"noshade\"><p><b>type</b> Exception report</p><p><b>message</b> <u>org.json.JSONException: A JSONObject text must begin with '{' at 1 [character 2 line 1]</u></p><p><b>description</b> <u>The server encountered an internal error that prevented it from fulfilling this request.</u></p><p><b>exception</b> <pre>javax.servlet.ServletException: org.json.JSONException: A JSONObject text must begin with '{' at 1 [character 2 line 1]\n\torg.glassfish.jersey.servlet.WebComponent.serviceImpl(WebComponent.java:489)\n\torg.glassfish.jersey.servlet.WebComponent.service(WebComponent.java:427)\n\torg.glassfish.jersey.servlet.ServletContainer.service(ServletContainer.java:388)\n\torg.glassfish.jersey.servlet.ServletContainer.service(ServletContainer.java:341)\n\torg.glassfish.jersey.servlet.ServletContainer.service(ServletContainer.java:228)\n\torg.apache.tomcat.websocket.server.WsFilter.doFilter(WsFilter.java:52)\n\teu.openeo.api.ApiOriginFilter.doFilter(ApiOriginFilter.java:20)\n</pre></p><p><b>root cause</b> <pre>org.json.JSONException: A JSONObject text must begin with '{' at 1 [character 2 line 1]\n\torg.json.JSONTokener.syntaxError(JSONTokener.java:451)\n\torg.json.JSONObject.&lt;init&gt;(JSONObject.java:196)\n\torg.json.JSONObject.&lt;init&gt;(JSONObject.java:320)\n\teu.openeo.model.JobFull.getProcessGraph(JobFull.java:140)\n\teu.openeo.api.impl.PreviewApiServiceImpl.previewPost(PreviewApiServiceImpl.java:53)\n\teu.openeo.api.PreviewApi.previewPost(PreviewApi.java:81)\n\tsun.reflect.GeneratedMethodAccessor63.invoke(Unknown Source)\n\tsun.reflect.DelegatingMethodAccessorImpl.invoke(DelegatingMethodAccessorImpl.java:43)\n\tjava.lang.reflect.Method.invoke(Method.java:498)\n\torg.glassfish.jersey.server.model.internal.ResourceMethodInvocationHandlerFactory$1.invoke(ResourceMethodInvocationHandlerFactory.java:81)\n\torg.glassfish.jersey.server.model.internal.AbstractJavaResourceMethodDispatcher$1.run(AbstractJavaResourceMethodDispatcher.java:144)\n\torg.glassfish.jersey.server.model.internal.AbstractJavaResourceMethodDispatcher.invoke(AbstractJavaResourceMethodDispatcher.java:161)\n\torg.glassfish.jersey.server.model.internal.JavaResourceMethodDispatcherProvider$ResponseOutInvoker.doDispatch(JavaResourceMethodDispatcherProvider.java:160)\n\torg.glassfish.jersey.server.model.internal.AbstractJavaResourceMethodDispatcher.dispatch(AbstractJavaResourceMethodDispatcher.java:99)\n\torg.glassfish.jersey.server.model.ResourceMethodInvoker.invoke(ResourceMethodInvoker.java:389)\n\torg.glassfish.jersey.server.model.ResourceMethodInvoker.apply(ResourceMethodInvoker.java:347)\n\torg.glassfish.jersey.server.model.ResourceMethodInvoker.apply(ResourceMethodInvoker.java:102)\n\torg.glassfish.jersey.server.ServerRuntime$2.run(ServerRuntime.java:326)\n\torg.glassfish.jersey.internal.Errors$1.call(Errors.java:271)\n\torg.glassfish.jersey.internal.Errors$1.call(Errors.java:267)\n\torg.glassfish.jersey.internal.Errors.process(Errors.java:315)\n\torg.glassfish.jersey.internal.Errors.process(Errors.java:297)\n\torg.glassfish.jersey.internal.Errors.process(Errors.java:267)\n\torg.glassfish.jersey.process.internal.RequestScope.runInScope(RequestScope.java:317)\n\torg.glassfish.jersey.server.ServerRuntime.process(ServerRuntime.java:305)\n\torg.glassfish.jersey.server.ApplicationHandler.handle(ApplicationHandler.java:1154)\n\torg.glassfish.jersey.servlet.WebComponent.serviceImpl(WebComponent.java:473)\n\torg.glassfish.jersey.servlet.WebComponent.service(WebComponent.java:427)\n\torg.glassfish.jersey.servlet.ServletContainer.service(ServletContainer.java:388)\n\torg.glassfish.jersey.servlet.ServletContainer.service(ServletContainer.java:341)\n\torg.glassfish.jersey.servlet.ServletContainer.service(ServletContainer.java:228)\n\torg.apache.tomcat.websocket.server.WsFilter.doFilter(WsFilter.java:52)\n\teu.openeo.api.ApiOriginFilter.doFilter(ApiOriginFilter.java:20)\n</pre></p><p><b>note</b> <u>The full stack trace of the root cause is available in the Apache Tomcat/7.0.76 logs.</u></p><HR size=\"1\" noshade=\"noshade\"><h3>Apache Tomcat/7.0.76</h3></body></html>",
     "output_type": "error",
     "traceback": [
      "\u001b[0;31m---------------------------------------------------------------------------\u001b[0m",
      "\u001b[0;31mConnectionAbortedError\u001b[0m                    Traceback (most recent call last)",
      "\u001b[0;32m<ipython-input-19-dcdf7c0734d4>\u001b[0m in \u001b[0;36m<module>\u001b[0;34m\u001b[0m\n\u001b[1;32m      1\u001b[0m \u001b[0;31m# Download job result\u001b[0m\u001b[0;34m\u001b[0m\u001b[0;34m\u001b[0m\u001b[0m\n\u001b[0;32m----> 2\u001b[0;31m \u001b[0mresp\u001b[0m \u001b[0;34m=\u001b[0m \u001b[0mconnection\u001b[0m\u001b[0;34m.\u001b[0m\u001b[0mexecute\u001b[0m\u001b[0;34m(\u001b[0m\u001b[0mdatacube\u001b[0m\u001b[0;34m.\u001b[0m\u001b[0mgraph\u001b[0m\u001b[0;34m,\u001b[0m \u001b[0mOUTPUT_FILE\u001b[0m\u001b[0;34m,\u001b[0m \u001b[0mOUTFORMAT\u001b[0m\u001b[0;34m)\u001b[0m\u001b[0;34m\u001b[0m\u001b[0m\n\u001b[0m\u001b[1;32m      3\u001b[0m \u001b[0;31m#job.download_results(OUTPUT_FILE)\u001b[0m\u001b[0;34m\u001b[0m\u001b[0;34m\u001b[0m\u001b[0m\n\u001b[1;32m      4\u001b[0m \u001b[0;34m\u001b[0m\u001b[0m\n\u001b[1;32m      5\u001b[0m \u001b[0mresp\u001b[0m\u001b[0;34m\u001b[0m\u001b[0m\n",
      "\u001b[0;32m/data/REPO/openeo-python-client/openeo/rest/rest_connection.py\u001b[0m in \u001b[0;36mexecute\u001b[0;34m(self, process_graph, output_format, output_parameters, budget)\u001b[0m\n\u001b[1;32m    382\u001b[0m             \u001b[0mpath\u001b[0m \u001b[0;34m=\u001b[0m \u001b[0;34m\"/result\"\u001b[0m\u001b[0;34m\u001b[0m\u001b[0m\n\u001b[1;32m    383\u001b[0m         \u001b[0mresponse\u001b[0m \u001b[0;34m=\u001b[0m \u001b[0mself\u001b[0m\u001b[0;34m.\u001b[0m\u001b[0mpost\u001b[0m\u001b[0;34m(\u001b[0m\u001b[0mself\u001b[0m\u001b[0;34m.\u001b[0m\u001b[0mroot\u001b[0m \u001b[0;34m+\u001b[0m \u001b[0mpath\u001b[0m\u001b[0;34m,\u001b[0m \u001b[0mprocess_graph\u001b[0m\u001b[0;34m)\u001b[0m\u001b[0;34m\u001b[0m\u001b[0m\n\u001b[0;32m--> 384\u001b[0;31m         \u001b[0;32mreturn\u001b[0m \u001b[0mself\u001b[0m\u001b[0;34m.\u001b[0m\u001b[0mparse_json_response\u001b[0m\u001b[0;34m(\u001b[0m\u001b[0mresponse\u001b[0m\u001b[0;34m)\u001b[0m\u001b[0;34m\u001b[0m\u001b[0m\n\u001b[0m\u001b[1;32m    385\u001b[0m \u001b[0;34m\u001b[0m\u001b[0m\n\u001b[1;32m    386\u001b[0m     def create_job(self, process_graph, output_format=None, output_parameters={},\n",
      "\u001b[0;32m/data/REPO/openeo-python-client/openeo/rest/rest_connection.py\u001b[0m in \u001b[0;36mparse_json_response\u001b[0;34m(self, response)\u001b[0m\n\u001b[1;32m    438\u001b[0m             \u001b[0;32mreturn\u001b[0m \u001b[0mresponse\u001b[0m\u001b[0;34m.\u001b[0m\u001b[0mjson\u001b[0m\u001b[0;34m(\u001b[0m\u001b[0;34m)\u001b[0m\u001b[0;34m\u001b[0m\u001b[0m\n\u001b[1;32m    439\u001b[0m         \u001b[0;32melse\u001b[0m\u001b[0;34m:\u001b[0m\u001b[0;34m\u001b[0m\u001b[0m\n\u001b[0;32m--> 440\u001b[0;31m             \u001b[0mself\u001b[0m\u001b[0;34m.\u001b[0m\u001b[0m_handle_error_response\u001b[0m\u001b[0;34m(\u001b[0m\u001b[0mresponse\u001b[0m\u001b[0;34m)\u001b[0m\u001b[0;34m\u001b[0m\u001b[0m\n\u001b[0m\u001b[1;32m    441\u001b[0m \u001b[0;34m\u001b[0m\u001b[0m\n\u001b[1;32m    442\u001b[0m     \u001b[0;32mdef\u001b[0m \u001b[0m_handle_error_response\u001b[0m\u001b[0;34m(\u001b[0m\u001b[0mself\u001b[0m\u001b[0;34m,\u001b[0m \u001b[0mresponse\u001b[0m\u001b[0;34m)\u001b[0m\u001b[0;34m:\u001b[0m\u001b[0;34m\u001b[0m\u001b[0m\n",
      "\u001b[0;32m/data/REPO/openeo-python-client/openeo/rest/rest_connection.py\u001b[0m in \u001b[0;36m_handle_error_response\u001b[0;34m(self, response)\u001b[0m\n\u001b[1;32m    451\u001b[0m                 \u001b[0mmessage\u001b[0m \u001b[0;34m=\u001b[0m \u001b[0mresponse\u001b[0m\u001b[0;34m.\u001b[0m\u001b[0mtext\u001b[0m\u001b[0;34m\u001b[0m\u001b[0m\n\u001b[1;32m    452\u001b[0m \u001b[0;34m\u001b[0m\u001b[0m\n\u001b[0;32m--> 453\u001b[0;31m             \u001b[0;32mraise\u001b[0m \u001b[0mConnectionAbortedError\u001b[0m\u001b[0;34m(\u001b[0m\u001b[0mmessage\u001b[0m\u001b[0;34m)\u001b[0m\u001b[0;34m\u001b[0m\u001b[0m\n\u001b[0m\u001b[1;32m    454\u001b[0m \u001b[0;34m\u001b[0m\u001b[0m\n\u001b[1;32m    455\u001b[0m     \u001b[0;32mdef\u001b[0m \u001b[0mpost\u001b[0m\u001b[0;34m(\u001b[0m\u001b[0mself\u001b[0m\u001b[0;34m,\u001b[0m \u001b[0mpath\u001b[0m\u001b[0;34m,\u001b[0m \u001b[0mpostdata\u001b[0m\u001b[0;34m)\u001b[0m\u001b[0;34m:\u001b[0m\u001b[0;34m\u001b[0m\u001b[0m\n",
      "\u001b[0;31mConnectionAbortedError\u001b[0m: <html><head><title>Apache Tomcat/7.0.76 - Error report</title><style><!--H1 {font-family:Tahoma,Arial,sans-serif;color:white;background-color:#525D76;font-size:22px;} H2 {font-family:Tahoma,Arial,sans-serif;color:white;background-color:#525D76;font-size:16px;} H3 {font-family:Tahoma,Arial,sans-serif;color:white;background-color:#525D76;font-size:14px;} BODY {font-family:Tahoma,Arial,sans-serif;color:black;background-color:white;} B {font-family:Tahoma,Arial,sans-serif;color:white;background-color:#525D76;} P {font-family:Tahoma,Arial,sans-serif;background:white;color:black;font-size:12px;}A {color : black;}A.name {color : black;}HR {color : #525D76;}--></style> </head><body><h1>HTTP Status 500 - org.json.JSONException: A JSONObject text must begin with '{' at 1 [character 2 line 1]</h1><HR size=\"1\" noshade=\"noshade\"><p><b>type</b> Exception report</p><p><b>message</b> <u>org.json.JSONException: A JSONObject text must begin with '{' at 1 [character 2 line 1]</u></p><p><b>description</b> <u>The server encountered an internal error that prevented it from fulfilling this request.</u></p><p><b>exception</b> <pre>javax.servlet.ServletException: org.json.JSONException: A JSONObject text must begin with '{' at 1 [character 2 line 1]\n\torg.glassfish.jersey.servlet.WebComponent.serviceImpl(WebComponent.java:489)\n\torg.glassfish.jersey.servlet.WebComponent.service(WebComponent.java:427)\n\torg.glassfish.jersey.servlet.ServletContainer.service(ServletContainer.java:388)\n\torg.glassfish.jersey.servlet.ServletContainer.service(ServletContainer.java:341)\n\torg.glassfish.jersey.servlet.ServletContainer.service(ServletContainer.java:228)\n\torg.apache.tomcat.websocket.server.WsFilter.doFilter(WsFilter.java:52)\n\teu.openeo.api.ApiOriginFilter.doFilter(ApiOriginFilter.java:20)\n</pre></p><p><b>root cause</b> <pre>org.json.JSONException: A JSONObject text must begin with '{' at 1 [character 2 line 1]\n\torg.json.JSONTokener.syntaxError(JSONTokener.java:451)\n\torg.json.JSONObject.&lt;init&gt;(JSONObject.java:196)\n\torg.json.JSONObject.&lt;init&gt;(JSONObject.java:320)\n\teu.openeo.model.JobFull.getProcessGraph(JobFull.java:140)\n\teu.openeo.api.impl.PreviewApiServiceImpl.previewPost(PreviewApiServiceImpl.java:53)\n\teu.openeo.api.PreviewApi.previewPost(PreviewApi.java:81)\n\tsun.reflect.GeneratedMethodAccessor63.invoke(Unknown Source)\n\tsun.reflect.DelegatingMethodAccessorImpl.invoke(DelegatingMethodAccessorImpl.java:43)\n\tjava.lang.reflect.Method.invoke(Method.java:498)\n\torg.glassfish.jersey.server.model.internal.ResourceMethodInvocationHandlerFactory$1.invoke(ResourceMethodInvocationHandlerFactory.java:81)\n\torg.glassfish.jersey.server.model.internal.AbstractJavaResourceMethodDispatcher$1.run(AbstractJavaResourceMethodDispatcher.java:144)\n\torg.glassfish.jersey.server.model.internal.AbstractJavaResourceMethodDispatcher.invoke(AbstractJavaResourceMethodDispatcher.java:161)\n\torg.glassfish.jersey.server.model.internal.JavaResourceMethodDispatcherProvider$ResponseOutInvoker.doDispatch(JavaResourceMethodDispatcherProvider.java:160)\n\torg.glassfish.jersey.server.model.internal.AbstractJavaResourceMethodDispatcher.dispatch(AbstractJavaResourceMethodDispatcher.java:99)\n\torg.glassfish.jersey.server.model.ResourceMethodInvoker.invoke(ResourceMethodInvoker.java:389)\n\torg.glassfish.jersey.server.model.ResourceMethodInvoker.apply(ResourceMethodInvoker.java:347)\n\torg.glassfish.jersey.server.model.ResourceMethodInvoker.apply(ResourceMethodInvoker.java:102)\n\torg.glassfish.jersey.server.ServerRuntime$2.run(ServerRuntime.java:326)\n\torg.glassfish.jersey.internal.Errors$1.call(Errors.java:271)\n\torg.glassfish.jersey.internal.Errors$1.call(Errors.java:267)\n\torg.glassfish.jersey.internal.Errors.process(Errors.java:315)\n\torg.glassfish.jersey.internal.Errors.process(Errors.java:297)\n\torg.glassfish.jersey.internal.Errors.process(Errors.java:267)\n\torg.glassfish.jersey.process.internal.RequestScope.runInScope(RequestScope.java:317)\n\torg.glassfish.jersey.server.ServerRuntime.process(ServerRuntime.java:305)\n\torg.glassfish.jersey.server.ApplicationHandler.handle(ApplicationHandler.java:1154)\n\torg.glassfish.jersey.servlet.WebComponent.serviceImpl(WebComponent.java:473)\n\torg.glassfish.jersey.servlet.WebComponent.service(WebComponent.java:427)\n\torg.glassfish.jersey.servlet.ServletContainer.service(ServletContainer.java:388)\n\torg.glassfish.jersey.servlet.ServletContainer.service(ServletContainer.java:341)\n\torg.glassfish.jersey.servlet.ServletContainer.service(ServletContainer.java:228)\n\torg.apache.tomcat.websocket.server.WsFilter.doFilter(WsFilter.java:52)\n\teu.openeo.api.ApiOriginFilter.doFilter(ApiOriginFilter.java:20)\n</pre></p><p><b>note</b> <u>The full stack trace of the root cause is available in the Apache Tomcat/7.0.76 logs.</u></p><HR size=\"1\" noshade=\"noshade\"><h3>Apache Tomcat/7.0.76</h3></body></html>"
     ]
    }
   ],
   "source": [
    "# Download job result\n",
    "resp = connection.execute(datacube.graph, OUTPUT_FILE, OUTFORMAT)\n",
    "#job.download_results(OUTPUT_FILE)\n",
    "\n",
    "resp"
   ]
  },
  {
   "cell_type": "code",
   "execution_count": 7,
   "metadata": {},
   "outputs": [
    {
     "name": "stdout",
     "output_type": "stream",
     "text": [
      "odict_keys(['B8A', 'E', 'N'])\n",
      "<class 'netCDF4._netCDF4.Variable'>\n",
      "float64 B8A(E, N)\n",
      "    missing_value: NaN\n",
      "    units: 10^0\n",
      "unlimited dimensions: \n",
      "current shape = (1000, 1000)\n",
      "filling off\n",
      "\n"
     ]
    },
    {
     "name": "stderr",
     "output_type": "stream",
     "text": [
      "/data/.pyenv/versions/miniconda3-latest/envs/openeo-client/lib/python3.6/site-packages/ipykernel_launcher.py:14: UserWarning: WARNING: missing_value not used since it\n",
      "cannot be safely cast to variable data type\n",
      "  \n"
     ]
    }
   ],
   "source": [
    "import matplotlib.pyplot as plt\n",
    "import netCDF4\n",
    "import numpy as np\n",
    "\n",
    "# open a local NetCDF file or remote OPeNDAP URL\n",
    "url = '/tmp/openeo-wcps.nc'\n",
    "nc = netCDF4.Dataset(url)\n",
    "\n",
    "# examine the variables\n",
    "print (nc.variables.keys())\n",
    "print (nc.variables['B8A'])\n",
    "\n",
    "# sample every 10th point of the 'B8A' variable\n",
    "topo = nc.variables['B8A'][::1,::1]\n",
    "topo = np.flipud(np.rot90(topo)) \n",
    "\n",
    "# make image\n",
    "plt.figure(figsize=(100,100))\n",
    "plt.imshow(topo,origin='lower') \n",
    "plt.title('EURAC Plot')\n",
    "plt.savefig('/tmp/image.png', bbox_inches=0)"
   ]
  },
  {
   "cell_type": "code",
   "execution_count": null,
   "metadata": {},
   "outputs": [],
   "source": []
  }
 ],
 "metadata": {
  "kernelspec": {
   "display_name": "Python 3",
   "language": "python",
   "name": "python3"
  },
  "language_info": {
   "codemirror_mode": {
    "name": "ipython",
    "version": 3
   },
   "file_extension": ".py",
   "mimetype": "text/x-python",
   "name": "python",
   "nbconvert_exporter": "python",
   "pygments_lexer": "ipython3",
   "version": "3.5.6"
  }
 },
 "nbformat": 4,
 "nbformat_minor": 2
}
